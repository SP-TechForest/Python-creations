{
  "nbformat": 4,
  "nbformat_minor": 0,
  "metadata": {
    "colab": {
      "name": "Tensorflow.ipynb",
      "provenance": [],
      "authorship_tag": "ABX9TyM2de3wnu0n1gH6rr8EfA5r",
      "include_colab_link": true
    },
    "kernelspec": {
      "name": "python3",
      "display_name": "Python 3"
    },
    "language_info": {
      "name": "python"
    }
  },
  "cells": [
    {
      "cell_type": "markdown",
      "metadata": {
        "id": "view-in-github",
        "colab_type": "text"
      },
      "source": [
        "<a href=\"https://colab.research.google.com/github/SP-TechForest/Python-creations/blob/main/Tensorflow.ipynb\" target=\"_parent\"><img src=\"https://colab.research.google.com/assets/colab-badge.svg\" alt=\"Open In Colab\"/></a>"
      ]
    },
    {
      "cell_type": "code",
      "execution_count": 2,
      "metadata": {
        "id": "q-XEPOQNrUie"
      },
      "outputs": [],
      "source": [
        "import tensorflow as tf\n",
        "import pandas"
      ]
    },
    {
      "cell_type": "code",
      "source": [
        "print(tf.__version__)"
      ],
      "metadata": {
        "id": "SjNOXR-7uy71",
        "colab": {
          "base_uri": "https://localhost:8080/"
        },
        "outputId": "128ca0ad-1025-410a-ba21-8dcf5a0fa089"
      },
      "execution_count": 3,
      "outputs": [
        {
          "output_type": "stream",
          "name": "stdout",
          "text": [
            "2.7.0\n"
          ]
        }
      ]
    },
    {
      "cell_type": "code",
      "source": [
        "scalar = tf.constant(7)"
      ],
      "metadata": {
        "id": "qwh4UZJZu4be"
      },
      "execution_count": 4,
      "outputs": []
    },
    {
      "cell_type": "markdown",
      "source": [
        "# Use of COnstant and Variable to make tensors<hr>"
      ],
      "metadata": {
        "id": "0gfHbcO6_WSb"
      }
    },
    {
      "cell_type": "code",
      "source": [
        "scalar"
      ],
      "metadata": {
        "colab": {
          "base_uri": "https://localhost:8080/"
        },
        "id": "NJiWOdwkxU_o",
        "outputId": "9ff41238-460d-4fe5-f7b0-799f7a844ac4"
      },
      "execution_count": 5,
      "outputs": [
        {
          "output_type": "execute_result",
          "data": {
            "text/plain": [
              "<tf.Tensor: shape=(), dtype=int32, numpy=7>"
            ]
          },
          "metadata": {},
          "execution_count": 5
        }
      ]
    },
    {
      "cell_type": "code",
      "source": [
        "scalar.ndim"
      ],
      "metadata": {
        "colab": {
          "base_uri": "https://localhost:8080/"
        },
        "id": "ZKby-aUzxVjj",
        "outputId": "401c740e-1b97-425e-e540-bdd14ee638a3"
      },
      "execution_count": 6,
      "outputs": [
        {
          "output_type": "execute_result",
          "data": {
            "text/plain": [
              "0"
            ]
          },
          "metadata": {},
          "execution_count": 6
        }
      ]
    },
    {
      "cell_type": "code",
      "source": [
        "vector = tf.constant([10,20])\n",
        "vector"
      ],
      "metadata": {
        "colab": {
          "base_uri": "https://localhost:8080/"
        },
        "id": "LYsU6Z8qxsBE",
        "outputId": "f2244959-8194-4a4b-a6ce-92a50bc8c6e1"
      },
      "execution_count": 9,
      "outputs": [
        {
          "output_type": "execute_result",
          "data": {
            "text/plain": [
              "<tf.Tensor: shape=(2,), dtype=int32, numpy=array([10, 20], dtype=int32)>"
            ]
          },
          "metadata": {},
          "execution_count": 9
        }
      ]
    },
    {
      "cell_type": "code",
      "source": [
        "vector.ndim"
      ],
      "metadata": {
        "colab": {
          "base_uri": "https://localhost:8080/"
        },
        "id": "i8pfJ4XJx0i8",
        "outputId": "9f702e58-ea2a-4bd7-c500-b5964559b06f"
      },
      "execution_count": 10,
      "outputs": [
        {
          "output_type": "execute_result",
          "data": {
            "text/plain": [
              "1"
            ]
          },
          "metadata": {},
          "execution_count": 10
        }
      ]
    },
    {
      "cell_type": "code",
      "source": [
        "matrix = tf.constant([[1,2]\n",
        "                      ,[3,4]])\n",
        "matrix"
      ],
      "metadata": {
        "colab": {
          "base_uri": "https://localhost:8080/"
        },
        "id": "lZt5ERa1x11V",
        "outputId": "c3054593-7d41-4078-ae53-1d4a89f7abfd"
      },
      "execution_count": 12,
      "outputs": [
        {
          "output_type": "execute_result",
          "data": {
            "text/plain": [
              "<tf.Tensor: shape=(2, 2), dtype=int32, numpy=\n",
              "array([[1, 2],\n",
              "       [3, 4]], dtype=int32)>"
            ]
          },
          "metadata": {},
          "execution_count": 12
        }
      ]
    },
    {
      "cell_type": "code",
      "source": [
        "matrix.ndim"
      ],
      "metadata": {
        "colab": {
          "base_uri": "https://localhost:8080/"
        },
        "id": "qpzrUwZ-yKmq",
        "outputId": "d8644846-9313-4ee0-f268-0709d8bc042d"
      },
      "execution_count": 13,
      "outputs": [
        {
          "output_type": "execute_result",
          "data": {
            "text/plain": [
              "2"
            ]
          },
          "metadata": {},
          "execution_count": 13
        }
      ]
    },
    {
      "cell_type": "code",
      "source": [
        "matrix2 = tf.constant([[1,2,3],[4,5,6],[6,7,8]], dtype = tf.float16)"
      ],
      "metadata": {
        "id": "0GwaOX5RyPpj"
      },
      "execution_count": 18,
      "outputs": []
    },
    {
      "cell_type": "code",
      "source": [
        "matrix2"
      ],
      "metadata": {
        "colab": {
          "base_uri": "https://localhost:8080/"
        },
        "id": "9nnJgBQ-yc74",
        "outputId": "8e69a90a-4b81-4e03-f98c-8df693532bcf"
      },
      "execution_count": 19,
      "outputs": [
        {
          "output_type": "execute_result",
          "data": {
            "text/plain": [
              "<tf.Tensor: shape=(3, 3), dtype=float16, numpy=\n",
              "array([[1., 2., 3.],\n",
              "       [4., 5., 6.],\n",
              "       [6., 7., 8.]], dtype=float16)>"
            ]
          },
          "metadata": {},
          "execution_count": 19
        }
      ]
    },
    {
      "cell_type": "code",
      "source": [
        "tensor = tf.constant([[[1,2,3,4],\n",
        "                      [5,6,7,8]],\n",
        "                     [[1,2,3,4],\n",
        "                      [1,2,3,4]],\n",
        "                     [[1,2,3,4],\n",
        "                      [1,2,3,4]]])\n",
        "tensor"
      ],
      "metadata": {
        "colab": {
          "base_uri": "https://localhost:8080/"
        },
        "id": "YEbXCdgiyeqH",
        "outputId": "adff50b8-b43d-41b4-923e-93a42b2b1af5"
      },
      "execution_count": 25,
      "outputs": [
        {
          "output_type": "execute_result",
          "data": {
            "text/plain": [
              "<tf.Tensor: shape=(3, 2, 4), dtype=int32, numpy=\n",
              "array([[[1, 2, 3, 4],\n",
              "        [5, 6, 7, 8]],\n",
              "\n",
              "       [[1, 2, 3, 4],\n",
              "        [1, 2, 3, 4]],\n",
              "\n",
              "       [[1, 2, 3, 4],\n",
              "        [1, 2, 3, 4]]], dtype=int32)>"
            ]
          },
          "metadata": {},
          "execution_count": 25
        }
      ]
    },
    {
      "cell_type": "code",
      "source": [
        "tensor.ndim"
      ],
      "metadata": {
        "colab": {
          "base_uri": "https://localhost:8080/"
        },
        "id": "ukEri4tqzWHt",
        "outputId": "50827a24-2df4-4f9c-ce3d-4732d7a8e0f2"
      },
      "execution_count": 26,
      "outputs": [
        {
          "output_type": "execute_result",
          "data": {
            "text/plain": [
              "3"
            ]
          },
          "metadata": {},
          "execution_count": 26
        }
      ]
    },
    {
      "cell_type": "code",
      "source": [
        "tensor2  = tf.constant([[[1,2,3,4]],[[1,2,3,4]]])\n",
        "tensor2"
      ],
      "metadata": {
        "colab": {
          "base_uri": "https://localhost:8080/"
        },
        "id": "4abrgguXzk3I",
        "outputId": "9b71abe4-1510-4d08-e8f1-f4235bbcad21"
      },
      "execution_count": 28,
      "outputs": [
        {
          "output_type": "execute_result",
          "data": {
            "text/plain": [
              "<tf.Tensor: shape=(2, 1, 4), dtype=int32, numpy=\n",
              "array([[[1, 2, 3, 4]],\n",
              "\n",
              "       [[1, 2, 3, 4]]], dtype=int32)>"
            ]
          },
          "metadata": {},
          "execution_count": 28
        }
      ]
    },
    {
      "cell_type": "code",
      "source": [
        "t1 = tf.Variable(20)"
      ],
      "metadata": {
        "id": "LliT5hOwz8qH"
      },
      "execution_count": 34,
      "outputs": []
    },
    {
      "cell_type": "code",
      "source": [
        "changable_tensor = tf.Variable([10,10])\n",
        "unchangable_tensor = tf.constant([10,10])\n",
        "changable_tensor, unchangable_tensor"
      ],
      "metadata": {
        "colab": {
          "base_uri": "https://localhost:8080/"
        },
        "id": "zPtYnHiE0MlF",
        "outputId": "99032346-6889-4aae-d986-d7956a192df0"
      },
      "execution_count": 37,
      "outputs": [
        {
          "output_type": "execute_result",
          "data": {
            "text/plain": [
              "(<tf.Variable 'Variable:0' shape=(2,) dtype=int32, numpy=array([10, 10], dtype=int32)>,\n",
              " <tf.Tensor: shape=(2,), dtype=int32, numpy=array([10, 10], dtype=int32)>)"
            ]
          },
          "metadata": {},
          "execution_count": 37
        }
      ]
    },
    {
      "cell_type": "code",
      "source": [
        "changable_tensor[0].assign(7)\n",
        "changable_tensor"
      ],
      "metadata": {
        "colab": {
          "base_uri": "https://localhost:8080/"
        },
        "id": "timd3n071H1p",
        "outputId": "f91eeb18-f0fb-4e52-93b2-2e67491bf15f"
      },
      "execution_count": 43,
      "outputs": [
        {
          "output_type": "execute_result",
          "data": {
            "text/plain": [
              "<tf.Variable 'Variable:0' shape=(2,) dtype=int32, numpy=array([ 7, 10], dtype=int32)>"
            ]
          },
          "metadata": {},
          "execution_count": 43
        }
      ]
    },
    {
      "cell_type": "markdown",
      "source": [
        "use assign to change value "
      ],
      "metadata": {
        "id": "vm5w3m7Y14Oq"
      }
    },
    {
      "cell_type": "code",
      "source": [
        "changable_tensor2 = tf.Variable([[[1,2,3,4],\n",
        "                      [5,6,7,8]],\n",
        "                     [[1,2,3,4],\n",
        "                      [1,2,3,4]],\n",
        "                     [[1,2,3,4],\n",
        "                      [1,2,3,4]]])\n",
        "changable_tensor2"
      ],
      "metadata": {
        "colab": {
          "base_uri": "https://localhost:8080/"
        },
        "id": "vE4_hlRk1T2y",
        "outputId": "86c98dcd-fcff-4560-b7ac-6d1b966107d8"
      },
      "execution_count": 47,
      "outputs": [
        {
          "output_type": "execute_result",
          "data": {
            "text/plain": [
              "<tf.Variable 'Variable:0' shape=(3, 2, 4) dtype=int32, numpy=\n",
              "array([[[1, 2, 3, 4],\n",
              "        [5, 6, 7, 8]],\n",
              "\n",
              "       [[1, 2, 3, 4],\n",
              "        [1, 2, 3, 4]],\n",
              "\n",
              "       [[1, 2, 3, 4],\n",
              "        [1, 2, 3, 4]]], dtype=int32)>"
            ]
          },
          "metadata": {},
          "execution_count": 47
        }
      ]
    },
    {
      "cell_type": "markdown",
      "source": [
        "Constant creates unchangable tensros. <br>\n",
        "Variable generates changable tensors. "
      ],
      "metadata": {
        "id": "6IeKqSUc_huG"
      }
    },
    {
      "cell_type": "markdown",
      "source": [
        "## Create random tensors<hr>"
      ],
      "metadata": {
        "id": "z9k15vcG2b4Q"
      }
    },
    {
      "cell_type": "code",
      "source": [
        "random_1 = tf.random.Generator.from_seed(42)\n",
        "random_1 = random_1.normal(shape = (3,2))\n",
        "random_2 = tf.random.Generator.from_seed(42)\n",
        "random_2 = random_2.normal(shape = (3,2))\n",
        "random_1, random_2, random_1==random_2"
      ],
      "metadata": {
        "colab": {
          "base_uri": "https://localhost:8080/"
        },
        "id": "HjRCfVF92iF7",
        "outputId": "c5489e2f-254e-4e18-a78d-9d2794ea6d98"
      },
      "execution_count": 79,
      "outputs": [
        {
          "output_type": "execute_result",
          "data": {
            "text/plain": [
              "(<tf.Tensor: shape=(3, 2), dtype=float32, numpy=\n",
              " array([[-0.7565803 , -0.06854702],\n",
              "        [ 0.07595026, -1.2573844 ],\n",
              "        [-0.23193763, -1.8107855 ]], dtype=float32)>,\n",
              " <tf.Tensor: shape=(3, 2), dtype=float32, numpy=\n",
              " array([[-0.7565803 , -0.06854702],\n",
              "        [ 0.07595026, -1.2573844 ],\n",
              "        [-0.23193763, -1.8107855 ]], dtype=float32)>,\n",
              " <tf.Tensor: shape=(3, 2), dtype=bool, numpy=\n",
              " array([[ True,  True],\n",
              "        [ True,  True],\n",
              "        [ True,  True]])>)"
            ]
          },
          "metadata": {},
          "execution_count": 79
        }
      ]
    },
    {
      "cell_type": "code",
      "source": [
        "tf.random.set_seed(111)\n",
        "tf.random.uniform([1,5,6])"
      ],
      "metadata": {
        "colab": {
          "base_uri": "https://localhost:8080/"
        },
        "id": "SNYMEcRe2xsk",
        "outputId": "a6767d11-d484-4062-e393-3727087914de"
      },
      "execution_count": 72,
      "outputs": [
        {
          "output_type": "execute_result",
          "data": {
            "text/plain": [
              "<tf.Tensor: shape=(1, 5, 6), dtype=float32, numpy=\n",
              "array([[[0.22793007, 0.07242179, 0.25905025, 0.26928675, 0.99596477,\n",
              "         0.21952057],\n",
              "        [0.19156086, 0.7613294 , 0.89160967, 0.22138035, 0.1934278 ,\n",
              "         0.6977569 ],\n",
              "        [0.5775132 , 0.6305827 , 0.5463754 , 0.7712686 , 0.6112319 ,\n",
              "         0.00575221],\n",
              "        [0.6060922 , 0.1935494 , 0.74294245, 0.980145  , 0.13235426,\n",
              "         0.6069268 ],\n",
              "        [0.35117865, 0.8777567 , 0.12334549, 0.2773801 , 0.517432  ,\n",
              "         0.04045439]]], dtype=float32)>"
            ]
          },
          "metadata": {},
          "execution_count": 72
        }
      ]
    },
    {
      "cell_type": "code",
      "source": [
        "tf.random.uniform([1,5,6])"
      ],
      "metadata": {
        "colab": {
          "base_uri": "https://localhost:8080/"
        },
        "id": "2exp9RLK5oAk",
        "outputId": "bd20c1ca-f593-4cf7-cb86-88f6bd7d88cc"
      },
      "execution_count": 73,
      "outputs": [
        {
          "output_type": "execute_result",
          "data": {
            "text/plain": [
              "<tf.Tensor: shape=(1, 5, 6), dtype=float32, numpy=\n",
              "array([[[0.86369586, 0.60063684, 0.95674896, 0.7128948 , 0.50341344,\n",
              "         0.9982449 ],\n",
              "        [0.56112504, 0.37694383, 0.83077204, 0.01545227, 0.33032954,\n",
              "         0.6329814 ],\n",
              "        [0.7801497 , 0.8009933 , 0.9957398 , 0.5391377 , 0.45974958,\n",
              "         0.23468137],\n",
              "        [0.51416945, 0.9229262 , 0.52210605, 0.1595906 , 0.02170455,\n",
              "         0.97483253],\n",
              "        [0.13269508, 0.68724465, 0.74411213, 0.46654022, 0.607587  ,\n",
              "         0.32690895]]], dtype=float32)>"
            ]
          },
          "metadata": {},
          "execution_count": 73
        }
      ]
    },
    {
      "cell_type": "code",
      "source": [
        "# Create two random (but the same) tensors\n",
        "random_1 = tf.random.Generator.from_seed(42) # set the seed for reproducibility\n",
        "random_1 = random_1.normal(shape=(3, 2)) # create tensor from a normal distribution \n",
        "random_2 = tf.random.Generator.from_seed(42)\n",
        "random_2 = random_2.normal(shape=(3, 2))\n",
        "\n",
        "# Are they equal?\n",
        "random_1, random_2, random_1 == random_2"
      ],
      "metadata": {
        "colab": {
          "base_uri": "https://localhost:8080/"
        },
        "id": "nTara8US6PCG",
        "outputId": "8c63f152-726a-4601-e90b-f42fe92025ed"
      },
      "execution_count": 78,
      "outputs": [
        {
          "output_type": "execute_result",
          "data": {
            "text/plain": [
              "(<tf.Tensor: shape=(3, 2), dtype=float32, numpy=\n",
              " array([[-0.7565803 , -0.06854702],\n",
              "        [ 0.07595026, -1.2573844 ],\n",
              "        [-0.23193763, -1.8107855 ]], dtype=float32)>,\n",
              " <tf.Tensor: shape=(3, 2), dtype=float32, numpy=\n",
              " array([[-0.7565803 , -0.06854702],\n",
              "        [ 0.07595026, -1.2573844 ],\n",
              "        [-0.23193763, -1.8107855 ]], dtype=float32)>,\n",
              " <tf.Tensor: shape=(3, 2), dtype=bool, numpy=\n",
              " array([[ True,  True],\n",
              "        [ True,  True],\n",
              "        [ True,  True]])>)"
            ]
          },
          "metadata": {},
          "execution_count": 78
        }
      ]
    },
    {
      "cell_type": "code",
      "source": [
        "tf.random.set_seed(4)\n",
        "a = tf.random.shuffle([1,2,3,4,5,6], seed=567436).numpy()\n",
        "tf.random.set_seed(4)\n",
        "b = tf.random.shuffle([1,2,3,4,5,6], seed=567436).numpy()\n",
        "a,b"
      ],
      "metadata": {
        "colab": {
          "base_uri": "https://localhost:8080/"
        },
        "id": "BkZHuFBm7SvU",
        "outputId": "c510a17f-8727-453d-9bf0-67364e825162"
      },
      "execution_count": 86,
      "outputs": [
        {
          "output_type": "execute_result",
          "data": {
            "text/plain": [
              "(array([1, 4, 2, 3, 5, 6], dtype=int32),\n",
              " array([1, 4, 2, 3, 5, 6], dtype=int32))"
            ]
          },
          "metadata": {},
          "execution_count": 86
        }
      ]
    },
    {
      "cell_type": "markdown",
      "source": [
        "If we use seed then we will get same random out put, But the seed value should be same, if seed value is different then your values will be different.<br>\n",
        "you must have to assign seed value before each operation. \n",
        "\n",
        "\n",
        "\n"
      ],
      "metadata": {
        "id": "PAR2yKJR7q31"
      }
    },
    {
      "cell_type": "markdown",
      "source": [
        "# Norrmal Vs. Uniform<hr>\n",
        "tf.random.normal() -> Make Normal distribution of data points (not eaqualy)<br>\n",
        "\n",
        "tf.random.uniform -> Make Uniform distribution of data points (quality)\n"
      ],
      "metadata": {
        "id": "FU3Te4Qo9hFz"
      }
    },
    {
      "cell_type": "code",
      "source": [
        "tf.random.uniform([5]).ndim"
      ],
      "metadata": {
        "colab": {
          "base_uri": "https://localhost:8080/"
        },
        "id": "BNUC0GQq9k8t",
        "outputId": "06d4c4fd-d03a-482e-af8e-c1a8c9e72b0a"
      },
      "execution_count": 93,
      "outputs": [
        {
          "output_type": "execute_result",
          "data": {
            "text/plain": [
              "1"
            ]
          },
          "metadata": {},
          "execution_count": 93
        }
      ]
    },
    {
      "cell_type": "code",
      "source": [
        "tf.random.normal(shape = ([3,5])).ndim"
      ],
      "metadata": {
        "colab": {
          "base_uri": "https://localhost:8080/"
        },
        "id": "HkrBkLP69xMb",
        "outputId": "e0c25a70-e89d-4f67-a8ac-9c170f8d25e6"
      },
      "execution_count": 98,
      "outputs": [
        {
          "output_type": "execute_result",
          "data": {
            "text/plain": [
              "2"
            ]
          },
          "metadata": {},
          "execution_count": 98
        }
      ]
    },
    {
      "cell_type": "code",
      "source": [
        ""
      ],
      "metadata": {
        "id": "b4NCZkG698Lr"
      },
      "execution_count": null,
      "outputs": []
    }
  ]
}