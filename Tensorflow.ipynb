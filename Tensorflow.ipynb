{
  "nbformat": 4,
  "nbformat_minor": 0,
  "metadata": {
    "colab": {
      "name": "Tensorflow.ipynb",
      "provenance": [],
      "collapsed_sections": [],
      "authorship_tag": "ABX9TyPLaDwUjpnzTJQ/Rzgn9wxt",
      "include_colab_link": true
    },
    "kernelspec": {
      "name": "python3",
      "display_name": "Python 3"
    },
    "language_info": {
      "name": "python"
    }
  },
  "cells": [
    {
      "cell_type": "markdown",
      "metadata": {
        "id": "view-in-github",
        "colab_type": "text"
      },
      "source": [
        "<a href=\"https://colab.research.google.com/github/SP-TechForest/Python-creations/blob/main/Tensorflow.ipynb\" target=\"_parent\"><img src=\"https://colab.research.google.com/assets/colab-badge.svg\" alt=\"Open In Colab\"/></a>"
      ]
    },
    {
      "cell_type": "code",
      "execution_count": null,
      "metadata": {
        "id": "q-XEPOQNrUie"
      },
      "outputs": [],
      "source": [
        "import tensorflow as tf\n",
        "import pandas"
      ]
    },
    {
      "cell_type": "code",
      "source": [
        "print(tf.__version__)"
      ],
      "metadata": {
        "id": "SjNOXR-7uy71",
        "colab": {
          "base_uri": "https://localhost:8080/"
        },
        "outputId": "d3d1c906-26d7-4344-a4a9-10fc39da6cf1"
      },
      "execution_count": null,
      "outputs": [
        {
          "output_type": "stream",
          "name": "stdout",
          "text": [
            "2.7.0\n"
          ]
        }
      ]
    },
    {
      "cell_type": "code",
      "source": [
        "scalar = tf.constant(7)"
      ],
      "metadata": {
        "id": "qwh4UZJZu4be"
      },
      "execution_count": null,
      "outputs": []
    },
    {
      "cell_type": "markdown",
      "source": [
        "# Use of COnstant and Variable to make tensors<hr>"
      ],
      "metadata": {
        "id": "0gfHbcO6_WSb"
      }
    },
    {
      "cell_type": "code",
      "source": [
        "scalar"
      ],
      "metadata": {
        "colab": {
          "base_uri": "https://localhost:8080/"
        },
        "id": "NJiWOdwkxU_o",
        "outputId": "ecbd510b-6ad6-41f5-f982-6c883e8e227e"
      },
      "execution_count": null,
      "outputs": [
        {
          "output_type": "execute_result",
          "data": {
            "text/plain": [
              "<tf.Tensor: shape=(), dtype=int32, numpy=7>"
            ]
          },
          "metadata": {},
          "execution_count": 4
        }
      ]
    },
    {
      "cell_type": "code",
      "source": [
        "scalar.ndim"
      ],
      "metadata": {
        "colab": {
          "base_uri": "https://localhost:8080/"
        },
        "id": "ZKby-aUzxVjj",
        "outputId": "c5ad8fd3-e8ad-4488-a9c7-5203fdb7ba0d"
      },
      "execution_count": null,
      "outputs": [
        {
          "output_type": "execute_result",
          "data": {
            "text/plain": [
              "0"
            ]
          },
          "metadata": {},
          "execution_count": 5
        }
      ]
    },
    {
      "cell_type": "code",
      "source": [
        "vector = tf.constant([10,20])\n",
        "vector"
      ],
      "metadata": {
        "colab": {
          "base_uri": "https://localhost:8080/"
        },
        "id": "LYsU6Z8qxsBE",
        "outputId": "24e320f7-b133-474c-d87d-5c4c299890fc"
      },
      "execution_count": null,
      "outputs": [
        {
          "output_type": "execute_result",
          "data": {
            "text/plain": [
              "<tf.Tensor: shape=(2,), dtype=int32, numpy=array([10, 20], dtype=int32)>"
            ]
          },
          "metadata": {},
          "execution_count": 6
        }
      ]
    },
    {
      "cell_type": "code",
      "source": [
        "vector.ndim"
      ],
      "metadata": {
        "colab": {
          "base_uri": "https://localhost:8080/"
        },
        "id": "i8pfJ4XJx0i8",
        "outputId": "aaed51e5-1ebe-475f-c4c4-d22188614e37"
      },
      "execution_count": null,
      "outputs": [
        {
          "output_type": "execute_result",
          "data": {
            "text/plain": [
              "1"
            ]
          },
          "metadata": {},
          "execution_count": 7
        }
      ]
    },
    {
      "cell_type": "code",
      "source": [
        "matrix = tf.constant([[1,2]\n",
        "                      ,[3,4]])\n",
        "matrix"
      ],
      "metadata": {
        "colab": {
          "base_uri": "https://localhost:8080/"
        },
        "id": "lZt5ERa1x11V",
        "outputId": "c8977be4-834e-4bef-8d1d-b751820ea062"
      },
      "execution_count": null,
      "outputs": [
        {
          "output_type": "execute_result",
          "data": {
            "text/plain": [
              "<tf.Tensor: shape=(2, 2), dtype=int32, numpy=\n",
              "array([[1, 2],\n",
              "       [3, 4]], dtype=int32)>"
            ]
          },
          "metadata": {},
          "execution_count": 8
        }
      ]
    },
    {
      "cell_type": "code",
      "source": [
        "matrix.ndim"
      ],
      "metadata": {
        "colab": {
          "base_uri": "https://localhost:8080/"
        },
        "id": "qpzrUwZ-yKmq",
        "outputId": "ea862d0f-a63f-4e83-ca5c-145f9dfa9097"
      },
      "execution_count": null,
      "outputs": [
        {
          "output_type": "execute_result",
          "data": {
            "text/plain": [
              "2"
            ]
          },
          "metadata": {},
          "execution_count": 9
        }
      ]
    },
    {
      "cell_type": "code",
      "source": [
        "matrix2 = tf.constant([[1,2,3],[4,5,6],[6,7,8]], dtype = tf.float16)"
      ],
      "metadata": {
        "id": "0GwaOX5RyPpj"
      },
      "execution_count": null,
      "outputs": []
    },
    {
      "cell_type": "code",
      "source": [
        "matrix2"
      ],
      "metadata": {
        "colab": {
          "base_uri": "https://localhost:8080/"
        },
        "id": "9nnJgBQ-yc74",
        "outputId": "ec84c5ac-b214-409d-8c17-35eaf53b66da"
      },
      "execution_count": null,
      "outputs": [
        {
          "output_type": "execute_result",
          "data": {
            "text/plain": [
              "<tf.Tensor: shape=(3, 3), dtype=float16, numpy=\n",
              "array([[1., 2., 3.],\n",
              "       [4., 5., 6.],\n",
              "       [6., 7., 8.]], dtype=float16)>"
            ]
          },
          "metadata": {},
          "execution_count": 11
        }
      ]
    },
    {
      "cell_type": "code",
      "source": [
        "tensor = tf.constant([[[1,2,3,4],\n",
        "                      [5,6,7,8]],\n",
        "                     [[1,2,3,4],\n",
        "                      [1,2,3,4]],\n",
        "                     [[1,2,3,4],\n",
        "                      [1,2,3,4]]])\n",
        "tensor"
      ],
      "metadata": {
        "colab": {
          "base_uri": "https://localhost:8080/"
        },
        "id": "YEbXCdgiyeqH",
        "outputId": "629cb4b1-8b07-46c9-f071-e56dbdfb93c3"
      },
      "execution_count": null,
      "outputs": [
        {
          "output_type": "execute_result",
          "data": {
            "text/plain": [
              "<tf.Tensor: shape=(3, 2, 4), dtype=int32, numpy=\n",
              "array([[[1, 2, 3, 4],\n",
              "        [5, 6, 7, 8]],\n",
              "\n",
              "       [[1, 2, 3, 4],\n",
              "        [1, 2, 3, 4]],\n",
              "\n",
              "       [[1, 2, 3, 4],\n",
              "        [1, 2, 3, 4]]], dtype=int32)>"
            ]
          },
          "metadata": {},
          "execution_count": 12
        }
      ]
    },
    {
      "cell_type": "code",
      "source": [
        "tensor.ndim"
      ],
      "metadata": {
        "colab": {
          "base_uri": "https://localhost:8080/"
        },
        "id": "ukEri4tqzWHt",
        "outputId": "2c1c0fa9-ef71-455c-e916-4f7ce9ba0a9a"
      },
      "execution_count": null,
      "outputs": [
        {
          "output_type": "execute_result",
          "data": {
            "text/plain": [
              "3"
            ]
          },
          "metadata": {},
          "execution_count": 13
        }
      ]
    },
    {
      "cell_type": "code",
      "source": [
        "tensor2  = tf.constant([[[1,2,3,4]],[[1,2,3,4]]])\n",
        "tensor2"
      ],
      "metadata": {
        "colab": {
          "base_uri": "https://localhost:8080/"
        },
        "id": "4abrgguXzk3I",
        "outputId": "06e88eee-6ca0-4869-f6fd-5ca0dbeb66db"
      },
      "execution_count": null,
      "outputs": [
        {
          "output_type": "execute_result",
          "data": {
            "text/plain": [
              "<tf.Tensor: shape=(2, 1, 4), dtype=int32, numpy=\n",
              "array([[[1, 2, 3, 4]],\n",
              "\n",
              "       [[1, 2, 3, 4]]], dtype=int32)>"
            ]
          },
          "metadata": {},
          "execution_count": 14
        }
      ]
    },
    {
      "cell_type": "code",
      "source": [
        "t1 = tf.Variable(20)"
      ],
      "metadata": {
        "id": "LliT5hOwz8qH"
      },
      "execution_count": null,
      "outputs": []
    },
    {
      "cell_type": "code",
      "source": [
        "changable_tensor = tf.Variable([10,10])\n",
        "unchangable_tensor = tf.constant([10,10])\n",
        "changable_tensor, unchangable_tensor"
      ],
      "metadata": {
        "colab": {
          "base_uri": "https://localhost:8080/"
        },
        "id": "zPtYnHiE0MlF",
        "outputId": "1c4caf57-2c68-42f6-e8bb-ff11afb0ca98"
      },
      "execution_count": null,
      "outputs": [
        {
          "output_type": "execute_result",
          "data": {
            "text/plain": [
              "(<tf.Variable 'Variable:0' shape=(2,) dtype=int32, numpy=array([10, 10], dtype=int32)>,\n",
              " <tf.Tensor: shape=(2,), dtype=int32, numpy=array([10, 10], dtype=int32)>)"
            ]
          },
          "metadata": {},
          "execution_count": 16
        }
      ]
    },
    {
      "cell_type": "code",
      "source": [
        "changable_tensor[0].assign(7)\n",
        "changable_tensor"
      ],
      "metadata": {
        "colab": {
          "base_uri": "https://localhost:8080/"
        },
        "id": "timd3n071H1p",
        "outputId": "b7217683-7708-40ac-888f-67dc2cfa46ec"
      },
      "execution_count": null,
      "outputs": [
        {
          "output_type": "execute_result",
          "data": {
            "text/plain": [
              "<tf.Variable 'Variable:0' shape=(2,) dtype=int32, numpy=array([ 7, 10], dtype=int32)>"
            ]
          },
          "metadata": {},
          "execution_count": 17
        }
      ]
    },
    {
      "cell_type": "markdown",
      "source": [
        "use assign to change value "
      ],
      "metadata": {
        "id": "vm5w3m7Y14Oq"
      }
    },
    {
      "cell_type": "code",
      "source": [
        "changable_tensor2 = tf.Variable([[[1,2,3,4],\n",
        "                      [5,6,7,8]],\n",
        "                     [[1,2,3,4],\n",
        "                      [1,2,3,4]],\n",
        "                     [[1,2,3,4],\n",
        "                      [1,2,3,4]]])\n",
        "changable_tensor2"
      ],
      "metadata": {
        "colab": {
          "base_uri": "https://localhost:8080/"
        },
        "id": "vE4_hlRk1T2y",
        "outputId": "871a0f4b-a564-476a-f6ce-fede3ffd4e31"
      },
      "execution_count": null,
      "outputs": [
        {
          "output_type": "execute_result",
          "data": {
            "text/plain": [
              "<tf.Variable 'Variable:0' shape=(3, 2, 4) dtype=int32, numpy=\n",
              "array([[[1, 2, 3, 4],\n",
              "        [5, 6, 7, 8]],\n",
              "\n",
              "       [[1, 2, 3, 4],\n",
              "        [1, 2, 3, 4]],\n",
              "\n",
              "       [[1, 2, 3, 4],\n",
              "        [1, 2, 3, 4]]], dtype=int32)>"
            ]
          },
          "metadata": {},
          "execution_count": 18
        }
      ]
    },
    {
      "cell_type": "markdown",
      "source": [
        "Constant creates unchangable tensros. <br>\n",
        "Variable generates changable tensors. "
      ],
      "metadata": {
        "id": "6IeKqSUc_huG"
      }
    },
    {
      "cell_type": "markdown",
      "source": [
        "## Create random tensors<hr>"
      ],
      "metadata": {
        "id": "z9k15vcG2b4Q"
      }
    },
    {
      "cell_type": "code",
      "source": [
        "random_1 = tf.random.Generator.from_seed(42)\n",
        "random_1 = random_1.normal(shape = (3,2))\n",
        "random_2 = tf.random.Generator.from_seed(42)\n",
        "random_2 = random_2.normal(shape = (3,2))\n",
        "random_1, random_2, random_1==random_2"
      ],
      "metadata": {
        "colab": {
          "base_uri": "https://localhost:8080/"
        },
        "id": "HjRCfVF92iF7",
        "outputId": "23a05abb-7361-456c-8793-6bc28749fbac"
      },
      "execution_count": null,
      "outputs": [
        {
          "output_type": "execute_result",
          "data": {
            "text/plain": [
              "(<tf.Tensor: shape=(3, 2), dtype=float32, numpy=\n",
              " array([[-0.7565803 , -0.06854702],\n",
              "        [ 0.07595026, -1.2573844 ],\n",
              "        [-0.23193763, -1.8107855 ]], dtype=float32)>,\n",
              " <tf.Tensor: shape=(3, 2), dtype=float32, numpy=\n",
              " array([[-0.7565803 , -0.06854702],\n",
              "        [ 0.07595026, -1.2573844 ],\n",
              "        [-0.23193763, -1.8107855 ]], dtype=float32)>,\n",
              " <tf.Tensor: shape=(3, 2), dtype=bool, numpy=\n",
              " array([[ True,  True],\n",
              "        [ True,  True],\n",
              "        [ True,  True]])>)"
            ]
          },
          "metadata": {},
          "execution_count": 19
        }
      ]
    },
    {
      "cell_type": "code",
      "source": [
        "tf.random.set_seed(111)\n",
        "tf.random.uniform([1,5,6])"
      ],
      "metadata": {
        "colab": {
          "base_uri": "https://localhost:8080/"
        },
        "id": "SNYMEcRe2xsk",
        "outputId": "3ebb2c13-d4e3-4dd9-b242-6625bb58fdc2"
      },
      "execution_count": null,
      "outputs": [
        {
          "output_type": "execute_result",
          "data": {
            "text/plain": [
              "<tf.Tensor: shape=(1, 5, 6), dtype=float32, numpy=\n",
              "array([[[0.22793007, 0.07242179, 0.25905025, 0.26928675, 0.99596477,\n",
              "         0.21952057],\n",
              "        [0.19156086, 0.7613294 , 0.89160967, 0.22138035, 0.1934278 ,\n",
              "         0.6977569 ],\n",
              "        [0.5775132 , 0.6305827 , 0.5463754 , 0.7712686 , 0.6112319 ,\n",
              "         0.00575221],\n",
              "        [0.6060922 , 0.1935494 , 0.74294245, 0.980145  , 0.13235426,\n",
              "         0.6069268 ],\n",
              "        [0.35117865, 0.8777567 , 0.12334549, 0.2773801 , 0.517432  ,\n",
              "         0.04045439]]], dtype=float32)>"
            ]
          },
          "metadata": {},
          "execution_count": 20
        }
      ]
    },
    {
      "cell_type": "code",
      "source": [
        "tf.random.uniform([1,5,6])"
      ],
      "metadata": {
        "colab": {
          "base_uri": "https://localhost:8080/"
        },
        "id": "2exp9RLK5oAk",
        "outputId": "47af2a33-0eb6-4031-f541-cbd9a289fb4f"
      },
      "execution_count": null,
      "outputs": [
        {
          "output_type": "execute_result",
          "data": {
            "text/plain": [
              "<tf.Tensor: shape=(1, 5, 6), dtype=float32, numpy=\n",
              "array([[[0.86369586, 0.60063684, 0.95674896, 0.7128948 , 0.50341344,\n",
              "         0.9982449 ],\n",
              "        [0.56112504, 0.37694383, 0.83077204, 0.01545227, 0.33032954,\n",
              "         0.6329814 ],\n",
              "        [0.7801497 , 0.8009933 , 0.9957398 , 0.5391377 , 0.45974958,\n",
              "         0.23468137],\n",
              "        [0.51416945, 0.9229262 , 0.52210605, 0.1595906 , 0.02170455,\n",
              "         0.97483253],\n",
              "        [0.13269508, 0.68724465, 0.74411213, 0.46654022, 0.607587  ,\n",
              "         0.32690895]]], dtype=float32)>"
            ]
          },
          "metadata": {},
          "execution_count": 21
        }
      ]
    },
    {
      "cell_type": "code",
      "source": [
        "# Create two random (but the same) tensors\n",
        "random_1 = tf.random.Generator.from_seed(42) # set the seed for reproducibility\n",
        "random_1 = random_1.normal(shape=(3, 2)) # create tensor from a normal distribution \n",
        "random_2 = tf.random.Generator.from_seed(42)\n",
        "random_2 = random_2.normal(shape=(3, 2))\n",
        "\n",
        "# Are they equal?\n",
        "random_1, random_2, random_1 == random_2"
      ],
      "metadata": {
        "colab": {
          "base_uri": "https://localhost:8080/"
        },
        "id": "nTara8US6PCG",
        "outputId": "bb231fec-f77f-43d5-9cfb-12237372d9ec"
      },
      "execution_count": null,
      "outputs": [
        {
          "output_type": "execute_result",
          "data": {
            "text/plain": [
              "(<tf.Tensor: shape=(3, 2), dtype=float32, numpy=\n",
              " array([[-0.7565803 , -0.06854702],\n",
              "        [ 0.07595026, -1.2573844 ],\n",
              "        [-0.23193763, -1.8107855 ]], dtype=float32)>,\n",
              " <tf.Tensor: shape=(3, 2), dtype=float32, numpy=\n",
              " array([[-0.7565803 , -0.06854702],\n",
              "        [ 0.07595026, -1.2573844 ],\n",
              "        [-0.23193763, -1.8107855 ]], dtype=float32)>,\n",
              " <tf.Tensor: shape=(3, 2), dtype=bool, numpy=\n",
              " array([[ True,  True],\n",
              "        [ True,  True],\n",
              "        [ True,  True]])>)"
            ]
          },
          "metadata": {},
          "execution_count": 22
        }
      ]
    },
    {
      "cell_type": "code",
      "source": [
        "tf.random.set_seed(4)\n",
        "a = tf.random.shuffle([1,2,3,4,5,6], seed=567436).numpy()\n",
        "tf.random.set_seed(4)\n",
        "b = tf.random.shuffle([1,2,3,4,5,6], seed=567436).numpy()\n",
        "a,b"
      ],
      "metadata": {
        "colab": {
          "base_uri": "https://localhost:8080/"
        },
        "id": "BkZHuFBm7SvU",
        "outputId": "6711c264-aeb2-4caf-fac4-606fdfd75cc8"
      },
      "execution_count": null,
      "outputs": [
        {
          "output_type": "execute_result",
          "data": {
            "text/plain": [
              "(array([1, 4, 2, 3, 5, 6], dtype=int32),\n",
              " array([1, 4, 2, 3, 5, 6], dtype=int32))"
            ]
          },
          "metadata": {},
          "execution_count": 23
        }
      ]
    },
    {
      "cell_type": "markdown",
      "source": [
        "If we use seed then we will get same random out put, But the seed value should be same, if seed value is different then your values will be different.<br>\n",
        "you must have to assign seed value before each operation. \n",
        "\n",
        "\n",
        "\n"
      ],
      "metadata": {
        "id": "PAR2yKJR7q31"
      }
    },
    {
      "cell_type": "markdown",
      "source": [
        "# Norrmal Vs. Uniform<hr>\n",
        "tf.random.normal() -> Make Normal distribution of data points (not eaqualy)<br>\n",
        "\n",
        "tf.random.uniform -> Make Uniform distribution of data points (quality)\n"
      ],
      "metadata": {
        "id": "FU3Te4Qo9hFz"
      }
    },
    {
      "cell_type": "code",
      "source": [
        "tf.random.uniform([5]).ndim"
      ],
      "metadata": {
        "colab": {
          "base_uri": "https://localhost:8080/"
        },
        "id": "BNUC0GQq9k8t",
        "outputId": "e506ef4e-c29a-46e5-e65c-5ce02fb3a4bd"
      },
      "execution_count": null,
      "outputs": [
        {
          "output_type": "execute_result",
          "data": {
            "text/plain": [
              "1"
            ]
          },
          "metadata": {},
          "execution_count": 24
        }
      ]
    },
    {
      "cell_type": "code",
      "source": [
        "tf.random.normal(shape = ([3,5])).ndim"
      ],
      "metadata": {
        "colab": {
          "base_uri": "https://localhost:8080/"
        },
        "id": "HkrBkLP69xMb",
        "outputId": "6385eaad-5e75-4da3-833b-09fd5770a871"
      },
      "execution_count": null,
      "outputs": [
        {
          "output_type": "execute_result",
          "data": {
            "text/plain": [
              "2"
            ]
          },
          "metadata": {},
          "execution_count": 25
        }
      ]
    },
    {
      "cell_type": "code",
      "source": [
        "random_uniform = tf.random.uniform([3,2])"
      ],
      "metadata": {
        "id": "b4NCZkG698Lr"
      },
      "execution_count": null,
      "outputs": []
    },
    {
      "cell_type": "code",
      "source": [
        "random_uniform"
      ],
      "metadata": {
        "colab": {
          "base_uri": "https://localhost:8080/"
        },
        "id": "nlFF2TGNSWoZ",
        "outputId": "2a8745a1-b18c-467d-aeff-362ddfa2b427"
      },
      "execution_count": null,
      "outputs": [
        {
          "output_type": "execute_result",
          "data": {
            "text/plain": [
              "<tf.Tensor: shape=(3, 2), dtype=float32, numpy=\n",
              "array([[0.546034  , 0.7847378 ],\n",
              "       [0.04293239, 0.5031413 ],\n",
              "       [0.49900854, 0.1146431 ]], dtype=float32)>"
            ]
          },
          "metadata": {},
          "execution_count": 27
        }
      ]
    },
    {
      "cell_type": "markdown",
      "source": [
        "# Shuffeled the tensors with seed.<hr> \n",
        "<br> If you use seed then it will give you same out put. otherwise, it will give you different out put every time. \n",
        "\n",
        "\n",
        "\n",
        "  "
      ],
      "metadata": {
        "id": "WpATp4TJTIMd"
      }
    },
    {
      "cell_type": "code",
      "source": [
        "tf.random.shuffle(random_uniform)"
      ],
      "metadata": {
        "colab": {
          "base_uri": "https://localhost:8080/"
        },
        "id": "LGnA3_tISfQ9",
        "outputId": "03cae741-dc82-4a8a-f13e-b9344f2c4ace"
      },
      "execution_count": null,
      "outputs": [
        {
          "output_type": "execute_result",
          "data": {
            "text/plain": [
              "<tf.Tensor: shape=(3, 2), dtype=float32, numpy=\n",
              "array([[0.546034  , 0.7847378 ],\n",
              "       [0.49900854, 0.1146431 ],\n",
              "       [0.04293239, 0.5031413 ]], dtype=float32)>"
            ]
          },
          "metadata": {},
          "execution_count": 28
        }
      ]
    },
    {
      "cell_type": "code",
      "source": [
        "tf.random.set_seed(11)\n",
        "tf.random.shuffle(random_uniform, seed=22)"
      ],
      "metadata": {
        "colab": {
          "base_uri": "https://localhost:8080/"
        },
        "id": "5sMWS9JbSoiO",
        "outputId": "a31290c9-f3cc-4b22-e0e5-4c48012cef8f"
      },
      "execution_count": null,
      "outputs": [
        {
          "output_type": "execute_result",
          "data": {
            "text/plain": [
              "<tf.Tensor: shape=(3, 2), dtype=float32, numpy=\n",
              "array([[0.49900854, 0.1146431 ],\n",
              "       [0.04293239, 0.5031413 ],\n",
              "       [0.546034  , 0.7847378 ]], dtype=float32)>"
            ]
          },
          "metadata": {},
          "execution_count": 29
        }
      ]
    },
    {
      "cell_type": "code",
      "source": [
        "tf.random.set_seed(11)\n",
        "tf.random.shuffle(random_uniform, seed=22)"
      ],
      "metadata": {
        "colab": {
          "base_uri": "https://localhost:8080/"
        },
        "id": "0EZvbG5pSwLP",
        "outputId": "5840bb73-848d-4eab-91bc-a65fd590a1ae"
      },
      "execution_count": null,
      "outputs": [
        {
          "output_type": "execute_result",
          "data": {
            "text/plain": [
              "<tf.Tensor: shape=(3, 2), dtype=float32, numpy=\n",
              "array([[0.49900854, 0.1146431 ],\n",
              "       [0.04293239, 0.5031413 ],\n",
              "       [0.546034  , 0.7847378 ]], dtype=float32)>"
            ]
          },
          "metadata": {},
          "execution_count": 30
        }
      ]
    },
    {
      "cell_type": "markdown",
      "source": [
        "# Another Ways to create tensors <hr>"
      ],
      "metadata": {
        "id": "46MZ72g0aZM9"
      }
    },
    {
      "cell_type": "code",
      "source": [
        "tf.ones([5,5])"
      ],
      "metadata": {
        "colab": {
          "base_uri": "https://localhost:8080/"
        },
        "id": "-BLB0TqCS06C",
        "outputId": "8f828c2d-52ff-47c8-d7c6-b4207008a864"
      },
      "execution_count": null,
      "outputs": [
        {
          "output_type": "execute_result",
          "data": {
            "text/plain": [
              "<tf.Tensor: shape=(5, 5), dtype=float32, numpy=\n",
              "array([[1., 1., 1., 1., 1.],\n",
              "       [1., 1., 1., 1., 1.],\n",
              "       [1., 1., 1., 1., 1.],\n",
              "       [1., 1., 1., 1., 1.],\n",
              "       [1., 1., 1., 1., 1.]], dtype=float32)>"
            ]
          },
          "metadata": {},
          "execution_count": 31
        }
      ]
    },
    {
      "cell_type": "code",
      "source": [
        "tf.zeros([5,5])"
      ],
      "metadata": {
        "colab": {
          "base_uri": "https://localhost:8080/"
        },
        "id": "481p9n9rakWF",
        "outputId": "c25b4765-85e6-4230-dcc8-09ac11578132"
      },
      "execution_count": null,
      "outputs": [
        {
          "output_type": "execute_result",
          "data": {
            "text/plain": [
              "<tf.Tensor: shape=(5, 5), dtype=float32, numpy=\n",
              "array([[0., 0., 0., 0., 0.],\n",
              "       [0., 0., 0., 0., 0.],\n",
              "       [0., 0., 0., 0., 0.],\n",
              "       [0., 0., 0., 0., 0.],\n",
              "       [0., 0., 0., 0., 0.]], dtype=float32)>"
            ]
          },
          "metadata": {},
          "execution_count": 32
        }
      ]
    },
    {
      "cell_type": "code",
      "source": [
        "import numpy as np\n",
        "numpy_1 = np.arange(1,50,2)\n",
        "numpy_1"
      ],
      "metadata": {
        "colab": {
          "base_uri": "https://localhost:8080/"
        },
        "id": "kJtQDHQ5aoFj",
        "outputId": "540a781b-c2f3-4912-e266-512da93b07f9"
      },
      "execution_count": null,
      "outputs": [
        {
          "output_type": "execute_result",
          "data": {
            "text/plain": [
              "array([ 1,  3,  5,  7,  9, 11, 13, 15, 17, 19, 21, 23, 25, 27, 29, 31, 33,\n",
              "       35, 37, 39, 41, 43, 45, 47, 49])"
            ]
          },
          "metadata": {},
          "execution_count": 33
        }
      ]
    },
    {
      "cell_type": "code",
      "source": [
        "tf.constant(numpy_1)"
      ],
      "metadata": {
        "colab": {
          "base_uri": "https://localhost:8080/"
        },
        "id": "TxpDXDXSa9Py",
        "outputId": "c7caf85f-c540-4324-93da-846b70dd9288"
      },
      "execution_count": null,
      "outputs": [
        {
          "output_type": "execute_result",
          "data": {
            "text/plain": [
              "<tf.Tensor: shape=(25,), dtype=int64, numpy=\n",
              "array([ 1,  3,  5,  7,  9, 11, 13, 15, 17, 19, 21, 23, 25, 27, 29, 31, 33,\n",
              "       35, 37, 39, 41, 43, 45, 47, 49])>"
            ]
          },
          "metadata": {},
          "execution_count": 34
        }
      ]
    },
    {
      "cell_type": "code",
      "source": [
        "tf.Variable(numpy_1)[5].assign(22)"
      ],
      "metadata": {
        "colab": {
          "base_uri": "https://localhost:8080/"
        },
        "id": "JTEVUQy2bbSU",
        "outputId": "001c3a27-7cfa-4e56-e9ea-268a06ac1bd7"
      },
      "execution_count": null,
      "outputs": [
        {
          "output_type": "execute_result",
          "data": {
            "text/plain": [
              "<tf.Variable 'UnreadVariable' shape=(25,) dtype=int64, numpy=\n",
              "array([ 1,  3,  5,  7,  9, 22, 13, 15, 17, 19, 21, 23, 25, 27, 29, 31, 33,\n",
              "       35, 37, 39, 41, 43, 45, 47, 49])>"
            ]
          },
          "metadata": {},
          "execution_count": 35
        }
      ]
    },
    {
      "cell_type": "code",
      "source": [
        "tf_n = tf.constant(numpy_1, shape = (5,5))\n",
        "tf_n"
      ],
      "metadata": {
        "colab": {
          "base_uri": "https://localhost:8080/"
        },
        "id": "VoxtBtoHbfDd",
        "outputId": "161c1c56-e251-43d5-ba87-ff52176e856e"
      },
      "execution_count": null,
      "outputs": [
        {
          "output_type": "execute_result",
          "data": {
            "text/plain": [
              "<tf.Tensor: shape=(5, 5), dtype=int64, numpy=\n",
              "array([[ 1,  3,  5,  7,  9],\n",
              "       [11, 13, 15, 17, 19],\n",
              "       [21, 23, 25, 27, 29],\n",
              "       [31, 33, 35, 37, 39],\n",
              "       [41, 43, 45, 47, 49]])>"
            ]
          },
          "metadata": {},
          "execution_count": 36
        }
      ]
    },
    {
      "cell_type": "code",
      "source": [
        "tf2 = tf.Variable(numpy_1)\n",
        "tf2"
      ],
      "metadata": {
        "id": "hHn64PH5diyQ",
        "colab": {
          "base_uri": "https://localhost:8080/"
        },
        "outputId": "bc1ff459-bc3d-405f-e091-332eadb6828d"
      },
      "execution_count": null,
      "outputs": [
        {
          "output_type": "execute_result",
          "data": {
            "text/plain": [
              "<tf.Variable 'Variable:0' shape=(25,) dtype=int64, numpy=\n",
              "array([ 1,  3,  5,  7,  9, 11, 13, 15, 17, 19, 21, 23, 25, 27, 29, 31, 33,\n",
              "       35, 37, 39, 41, 43, 45, 47, 49])>"
            ]
          },
          "metadata": {},
          "execution_count": 57
        }
      ]
    },
    {
      "cell_type": "code",
      "source": [
        "tf.reshape(tf2, [5,5]).ndim"
      ],
      "metadata": {
        "colab": {
          "base_uri": "https://localhost:8080/"
        },
        "id": "PVsBVkcjaond",
        "outputId": "f184d582-aa80-47e7-a18c-3ae8ed584d7d"
      },
      "execution_count": null,
      "outputs": [
        {
          "output_type": "execute_result",
          "data": {
            "text/plain": [
              "2"
            ]
          },
          "metadata": {},
          "execution_count": 55
        }
      ]
    },
    {
      "cell_type": "code",
      "source": [
        "tf.Variable(numpy_1)"
      ],
      "metadata": {
        "colab": {
          "base_uri": "https://localhost:8080/"
        },
        "id": "-Q6HFb1SdDrh",
        "outputId": "bcc7d434-cb4a-47d1-d0a5-39ea4cfc2ecb"
      },
      "execution_count": null,
      "outputs": [
        {
          "output_type": "execute_result",
          "data": {
            "text/plain": [
              "<tf.Variable 'Variable:0' shape=(25,) dtype=int64, numpy=\n",
              "array([ 1,  3,  5,  7,  9, 11, 13, 15, 17, 19, 21, 23, 25, 27, 29, 31, 33,\n",
              "       35, 37, 39, 41, 43, 45, 47, 49])>"
            ]
          },
          "metadata": {},
          "execution_count": 59
        }
      ]
    },
    {
      "cell_type": "code",
      "source": [
        "tf.random.set_seed(42)\n",
        "a = tf.random.uniform(shape = (5,5))\n",
        "tf.random.set_seed(42)\n",
        "b = tf.random.uniform(shape = (5,5))\n",
        "a,b"
      ],
      "metadata": {
        "colab": {
          "base_uri": "https://localhost:8080/"
        },
        "id": "AZKx7VIidvrO",
        "outputId": "eaefe509-3a4a-4189-a5ea-7ba82cb62d2e"
      },
      "execution_count": null,
      "outputs": [
        {
          "output_type": "execute_result",
          "data": {
            "text/plain": [
              "(<tf.Tensor: shape=(5, 5), dtype=float32, numpy=\n",
              " array([[0.6645621 , 0.44100678, 0.3528825 , 0.46448255, 0.03366041],\n",
              "        [0.68467236, 0.74011743, 0.8724445 , 0.22632635, 0.22319686],\n",
              "        [0.3103881 , 0.7223358 , 0.13318717, 0.5480639 , 0.5746088 ],\n",
              "        [0.8996835 , 0.00946367, 0.5212307 , 0.6345445 , 0.1993283 ],\n",
              "        [0.72942245, 0.54583454, 0.10756552, 0.6767061 , 0.6602763 ]],\n",
              "       dtype=float32)>, <tf.Tensor: shape=(5, 5), dtype=float32, numpy=\n",
              " array([[0.6645621 , 0.44100678, 0.3528825 , 0.46448255, 0.03366041],\n",
              "        [0.68467236, 0.74011743, 0.8724445 , 0.22632635, 0.22319686],\n",
              "        [0.3103881 , 0.7223358 , 0.13318717, 0.5480639 , 0.5746088 ],\n",
              "        [0.8996835 , 0.00946367, 0.5212307 , 0.6345445 , 0.1993283 ],\n",
              "        [0.72942245, 0.54583454, 0.10756552, 0.6767061 , 0.6602763 ]],\n",
              "       dtype=float32)>)"
            ]
          },
          "metadata": {},
          "execution_count": 64
        }
      ]
    },
    {
      "cell_type": "code",
      "source": [
        "tf3 = tf.constant(np.arange(1,51), shape = (5,5,2))\n",
        "tf.random.set_seed(44)\n",
        "tf.random.shuffle(tf3)[0]"
      ],
      "metadata": {
        "colab": {
          "base_uri": "https://localhost:8080/"
        },
        "id": "MU6Waa-igAv6",
        "outputId": "aac32640-f4d8-4a1a-afd6-ec3306e9c0e7"
      },
      "execution_count": null,
      "outputs": [
        {
          "output_type": "execute_result",
          "data": {
            "text/plain": [
              "<tf.Tensor: shape=(5, 2), dtype=int64, numpy=\n",
              "array([[21, 22],\n",
              "       [23, 24],\n",
              "       [25, 26],\n",
              "       [27, 28],\n",
              "       [29, 30]])>"
            ]
          },
          "metadata": {},
          "execution_count": 75
        }
      ]
    },
    {
      "cell_type": "code",
      "source": [
        "rank4_tf = tf.zeros([2,3,4,5])"
      ],
      "metadata": {
        "id": "bpXcqeK2hkcz"
      },
      "execution_count": null,
      "outputs": []
    },
    {
      "cell_type": "code",
      "source": [
        "rank4_tf.shape, rank4_tf.ndim, tf.size(rank4_tf)"
      ],
      "metadata": {
        "colab": {
          "base_uri": "https://localhost:8080/"
        },
        "id": "zVQr8A1ymDvX",
        "outputId": "10954e92-adb6-4fa3-f8c9-b4e7ab10a05c"
      },
      "execution_count": null,
      "outputs": [
        {
          "output_type": "execute_result",
          "data": {
            "text/plain": [
              "(TensorShape([2, 3, 4, 5]), 4, <tf.Tensor: shape=(), dtype=int32, numpy=120>)"
            ]
          },
          "metadata": {},
          "execution_count": 78
        }
      ]
    },
    {
      "cell_type": "code",
      "source": [
        "tf.size(rank4_tf).numpy()"
      ],
      "metadata": {
        "colab": {
          "base_uri": "https://localhost:8080/"
        },
        "id": "sMXhzITknc63",
        "outputId": "9ee91a76-ae63-4b83-efe0-72b62728c900"
      },
      "execution_count": null,
      "outputs": [
        {
          "output_type": "execute_result",
          "data": {
            "text/plain": [
              "120"
            ]
          },
          "metadata": {},
          "execution_count": 79
        }
      ]
    },
    {
      "cell_type": "markdown",
      "source": [
        "# Tensor Indexing<hr>"
      ],
      "metadata": {
        "id": "OitwSam4rSb6"
      }
    },
    {
      "cell_type": "code",
      "source": [
        "rank4_tf[:2,:2,:3,:4]"
      ],
      "metadata": {
        "colab": {
          "base_uri": "https://localhost:8080/"
        },
        "id": "iG6WhWdgntXo",
        "outputId": "57217f17-f5f5-43f1-fd1a-25c5bf38abc3"
      },
      "execution_count": null,
      "outputs": [
        {
          "output_type": "execute_result",
          "data": {
            "text/plain": [
              "<tf.Tensor: shape=(2, 2, 3, 4), dtype=float32, numpy=\n",
              "array([[[[0., 0., 0., 0.],\n",
              "         [0., 0., 0., 0.],\n",
              "         [0., 0., 0., 0.]],\n",
              "\n",
              "        [[0., 0., 0., 0.],\n",
              "         [0., 0., 0., 0.],\n",
              "         [0., 0., 0., 0.]]],\n",
              "\n",
              "\n",
              "       [[[0., 0., 0., 0.],\n",
              "         [0., 0., 0., 0.],\n",
              "         [0., 0., 0., 0.]],\n",
              "\n",
              "        [[0., 0., 0., 0.],\n",
              "         [0., 0., 0., 0.],\n",
              "         [0., 0., 0., 0.]]]], dtype=float32)>"
            ]
          },
          "metadata": {},
          "execution_count": 83
        }
      ]
    },
    {
      "cell_type": "code",
      "source": [
        "rank4_tf"
      ],
      "metadata": {
        "colab": {
          "base_uri": "https://localhost:8080/"
        },
        "id": "rUyfAdn8rcw0",
        "outputId": "dbd04f33-bf75-418b-be04-0d8ae896294a"
      },
      "execution_count": null,
      "outputs": [
        {
          "output_type": "execute_result",
          "data": {
            "text/plain": [
              "<tf.Tensor: shape=(2, 3, 4, 5), dtype=float32, numpy=\n",
              "array([[[[0., 0., 0., 0., 0.],\n",
              "         [0., 0., 0., 0., 0.],\n",
              "         [0., 0., 0., 0., 0.],\n",
              "         [0., 0., 0., 0., 0.]],\n",
              "\n",
              "        [[0., 0., 0., 0., 0.],\n",
              "         [0., 0., 0., 0., 0.],\n",
              "         [0., 0., 0., 0., 0.],\n",
              "         [0., 0., 0., 0., 0.]],\n",
              "\n",
              "        [[0., 0., 0., 0., 0.],\n",
              "         [0., 0., 0., 0., 0.],\n",
              "         [0., 0., 0., 0., 0.],\n",
              "         [0., 0., 0., 0., 0.]]],\n",
              "\n",
              "\n",
              "       [[[0., 0., 0., 0., 0.],\n",
              "         [0., 0., 0., 0., 0.],\n",
              "         [0., 0., 0., 0., 0.],\n",
              "         [0., 0., 0., 0., 0.]],\n",
              "\n",
              "        [[0., 0., 0., 0., 0.],\n",
              "         [0., 0., 0., 0., 0.],\n",
              "         [0., 0., 0., 0., 0.],\n",
              "         [0., 0., 0., 0., 0.]],\n",
              "\n",
              "        [[0., 0., 0., 0., 0.],\n",
              "         [0., 0., 0., 0., 0.],\n",
              "         [0., 0., 0., 0., 0.],\n",
              "         [0., 0., 0., 0., 0.]]]], dtype=float32)>"
            ]
          },
          "metadata": {},
          "execution_count": 81
        }
      ]
    },
    {
      "cell_type": "code",
      "source": [
        "tf4 = tf.constant([[1,2],\n",
        "                   [3,4]])\n",
        "tf4"
      ],
      "metadata": {
        "colab": {
          "base_uri": "https://localhost:8080/"
        },
        "id": "jyptSSL-riMt",
        "outputId": "dbc0e060-1c4d-48ee-d0ed-e5958b981f20"
      },
      "execution_count": null,
      "outputs": [
        {
          "output_type": "execute_result",
          "data": {
            "text/plain": [
              "<tf.Tensor: shape=(2, 2), dtype=int32, numpy=\n",
              "array([[1, 2],\n",
              "       [3, 4]], dtype=int32)>"
            ]
          },
          "metadata": {},
          "execution_count": 85
        }
      ]
    },
    {
      "cell_type": "code",
      "source": [
        "tf4[1,:]"
      ],
      "metadata": {
        "colab": {
          "base_uri": "https://localhost:8080/"
        },
        "id": "xvJk7Qzbr86B",
        "outputId": "5fbc535c-9f86-4c66-a978-c36993e81707"
      },
      "execution_count": null,
      "outputs": [
        {
          "output_type": "execute_result",
          "data": {
            "text/plain": [
              "<tf.Tensor: shape=(2,), dtype=int32, numpy=array([3, 4], dtype=int32)>"
            ]
          },
          "metadata": {},
          "execution_count": 90
        }
      ]
    },
    {
      "cell_type": "code",
      "source": [
        "tf5 = tf.constant(np.arange(1,121), shape = (2,3,4,5))\n",
        "tf5"
      ],
      "metadata": {
        "colab": {
          "base_uri": "https://localhost:8080/"
        },
        "id": "Y8RkUe_jsBHE",
        "outputId": "241938fd-dfbb-45ac-893d-e019b2f72bf1"
      },
      "execution_count": null,
      "outputs": [
        {
          "output_type": "execute_result",
          "data": {
            "text/plain": [
              "<tf.Tensor: shape=(2, 3, 4, 5), dtype=int64, numpy=\n",
              "array([[[[  1,   2,   3,   4,   5],\n",
              "         [  6,   7,   8,   9,  10],\n",
              "         [ 11,  12,  13,  14,  15],\n",
              "         [ 16,  17,  18,  19,  20]],\n",
              "\n",
              "        [[ 21,  22,  23,  24,  25],\n",
              "         [ 26,  27,  28,  29,  30],\n",
              "         [ 31,  32,  33,  34,  35],\n",
              "         [ 36,  37,  38,  39,  40]],\n",
              "\n",
              "        [[ 41,  42,  43,  44,  45],\n",
              "         [ 46,  47,  48,  49,  50],\n",
              "         [ 51,  52,  53,  54,  55],\n",
              "         [ 56,  57,  58,  59,  60]]],\n",
              "\n",
              "\n",
              "       [[[ 61,  62,  63,  64,  65],\n",
              "         [ 66,  67,  68,  69,  70],\n",
              "         [ 71,  72,  73,  74,  75],\n",
              "         [ 76,  77,  78,  79,  80]],\n",
              "\n",
              "        [[ 81,  82,  83,  84,  85],\n",
              "         [ 86,  87,  88,  89,  90],\n",
              "         [ 91,  92,  93,  94,  95],\n",
              "         [ 96,  97,  98,  99, 100]],\n",
              "\n",
              "        [[101, 102, 103, 104, 105],\n",
              "         [106, 107, 108, 109, 110],\n",
              "         [111, 112, 113, 114, 115],\n",
              "         [116, 117, 118, 119, 120]]]])>"
            ]
          },
          "metadata": {},
          "execution_count": 92
        }
      ]
    },
    {
      "cell_type": "code",
      "source": [
        "tf5[:,:,2:,3:], tf5[0,1,1:3,2:4]"
      ],
      "metadata": {
        "colab": {
          "base_uri": "https://localhost:8080/"
        },
        "id": "PwAJPIBsskis",
        "outputId": "e242fdd3-e5bf-4532-db79-55fa46d25ec3"
      },
      "execution_count": null,
      "outputs": [
        {
          "output_type": "execute_result",
          "data": {
            "text/plain": [
              "(<tf.Tensor: shape=(2, 3, 2, 2), dtype=int64, numpy=\n",
              " array([[[[ 14,  15],\n",
              "          [ 19,  20]],\n",
              " \n",
              "         [[ 34,  35],\n",
              "          [ 39,  40]],\n",
              " \n",
              "         [[ 54,  55],\n",
              "          [ 59,  60]]],\n",
              " \n",
              " \n",
              "        [[[ 74,  75],\n",
              "          [ 79,  80]],\n",
              " \n",
              "         [[ 94,  95],\n",
              "          [ 99, 100]],\n",
              " \n",
              "         [[114, 115],\n",
              "          [119, 120]]]])>, <tf.Tensor: shape=(2, 2), dtype=int64, numpy=\n",
              " array([[28, 29],\n",
              "        [33, 34]])>)"
            ]
          },
          "metadata": {},
          "execution_count": 96
        }
      ]
    },
    {
      "cell_type": "code",
      "source": [
        "tf.transpose(tf5)"
      ],
      "metadata": {
        "colab": {
          "base_uri": "https://localhost:8080/"
        },
        "id": "4LoUSkpuswfg",
        "outputId": "5053f14a-28b4-487e-cfbb-4d5ad5af4b94"
      },
      "execution_count": null,
      "outputs": [
        {
          "output_type": "execute_result",
          "data": {
            "text/plain": [
              "<tf.Tensor: shape=(5, 4, 3, 2), dtype=int64, numpy=\n",
              "array([[[[  1,  61],\n",
              "         [ 21,  81],\n",
              "         [ 41, 101]],\n",
              "\n",
              "        [[  6,  66],\n",
              "         [ 26,  86],\n",
              "         [ 46, 106]],\n",
              "\n",
              "        [[ 11,  71],\n",
              "         [ 31,  91],\n",
              "         [ 51, 111]],\n",
              "\n",
              "        [[ 16,  76],\n",
              "         [ 36,  96],\n",
              "         [ 56, 116]]],\n",
              "\n",
              "\n",
              "       [[[  2,  62],\n",
              "         [ 22,  82],\n",
              "         [ 42, 102]],\n",
              "\n",
              "        [[  7,  67],\n",
              "         [ 27,  87],\n",
              "         [ 47, 107]],\n",
              "\n",
              "        [[ 12,  72],\n",
              "         [ 32,  92],\n",
              "         [ 52, 112]],\n",
              "\n",
              "        [[ 17,  77],\n",
              "         [ 37,  97],\n",
              "         [ 57, 117]]],\n",
              "\n",
              "\n",
              "       [[[  3,  63],\n",
              "         [ 23,  83],\n",
              "         [ 43, 103]],\n",
              "\n",
              "        [[  8,  68],\n",
              "         [ 28,  88],\n",
              "         [ 48, 108]],\n",
              "\n",
              "        [[ 13,  73],\n",
              "         [ 33,  93],\n",
              "         [ 53, 113]],\n",
              "\n",
              "        [[ 18,  78],\n",
              "         [ 38,  98],\n",
              "         [ 58, 118]]],\n",
              "\n",
              "\n",
              "       [[[  4,  64],\n",
              "         [ 24,  84],\n",
              "         [ 44, 104]],\n",
              "\n",
              "        [[  9,  69],\n",
              "         [ 29,  89],\n",
              "         [ 49, 109]],\n",
              "\n",
              "        [[ 14,  74],\n",
              "         [ 34,  94],\n",
              "         [ 54, 114]],\n",
              "\n",
              "        [[ 19,  79],\n",
              "         [ 39,  99],\n",
              "         [ 59, 119]]],\n",
              "\n",
              "\n",
              "       [[[  5,  65],\n",
              "         [ 25,  85],\n",
              "         [ 45, 105]],\n",
              "\n",
              "        [[ 10,  70],\n",
              "         [ 30,  90],\n",
              "         [ 50, 110]],\n",
              "\n",
              "        [[ 15,  75],\n",
              "         [ 35,  95],\n",
              "         [ 55, 115]],\n",
              "\n",
              "        [[ 20,  80],\n",
              "         [ 40, 100],\n",
              "         [ 60, 120]]]])>"
            ]
          },
          "metadata": {},
          "execution_count": 97
        }
      ]
    },
    {
      "cell_type": "markdown",
      "source": [
        "# Mathetical Operations <hr>"
      ],
      "metadata": {
        "id": "sMH0beSR7mQS"
      }
    },
    {
      "cell_type": "code",
      "source": [
        "tf_a = tf.constant(np.arange(1,25), shape = (6,4))\n",
        "tf_b = tf.constant(np.arange(1,21), shape = (5,4))"
      ],
      "metadata": {
        "id": "z3RYY7Hu7FnW"
      },
      "execution_count": null,
      "outputs": []
    },
    {
      "cell_type": "code",
      "source": [
        "tf_a, tf_a + 10, tf_a - 10, tf_a *10, tf_a/ 10"
      ],
      "metadata": {
        "colab": {
          "base_uri": "https://localhost:8080/"
        },
        "id": "1OCyBoeV712m",
        "outputId": "541a9cf2-fdf2-47a7-e7c0-e6aeecb202c7"
      },
      "execution_count": null,
      "outputs": [
        {
          "output_type": "execute_result",
          "data": {
            "text/plain": [
              "(<tf.Tensor: shape=(6, 4), dtype=int64, numpy=\n",
              " array([[ 1,  2,  3,  4],\n",
              "        [ 5,  6,  7,  8],\n",
              "        [ 9, 10, 11, 12],\n",
              "        [13, 14, 15, 16],\n",
              "        [17, 18, 19, 20],\n",
              "        [21, 22, 23, 24]])>, <tf.Tensor: shape=(6, 4), dtype=int64, numpy=\n",
              " array([[11, 12, 13, 14],\n",
              "        [15, 16, 17, 18],\n",
              "        [19, 20, 21, 22],\n",
              "        [23, 24, 25, 26],\n",
              "        [27, 28, 29, 30],\n",
              "        [31, 32, 33, 34]])>, <tf.Tensor: shape=(6, 4), dtype=int64, numpy=\n",
              " array([[-9, -8, -7, -6],\n",
              "        [-5, -4, -3, -2],\n",
              "        [-1,  0,  1,  2],\n",
              "        [ 3,  4,  5,  6],\n",
              "        [ 7,  8,  9, 10],\n",
              "        [11, 12, 13, 14]])>, <tf.Tensor: shape=(6, 4), dtype=int64, numpy=\n",
              " array([[ 10,  20,  30,  40],\n",
              "        [ 50,  60,  70,  80],\n",
              "        [ 90, 100, 110, 120],\n",
              "        [130, 140, 150, 160],\n",
              "        [170, 180, 190, 200],\n",
              "        [210, 220, 230, 240]])>, <tf.Tensor: shape=(6, 4), dtype=float64, numpy=\n",
              " array([[0.1, 0.2, 0.3, 0.4],\n",
              "        [0.5, 0.6, 0.7, 0.8],\n",
              "        [0.9, 1. , 1.1, 1.2],\n",
              "        [1.3, 1.4, 1.5, 1.6],\n",
              "        [1.7, 1.8, 1.9, 2. ],\n",
              "        [2.1, 2.2, 2.3, 2.4]])>)"
            ]
          },
          "metadata": {},
          "execution_count": 101
        }
      ]
    },
    {
      "cell_type": "code",
      "source": [
        "tf.matmul(tf_a, tf.reshape(tf_b, shape = (4,5)))"
      ],
      "metadata": {
        "colab": {
          "base_uri": "https://localhost:8080/"
        },
        "id": "ZinFe9fh7_Sm",
        "outputId": "d3ac3834-eaac-4ee1-9e8d-7c1b83f87309"
      },
      "execution_count": null,
      "outputs": [
        {
          "output_type": "execute_result",
          "data": {
            "text/plain": [
              "<tf.Tensor: shape=(6, 5), dtype=int64, numpy=\n",
              "array([[ 110,  120,  130,  140,  150],\n",
              "       [ 246,  272,  298,  324,  350],\n",
              "       [ 382,  424,  466,  508,  550],\n",
              "       [ 518,  576,  634,  692,  750],\n",
              "       [ 654,  728,  802,  876,  950],\n",
              "       [ 790,  880,  970, 1060, 1150]])>"
            ]
          },
          "metadata": {},
          "execution_count": 105
        }
      ]
    },
    {
      "cell_type": "code",
      "source": [
        "tf.matmul(tf_a, tf.transpose(tf_b))"
      ],
      "metadata": {
        "colab": {
          "base_uri": "https://localhost:8080/"
        },
        "id": "AXk9aDQH8NKR",
        "outputId": "be0eac18-845b-4738-c024-692890bcd3a0"
      },
      "execution_count": null,
      "outputs": [
        {
          "output_type": "execute_result",
          "data": {
            "text/plain": [
              "<tf.Tensor: shape=(6, 5), dtype=int64, numpy=\n",
              "array([[  30,   70,  110,  150,  190],\n",
              "       [  70,  174,  278,  382,  486],\n",
              "       [ 110,  278,  446,  614,  782],\n",
              "       [ 150,  382,  614,  846, 1078],\n",
              "       [ 190,  486,  782, 1078, 1374],\n",
              "       [ 230,  590,  950, 1310, 1670]])>"
            ]
          },
          "metadata": {},
          "execution_count": 106
        }
      ]
    },
    {
      "cell_type": "code",
      "source": [
        "tf_n  = tf.constant(np.random.randint(1,100,50))"
      ],
      "metadata": {
        "id": "jSljFJph8mIr"
      },
      "execution_count": null,
      "outputs": []
    },
    {
      "cell_type": "code",
      "source": [
        "tf.reduce_min(tf_n), tf.reduce_max(tf_n), tf.reduce_mean(tf_n)   "
      ],
      "metadata": {
        "colab": {
          "base_uri": "https://localhost:8080/"
        },
        "id": "JCF9FoYx8sya",
        "outputId": "fc824a1c-8420-4903-e6a8-60895874f014"
      },
      "execution_count": null,
      "outputs": [
        {
          "output_type": "execute_result",
          "data": {
            "text/plain": [
              "(<tf.Tensor: shape=(), dtype=int64, numpy=4>,\n",
              " <tf.Tensor: shape=(), dtype=int64, numpy=99>,\n",
              " <tf.Tensor: shape=(), dtype=int64, numpy=49>)"
            ]
          },
          "metadata": {},
          "execution_count": 111
        }
      ]
    },
    {
      "cell_type": "code",
      "source": [
        "tf_n, tf.argmax(tf_n), tf.argmin(tf_n), tf.argsort(tf_n)"
      ],
      "metadata": {
        "colab": {
          "base_uri": "https://localhost:8080/"
        },
        "id": "Q6pZhxjd85mq",
        "outputId": "374f0e75-a68e-4301-a5cb-63082652abcc"
      },
      "execution_count": null,
      "outputs": [
        {
          "output_type": "execute_result",
          "data": {
            "text/plain": [
              "(<tf.Tensor: shape=(50,), dtype=int64, numpy=\n",
              " array([74, 49,  6, 34, 28, 41, 70, 49, 64, 38, 22, 56, 82, 55, 26, 97, 37,\n",
              "        38, 81, 96, 44, 53, 97, 27, 39, 62, 41, 99, 12, 80, 84, 31, 11, 59,\n",
              "        24, 74, 94, 85, 58, 25, 41, 94, 33, 16, 24,  4,  7, 28, 59, 36])>,\n",
              " <tf.Tensor: shape=(), dtype=int64, numpy=27>,\n",
              " <tf.Tensor: shape=(), dtype=int64, numpy=45>,\n",
              " <tf.Tensor: shape=(50,), dtype=int32, numpy=\n",
              " array([45,  2, 46, 32, 28, 43, 10, 34, 44, 39, 14, 23,  4, 47, 31, 42,  3,\n",
              "        49, 16,  9, 17, 24,  5, 26, 40, 20,  1,  7, 21, 13, 11, 38, 33, 48,\n",
              "        25,  8,  6,  0, 35, 29, 18, 12, 30, 37, 36, 41, 19, 15, 22, 27],\n",
              "       dtype=int32)>)"
            ]
          },
          "metadata": {},
          "execution_count": 112
        }
      ]
    },
    {
      "cell_type": "code",
      "source": [
        "tf.one_hot([1,2,3,4], depth = 5, on_value=\"Shivam\", off_value=\"No-Shivam\")"
      ],
      "metadata": {
        "colab": {
          "base_uri": "https://localhost:8080/"
        },
        "id": "IBrAGRvG95nz",
        "outputId": "34af3dc8-9fcb-40ea-e682-1dee33aea8fc"
      },
      "execution_count": null,
      "outputs": [
        {
          "output_type": "execute_result",
          "data": {
            "text/plain": [
              "<tf.Tensor: shape=(4, 5), dtype=string, numpy=\n",
              "array([[b'No-Shivam', b'Shivam', b'No-Shivam', b'No-Shivam',\n",
              "        b'No-Shivam'],\n",
              "       [b'No-Shivam', b'No-Shivam', b'Shivam', b'No-Shivam',\n",
              "        b'No-Shivam'],\n",
              "       [b'No-Shivam', b'No-Shivam', b'No-Shivam', b'Shivam',\n",
              "        b'No-Shivam'],\n",
              "       [b'No-Shivam', b'No-Shivam', b'No-Shivam', b'No-Shivam',\n",
              "        b'Shivam']], dtype=object)>"
            ]
          },
          "metadata": {},
          "execution_count": 119
        }
      ]
    },
    {
      "cell_type": "code",
      "source": [
        "tf6 = tf.constant(np.arange(1,11), dtype=tf.float32)\n",
        "tf.square(tf6)"
      ],
      "metadata": {
        "colab": {
          "base_uri": "https://localhost:8080/"
        },
        "id": "xMsCe0l8-YV1",
        "outputId": "c66bfe26-bf79-4c05-aff0-0f679b44e751"
      },
      "execution_count": null,
      "outputs": [
        {
          "output_type": "execute_result",
          "data": {
            "text/plain": [
              "<tf.Tensor: shape=(10,), dtype=float32, numpy=\n",
              "array([  1.,   4.,   9.,  16.,  25.,  36.,  49.,  64.,  81., 100.],\n",
              "      dtype=float32)>"
            ]
          },
          "metadata": {},
          "execution_count": 124
        }
      ]
    },
    {
      "cell_type": "code",
      "source": [
        "tf.sqrt(tf6)"
      ],
      "metadata": {
        "colab": {
          "base_uri": "https://localhost:8080/"
        },
        "id": "2dNE_NGiBSKg",
        "outputId": "dfb39ad4-a1a4-4794-892d-5be854150f80"
      },
      "execution_count": null,
      "outputs": [
        {
          "output_type": "execute_result",
          "data": {
            "text/plain": [
              "<tf.Tensor: shape=(10,), dtype=float32, numpy=\n",
              "array([0.99999994, 1.4142134 , 1.7320508 , 1.9999999 , 2.236068  ,\n",
              "       2.4494896 , 2.6457512 , 2.8284268 , 3.        , 3.1622777 ],\n",
              "      dtype=float32)>"
            ]
          },
          "metadata": {},
          "execution_count": 125
        }
      ]
    },
    {
      "cell_type": "code",
      "source": [
        ""
      ],
      "metadata": {
        "id": "sMuY1RgMBa36"
      },
      "execution_count": null,
      "outputs": []
    },
    {
      "cell_type": "code",
      "source": [
        ""
      ],
      "metadata": {
        "id": "88beg_aPB3Tm"
      },
      "execution_count": null,
      "outputs": []
    }
  ]
}