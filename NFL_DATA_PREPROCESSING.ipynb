{
  "nbformat": 4,
  "nbformat_minor": 0,
  "metadata": {
    "colab": {
      "name": "NFL_DATA_PREPROCESSING.ipynb",
      "provenance": [],
      "collapsed_sections": [],
      "authorship_tag": "ABX9TyPHFSXZghN9XFnlJpMCGDdm",
      "include_colab_link": true
    },
    "kernelspec": {
      "name": "python3",
      "display_name": "Python 3"
    },
    "language_info": {
      "name": "python"
    }
  },
  "cells": [
    {
      "cell_type": "markdown",
      "metadata": {
        "id": "view-in-github",
        "colab_type": "text"
      },
      "source": [
        "<a href=\"https://colab.research.google.com/github/SP-TechForest/Python-creations/blob/main/NFL_DATA_PREPROCESSING.ipynb\" target=\"_parent\"><img src=\"https://colab.research.google.com/assets/colab-badge.svg\" alt=\"Open In Colab\"/></a>"
      ]
    },
    {
      "cell_type": "code",
      "execution_count": 69,
      "metadata": {
        "id": "5zeT5Osn9Zye"
      },
      "outputs": [],
      "source": [
        "import pandas as pd\n",
        "import random \n",
        "import numpy as np \n",
        "import plotly.express as px"
      ]
    },
    {
      "cell_type": "code",
      "source": [
        "data = pd.read_csv(\"NFL1.csv\")"
      ],
      "metadata": {
        "colab": {
          "base_uri": "https://localhost:8080/"
        },
        "id": "91wTRYV4MRAM",
        "outputId": "2d3f8402-d172-4099-cdd4-b989fa39d963"
      },
      "execution_count": 70,
      "outputs": [
        {
          "output_type": "stream",
          "name": "stderr",
          "text": [
            "/usr/local/lib/python3.7/dist-packages/IPython/core/interactiveshell.py:2882: DtypeWarning:\n",
            "\n",
            "Columns (51) have mixed types.Specify dtype option on import or set low_memory=False.\n",
            "\n"
          ]
        }
      ]
    },
    {
      "cell_type": "code",
      "source": [
        "data.head()"
      ],
      "metadata": {
        "colab": {
          "base_uri": "https://localhost:8080/",
          "height": 560
        },
        "id": "ZWQvuV_mMYZX",
        "outputId": "86af1f5b-9480-49aa-c4b6-285457964412"
      },
      "execution_count": 71,
      "outputs": [
        {
          "output_type": "execute_result",
          "data": {
            "text/html": [
              "\n",
              "  <div id=\"df-4d8aad95-e76d-47c9-ba73-62849a9d6a26\">\n",
              "    <div class=\"colab-df-container\">\n",
              "      <div>\n",
              "<style scoped>\n",
              "    .dataframe tbody tr th:only-of-type {\n",
              "        vertical-align: middle;\n",
              "    }\n",
              "\n",
              "    .dataframe tbody tr th {\n",
              "        vertical-align: top;\n",
              "    }\n",
              "\n",
              "    .dataframe thead th {\n",
              "        text-align: right;\n",
              "    }\n",
              "</style>\n",
              "<table border=\"1\" class=\"dataframe\">\n",
              "  <thead>\n",
              "    <tr style=\"text-align: right;\">\n",
              "      <th></th>\n",
              "      <th>Date</th>\n",
              "      <th>GameID</th>\n",
              "      <th>Drive</th>\n",
              "      <th>qtr</th>\n",
              "      <th>down</th>\n",
              "      <th>time</th>\n",
              "      <th>TimeUnder</th>\n",
              "      <th>TimeSecs</th>\n",
              "      <th>PlayTimeDiff</th>\n",
              "      <th>SideofField</th>\n",
              "      <th>yrdln</th>\n",
              "      <th>yrdline100</th>\n",
              "      <th>ydstogo</th>\n",
              "      <th>ydsnet</th>\n",
              "      <th>GoalToGo</th>\n",
              "      <th>FirstDown</th>\n",
              "      <th>posteam</th>\n",
              "      <th>DefensiveTeam</th>\n",
              "      <th>desc</th>\n",
              "      <th>PlayAttempted</th>\n",
              "      <th>Yards.Gained</th>\n",
              "      <th>sp</th>\n",
              "      <th>Touchdown</th>\n",
              "      <th>ExPointResult</th>\n",
              "      <th>TwoPointConv</th>\n",
              "      <th>DefTwoPoint</th>\n",
              "      <th>Safety</th>\n",
              "      <th>Onsidekick</th>\n",
              "      <th>PuntResult</th>\n",
              "      <th>PlayType</th>\n",
              "      <th>Passer</th>\n",
              "      <th>Passer_ID</th>\n",
              "      <th>PassAttempt</th>\n",
              "      <th>PassOutcome</th>\n",
              "      <th>PassLength</th>\n",
              "      <th>AirYards</th>\n",
              "      <th>YardsAfterCatch</th>\n",
              "      <th>QBHit</th>\n",
              "      <th>PassLocation</th>\n",
              "      <th>InterceptionThrown</th>\n",
              "      <th>...</th>\n",
              "      <th>Accepted.Penalty</th>\n",
              "      <th>PenalizedTeam</th>\n",
              "      <th>PenaltyType</th>\n",
              "      <th>PenalizedPlayer</th>\n",
              "      <th>Penalty.Yards</th>\n",
              "      <th>PosTeamScore</th>\n",
              "      <th>DefTeamScore</th>\n",
              "      <th>ScoreDiff</th>\n",
              "      <th>AbsScoreDiff</th>\n",
              "      <th>HomeTeam</th>\n",
              "      <th>AwayTeam</th>\n",
              "      <th>Timeout_Indicator</th>\n",
              "      <th>Timeout_Team</th>\n",
              "      <th>posteam_timeouts_pre</th>\n",
              "      <th>HomeTimeouts_Remaining_Pre</th>\n",
              "      <th>AwayTimeouts_Remaining_Pre</th>\n",
              "      <th>HomeTimeouts_Remaining_Post</th>\n",
              "      <th>AwayTimeouts_Remaining_Post</th>\n",
              "      <th>No_Score_Prob</th>\n",
              "      <th>Opp_Field_Goal_Prob</th>\n",
              "      <th>Opp_Safety_Prob</th>\n",
              "      <th>Opp_Touchdown_Prob</th>\n",
              "      <th>Field_Goal_Prob</th>\n",
              "      <th>Safety_Prob</th>\n",
              "      <th>Touchdown_Prob</th>\n",
              "      <th>ExPoint_Prob</th>\n",
              "      <th>TwoPoint_Prob</th>\n",
              "      <th>ExpPts</th>\n",
              "      <th>EPA</th>\n",
              "      <th>airEPA</th>\n",
              "      <th>yacEPA</th>\n",
              "      <th>Home_WP_pre</th>\n",
              "      <th>Away_WP_pre</th>\n",
              "      <th>Home_WP_post</th>\n",
              "      <th>Away_WP_post</th>\n",
              "      <th>Win_Prob</th>\n",
              "      <th>WPA</th>\n",
              "      <th>airWPA</th>\n",
              "      <th>yacWPA</th>\n",
              "      <th>Season</th>\n",
              "    </tr>\n",
              "  </thead>\n",
              "  <tbody>\n",
              "    <tr>\n",
              "      <th>0</th>\n",
              "      <td>10-09-2009</td>\n",
              "      <td>2009091000</td>\n",
              "      <td>1</td>\n",
              "      <td>1</td>\n",
              "      <td>NaN</td>\n",
              "      <td>15:00</td>\n",
              "      <td>15</td>\n",
              "      <td>3600.0</td>\n",
              "      <td>0.0</td>\n",
              "      <td>TEN</td>\n",
              "      <td>30.0</td>\n",
              "      <td>30.0</td>\n",
              "      <td>0</td>\n",
              "      <td>0</td>\n",
              "      <td>0.0</td>\n",
              "      <td>NaN</td>\n",
              "      <td>PIT</td>\n",
              "      <td>TEN</td>\n",
              "      <td>R.Bironas kicks 67 yards from TEN 30 to PIT 3....</td>\n",
              "      <td>1</td>\n",
              "      <td>39</td>\n",
              "      <td>0</td>\n",
              "      <td>0</td>\n",
              "      <td>NaN</td>\n",
              "      <td>NaN</td>\n",
              "      <td>NaN</td>\n",
              "      <td>0</td>\n",
              "      <td>0</td>\n",
              "      <td>NaN</td>\n",
              "      <td>Kickoff</td>\n",
              "      <td>NaN</td>\n",
              "      <td>None</td>\n",
              "      <td>0</td>\n",
              "      <td>NaN</td>\n",
              "      <td>NaN</td>\n",
              "      <td>0</td>\n",
              "      <td>0</td>\n",
              "      <td>0</td>\n",
              "      <td>NaN</td>\n",
              "      <td>0</td>\n",
              "      <td>...</td>\n",
              "      <td>0</td>\n",
              "      <td>NaN</td>\n",
              "      <td>NaN</td>\n",
              "      <td>NaN</td>\n",
              "      <td>0</td>\n",
              "      <td>0.0</td>\n",
              "      <td>0.0</td>\n",
              "      <td>0.0</td>\n",
              "      <td>0.0</td>\n",
              "      <td>PIT</td>\n",
              "      <td>TEN</td>\n",
              "      <td>0</td>\n",
              "      <td>None</td>\n",
              "      <td>3</td>\n",
              "      <td>3</td>\n",
              "      <td>3</td>\n",
              "      <td>3</td>\n",
              "      <td>3</td>\n",
              "      <td>0.001506</td>\n",
              "      <td>0.179749</td>\n",
              "      <td>0.006639</td>\n",
              "      <td>0.281138</td>\n",
              "      <td>0.213700</td>\n",
              "      <td>0.003592</td>\n",
              "      <td>0.313676</td>\n",
              "      <td>0.0</td>\n",
              "      <td>0.0</td>\n",
              "      <td>0.323526</td>\n",
              "      <td>2.014474</td>\n",
              "      <td>NaN</td>\n",
              "      <td>NaN</td>\n",
              "      <td>0.485675</td>\n",
              "      <td>0.514325</td>\n",
              "      <td>0.546433</td>\n",
              "      <td>0.453567</td>\n",
              "      <td>0.485675</td>\n",
              "      <td>0.060758</td>\n",
              "      <td>NaN</td>\n",
              "      <td>NaN</td>\n",
              "      <td>2009</td>\n",
              "    </tr>\n",
              "    <tr>\n",
              "      <th>1</th>\n",
              "      <td>10-09-2009</td>\n",
              "      <td>2009091000</td>\n",
              "      <td>1</td>\n",
              "      <td>1</td>\n",
              "      <td>1.0</td>\n",
              "      <td>14:53</td>\n",
              "      <td>15</td>\n",
              "      <td>3593.0</td>\n",
              "      <td>7.0</td>\n",
              "      <td>PIT</td>\n",
              "      <td>42.0</td>\n",
              "      <td>58.0</td>\n",
              "      <td>10</td>\n",
              "      <td>5</td>\n",
              "      <td>0.0</td>\n",
              "      <td>0.0</td>\n",
              "      <td>PIT</td>\n",
              "      <td>TEN</td>\n",
              "      <td>(14:53) B.Roethlisberger pass short left to H....</td>\n",
              "      <td>1</td>\n",
              "      <td>5</td>\n",
              "      <td>0</td>\n",
              "      <td>0</td>\n",
              "      <td>NaN</td>\n",
              "      <td>NaN</td>\n",
              "      <td>NaN</td>\n",
              "      <td>0</td>\n",
              "      <td>0</td>\n",
              "      <td>NaN</td>\n",
              "      <td>Pass</td>\n",
              "      <td>B.Roethlisberger</td>\n",
              "      <td>00-0022924</td>\n",
              "      <td>1</td>\n",
              "      <td>Complete</td>\n",
              "      <td>Short</td>\n",
              "      <td>-3</td>\n",
              "      <td>8</td>\n",
              "      <td>0</td>\n",
              "      <td>left</td>\n",
              "      <td>0</td>\n",
              "      <td>...</td>\n",
              "      <td>0</td>\n",
              "      <td>NaN</td>\n",
              "      <td>NaN</td>\n",
              "      <td>NaN</td>\n",
              "      <td>0</td>\n",
              "      <td>0.0</td>\n",
              "      <td>0.0</td>\n",
              "      <td>0.0</td>\n",
              "      <td>0.0</td>\n",
              "      <td>PIT</td>\n",
              "      <td>TEN</td>\n",
              "      <td>0</td>\n",
              "      <td>None</td>\n",
              "      <td>3</td>\n",
              "      <td>3</td>\n",
              "      <td>3</td>\n",
              "      <td>3</td>\n",
              "      <td>3</td>\n",
              "      <td>0.000969</td>\n",
              "      <td>0.108505</td>\n",
              "      <td>0.001061</td>\n",
              "      <td>0.169117</td>\n",
              "      <td>0.293700</td>\n",
              "      <td>0.003638</td>\n",
              "      <td>0.423011</td>\n",
              "      <td>0.0</td>\n",
              "      <td>0.0</td>\n",
              "      <td>2.338000</td>\n",
              "      <td>0.077907</td>\n",
              "      <td>-1.068169</td>\n",
              "      <td>1.146076</td>\n",
              "      <td>0.546433</td>\n",
              "      <td>0.453567</td>\n",
              "      <td>0.551088</td>\n",
              "      <td>0.448912</td>\n",
              "      <td>0.546433</td>\n",
              "      <td>0.004655</td>\n",
              "      <td>-0.032244</td>\n",
              "      <td>0.036899</td>\n",
              "      <td>2009</td>\n",
              "    </tr>\n",
              "    <tr>\n",
              "      <th>2</th>\n",
              "      <td>10-09-2009</td>\n",
              "      <td>2009091000</td>\n",
              "      <td>1</td>\n",
              "      <td>1</td>\n",
              "      <td>2.0</td>\n",
              "      <td>14:16</td>\n",
              "      <td>15</td>\n",
              "      <td>3556.0</td>\n",
              "      <td>37.0</td>\n",
              "      <td>PIT</td>\n",
              "      <td>47.0</td>\n",
              "      <td>53.0</td>\n",
              "      <td>5</td>\n",
              "      <td>2</td>\n",
              "      <td>0.0</td>\n",
              "      <td>0.0</td>\n",
              "      <td>PIT</td>\n",
              "      <td>TEN</td>\n",
              "      <td>(14:16) W.Parker right end to PIT 44 for -3 ya...</td>\n",
              "      <td>1</td>\n",
              "      <td>-3</td>\n",
              "      <td>0</td>\n",
              "      <td>0</td>\n",
              "      <td>NaN</td>\n",
              "      <td>NaN</td>\n",
              "      <td>NaN</td>\n",
              "      <td>0</td>\n",
              "      <td>0</td>\n",
              "      <td>NaN</td>\n",
              "      <td>Run</td>\n",
              "      <td>NaN</td>\n",
              "      <td>None</td>\n",
              "      <td>0</td>\n",
              "      <td>NaN</td>\n",
              "      <td>NaN</td>\n",
              "      <td>0</td>\n",
              "      <td>0</td>\n",
              "      <td>0</td>\n",
              "      <td>NaN</td>\n",
              "      <td>0</td>\n",
              "      <td>...</td>\n",
              "      <td>0</td>\n",
              "      <td>NaN</td>\n",
              "      <td>NaN</td>\n",
              "      <td>NaN</td>\n",
              "      <td>0</td>\n",
              "      <td>0.0</td>\n",
              "      <td>0.0</td>\n",
              "      <td>0.0</td>\n",
              "      <td>0.0</td>\n",
              "      <td>PIT</td>\n",
              "      <td>TEN</td>\n",
              "      <td>0</td>\n",
              "      <td>None</td>\n",
              "      <td>3</td>\n",
              "      <td>3</td>\n",
              "      <td>3</td>\n",
              "      <td>3</td>\n",
              "      <td>3</td>\n",
              "      <td>0.001057</td>\n",
              "      <td>0.105106</td>\n",
              "      <td>0.000981</td>\n",
              "      <td>0.162747</td>\n",
              "      <td>0.304805</td>\n",
              "      <td>0.003826</td>\n",
              "      <td>0.421478</td>\n",
              "      <td>0.0</td>\n",
              "      <td>0.0</td>\n",
              "      <td>2.415907</td>\n",
              "      <td>-1.402760</td>\n",
              "      <td>NaN</td>\n",
              "      <td>NaN</td>\n",
              "      <td>0.551088</td>\n",
              "      <td>0.448912</td>\n",
              "      <td>0.510793</td>\n",
              "      <td>0.489207</td>\n",
              "      <td>0.551088</td>\n",
              "      <td>-0.040295</td>\n",
              "      <td>NaN</td>\n",
              "      <td>NaN</td>\n",
              "      <td>2009</td>\n",
              "    </tr>\n",
              "    <tr>\n",
              "      <th>3</th>\n",
              "      <td>10-09-2009</td>\n",
              "      <td>2009091000</td>\n",
              "      <td>1</td>\n",
              "      <td>1</td>\n",
              "      <td>3.0</td>\n",
              "      <td>13:35</td>\n",
              "      <td>14</td>\n",
              "      <td>3515.0</td>\n",
              "      <td>41.0</td>\n",
              "      <td>PIT</td>\n",
              "      <td>44.0</td>\n",
              "      <td>56.0</td>\n",
              "      <td>8</td>\n",
              "      <td>2</td>\n",
              "      <td>0.0</td>\n",
              "      <td>0.0</td>\n",
              "      <td>PIT</td>\n",
              "      <td>TEN</td>\n",
              "      <td>(13:35) (Shotgun) B.Roethlisberger pass incomp...</td>\n",
              "      <td>1</td>\n",
              "      <td>0</td>\n",
              "      <td>0</td>\n",
              "      <td>0</td>\n",
              "      <td>NaN</td>\n",
              "      <td>NaN</td>\n",
              "      <td>NaN</td>\n",
              "      <td>0</td>\n",
              "      <td>0</td>\n",
              "      <td>NaN</td>\n",
              "      <td>Pass</td>\n",
              "      <td>B.Roethlisberger</td>\n",
              "      <td>00-0022924</td>\n",
              "      <td>1</td>\n",
              "      <td>Incomplete Pass</td>\n",
              "      <td>Deep</td>\n",
              "      <td>34</td>\n",
              "      <td>0</td>\n",
              "      <td>0</td>\n",
              "      <td>right</td>\n",
              "      <td>0</td>\n",
              "      <td>...</td>\n",
              "      <td>0</td>\n",
              "      <td>NaN</td>\n",
              "      <td>NaN</td>\n",
              "      <td>NaN</td>\n",
              "      <td>0</td>\n",
              "      <td>0.0</td>\n",
              "      <td>0.0</td>\n",
              "      <td>0.0</td>\n",
              "      <td>0.0</td>\n",
              "      <td>PIT</td>\n",
              "      <td>TEN</td>\n",
              "      <td>0</td>\n",
              "      <td>None</td>\n",
              "      <td>3</td>\n",
              "      <td>3</td>\n",
              "      <td>3</td>\n",
              "      <td>3</td>\n",
              "      <td>3</td>\n",
              "      <td>0.001434</td>\n",
              "      <td>0.149088</td>\n",
              "      <td>0.001944</td>\n",
              "      <td>0.234801</td>\n",
              "      <td>0.289336</td>\n",
              "      <td>0.004776</td>\n",
              "      <td>0.318621</td>\n",
              "      <td>0.0</td>\n",
              "      <td>0.0</td>\n",
              "      <td>1.013147</td>\n",
              "      <td>-1.712583</td>\n",
              "      <td>3.318841</td>\n",
              "      <td>-5.031425</td>\n",
              "      <td>0.510793</td>\n",
              "      <td>0.489207</td>\n",
              "      <td>0.461217</td>\n",
              "      <td>0.538783</td>\n",
              "      <td>0.510793</td>\n",
              "      <td>-0.049576</td>\n",
              "      <td>0.106663</td>\n",
              "      <td>-0.156239</td>\n",
              "      <td>2009</td>\n",
              "    </tr>\n",
              "    <tr>\n",
              "      <th>4</th>\n",
              "      <td>10-09-2009</td>\n",
              "      <td>2009091000</td>\n",
              "      <td>1</td>\n",
              "      <td>1</td>\n",
              "      <td>4.0</td>\n",
              "      <td>13:27</td>\n",
              "      <td>14</td>\n",
              "      <td>3507.0</td>\n",
              "      <td>8.0</td>\n",
              "      <td>PIT</td>\n",
              "      <td>44.0</td>\n",
              "      <td>56.0</td>\n",
              "      <td>8</td>\n",
              "      <td>2</td>\n",
              "      <td>0.0</td>\n",
              "      <td>1.0</td>\n",
              "      <td>PIT</td>\n",
              "      <td>TEN</td>\n",
              "      <td>(13:27) (Punt formation) D.Sepulveda punts 54 ...</td>\n",
              "      <td>1</td>\n",
              "      <td>0</td>\n",
              "      <td>0</td>\n",
              "      <td>0</td>\n",
              "      <td>NaN</td>\n",
              "      <td>NaN</td>\n",
              "      <td>NaN</td>\n",
              "      <td>0</td>\n",
              "      <td>0</td>\n",
              "      <td>Clean</td>\n",
              "      <td>Punt</td>\n",
              "      <td>NaN</td>\n",
              "      <td>None</td>\n",
              "      <td>0</td>\n",
              "      <td>NaN</td>\n",
              "      <td>NaN</td>\n",
              "      <td>0</td>\n",
              "      <td>0</td>\n",
              "      <td>0</td>\n",
              "      <td>NaN</td>\n",
              "      <td>0</td>\n",
              "      <td>...</td>\n",
              "      <td>0</td>\n",
              "      <td>NaN</td>\n",
              "      <td>NaN</td>\n",
              "      <td>NaN</td>\n",
              "      <td>0</td>\n",
              "      <td>0.0</td>\n",
              "      <td>0.0</td>\n",
              "      <td>0.0</td>\n",
              "      <td>0.0</td>\n",
              "      <td>PIT</td>\n",
              "      <td>TEN</td>\n",
              "      <td>0</td>\n",
              "      <td>None</td>\n",
              "      <td>3</td>\n",
              "      <td>3</td>\n",
              "      <td>3</td>\n",
              "      <td>3</td>\n",
              "      <td>3</td>\n",
              "      <td>0.001861</td>\n",
              "      <td>0.213480</td>\n",
              "      <td>0.003279</td>\n",
              "      <td>0.322262</td>\n",
              "      <td>0.244603</td>\n",
              "      <td>0.006404</td>\n",
              "      <td>0.208111</td>\n",
              "      <td>0.0</td>\n",
              "      <td>0.0</td>\n",
              "      <td>-0.699436</td>\n",
              "      <td>2.097796</td>\n",
              "      <td>NaN</td>\n",
              "      <td>NaN</td>\n",
              "      <td>0.461217</td>\n",
              "      <td>0.538783</td>\n",
              "      <td>0.558929</td>\n",
              "      <td>0.441071</td>\n",
              "      <td>0.461217</td>\n",
              "      <td>0.097712</td>\n",
              "      <td>NaN</td>\n",
              "      <td>NaN</td>\n",
              "      <td>2009</td>\n",
              "    </tr>\n",
              "  </tbody>\n",
              "</table>\n",
              "<p>5 rows × 102 columns</p>\n",
              "</div>\n",
              "      <button class=\"colab-df-convert\" onclick=\"convertToInteractive('df-4d8aad95-e76d-47c9-ba73-62849a9d6a26')\"\n",
              "              title=\"Convert this dataframe to an interactive table.\"\n",
              "              style=\"display:none;\">\n",
              "        \n",
              "  <svg xmlns=\"http://www.w3.org/2000/svg\" height=\"24px\"viewBox=\"0 0 24 24\"\n",
              "       width=\"24px\">\n",
              "    <path d=\"M0 0h24v24H0V0z\" fill=\"none\"/>\n",
              "    <path d=\"M18.56 5.44l.94 2.06.94-2.06 2.06-.94-2.06-.94-.94-2.06-.94 2.06-2.06.94zm-11 1L8.5 8.5l.94-2.06 2.06-.94-2.06-.94L8.5 2.5l-.94 2.06-2.06.94zm10 10l.94 2.06.94-2.06 2.06-.94-2.06-.94-.94-2.06-.94 2.06-2.06.94z\"/><path d=\"M17.41 7.96l-1.37-1.37c-.4-.4-.92-.59-1.43-.59-.52 0-1.04.2-1.43.59L10.3 9.45l-7.72 7.72c-.78.78-.78 2.05 0 2.83L4 21.41c.39.39.9.59 1.41.59.51 0 1.02-.2 1.41-.59l7.78-7.78 2.81-2.81c.8-.78.8-2.07 0-2.86zM5.41 20L4 18.59l7.72-7.72 1.47 1.35L5.41 20z\"/>\n",
              "  </svg>\n",
              "      </button>\n",
              "      \n",
              "  <style>\n",
              "    .colab-df-container {\n",
              "      display:flex;\n",
              "      flex-wrap:wrap;\n",
              "      gap: 12px;\n",
              "    }\n",
              "\n",
              "    .colab-df-convert {\n",
              "      background-color: #E8F0FE;\n",
              "      border: none;\n",
              "      border-radius: 50%;\n",
              "      cursor: pointer;\n",
              "      display: none;\n",
              "      fill: #1967D2;\n",
              "      height: 32px;\n",
              "      padding: 0 0 0 0;\n",
              "      width: 32px;\n",
              "    }\n",
              "\n",
              "    .colab-df-convert:hover {\n",
              "      background-color: #E2EBFA;\n",
              "      box-shadow: 0px 1px 2px rgba(60, 64, 67, 0.3), 0px 1px 3px 1px rgba(60, 64, 67, 0.15);\n",
              "      fill: #174EA6;\n",
              "    }\n",
              "\n",
              "    [theme=dark] .colab-df-convert {\n",
              "      background-color: #3B4455;\n",
              "      fill: #D2E3FC;\n",
              "    }\n",
              "\n",
              "    [theme=dark] .colab-df-convert:hover {\n",
              "      background-color: #434B5C;\n",
              "      box-shadow: 0px 1px 3px 1px rgba(0, 0, 0, 0.15);\n",
              "      filter: drop-shadow(0px 1px 2px rgba(0, 0, 0, 0.3));\n",
              "      fill: #FFFFFF;\n",
              "    }\n",
              "  </style>\n",
              "\n",
              "      <script>\n",
              "        const buttonEl =\n",
              "          document.querySelector('#df-4d8aad95-e76d-47c9-ba73-62849a9d6a26 button.colab-df-convert');\n",
              "        buttonEl.style.display =\n",
              "          google.colab.kernel.accessAllowed ? 'block' : 'none';\n",
              "\n",
              "        async function convertToInteractive(key) {\n",
              "          const element = document.querySelector('#df-4d8aad95-e76d-47c9-ba73-62849a9d6a26');\n",
              "          const dataTable =\n",
              "            await google.colab.kernel.invokeFunction('convertToInteractive',\n",
              "                                                     [key], {});\n",
              "          if (!dataTable) return;\n",
              "\n",
              "          const docLinkHtml = 'Like what you see? Visit the ' +\n",
              "            '<a target=\"_blank\" href=https://colab.research.google.com/notebooks/data_table.ipynb>data table notebook</a>'\n",
              "            + ' to learn more about interactive tables.';\n",
              "          element.innerHTML = '';\n",
              "          dataTable['output_type'] = 'display_data';\n",
              "          await google.colab.output.renderOutput(dataTable, element);\n",
              "          const docLink = document.createElement('div');\n",
              "          docLink.innerHTML = docLinkHtml;\n",
              "          element.appendChild(docLink);\n",
              "        }\n",
              "      </script>\n",
              "    </div>\n",
              "  </div>\n",
              "  "
            ],
            "text/plain": [
              "         Date      GameID  Drive  qtr  ...       WPA    airWPA    yacWPA  Season\n",
              "0  10-09-2009  2009091000      1    1  ...  0.060758       NaN       NaN    2009\n",
              "1  10-09-2009  2009091000      1    1  ...  0.004655 -0.032244  0.036899    2009\n",
              "2  10-09-2009  2009091000      1    1  ... -0.040295       NaN       NaN    2009\n",
              "3  10-09-2009  2009091000      1    1  ... -0.049576  0.106663 -0.156239    2009\n",
              "4  10-09-2009  2009091000      1    1  ...  0.097712       NaN       NaN    2009\n",
              "\n",
              "[5 rows x 102 columns]"
            ]
          },
          "metadata": {},
          "execution_count": 71
        }
      ]
    },
    {
      "cell_type": "code",
      "source": [
        "data.shape"
      ],
      "metadata": {
        "colab": {
          "base_uri": "https://localhost:8080/"
        },
        "id": "ktaJ_3LoMZv6",
        "outputId": "f3e43d0e-7b21-415f-c69e-8a18f70d9765"
      },
      "execution_count": 72,
      "outputs": [
        {
          "output_type": "execute_result",
          "data": {
            "text/plain": [
              "(9999, 102)"
            ]
          },
          "metadata": {},
          "execution_count": 72
        }
      ]
    },
    {
      "cell_type": "markdown",
      "source": [
        "Data base have 9999 rows and 102 columns "
      ],
      "metadata": {
        "id": "D_S_IydsHhxW"
      }
    },
    {
      "cell_type": "markdown",
      "source": [
        "<b>Find_missing_data</b> function will return the column name which has missing value with percentage of missing value. "
      ],
      "metadata": {
        "id": "mwRn-_FCHqA3"
      }
    },
    {
      "cell_type": "code",
      "source": [
        "def find_missing_data(temp_data):\n",
        "  missing_cols = data.columns[data.isna().any()]\n",
        "  missing_data = data[missing_cols].isna().mean().sort_values(ascending = False)*100\n",
        "  return missing_data"
      ],
      "metadata": {
        "id": "XXMFUXZAMdxg"
      },
      "execution_count": 73,
      "outputs": []
    },
    {
      "cell_type": "code",
      "source": [
        "missing_data = find_missing_data(data)\n",
        "Drop_cols = [missing_data.axes[0][col] for col in range(len(missing_data)) if missing_data[col] > 50 ]"
      ],
      "metadata": {
        "id": "HpE-iToYLXFI"
      },
      "execution_count": 74,
      "outputs": []
    },
    {
      "cell_type": "markdown",
      "source": [
        "Drop cols contains the column name which has missing values more than 50%. "
      ],
      "metadata": {
        "id": "mjAdRdf6IKQD"
      }
    },
    {
      "cell_type": "code",
      "source": [
        "data.drop(Drop_cols, axis = 1, inplace=True)"
      ],
      "metadata": {
        "id": "7fnVE6aOMR4M"
      },
      "execution_count": 75,
      "outputs": []
    },
    {
      "cell_type": "code",
      "source": [
        "data.shape"
      ],
      "metadata": {
        "colab": {
          "base_uri": "https://localhost:8080/"
        },
        "id": "L-ij_0BMMi1T",
        "outputId": "0bfa63f7-4b2d-426c-f373-08f67b39e669"
      },
      "execution_count": 76,
      "outputs": [
        {
          "output_type": "execute_result",
          "data": {
            "text/plain": [
              "(9999, 73)"
            ]
          },
          "metadata": {},
          "execution_count": 76
        }
      ]
    },
    {
      "cell_type": "markdown",
      "source": [
        "After removing the columns which have missign data more than 50%, we have 73 columns remaining. "
      ],
      "metadata": {
        "id": "8X8RxCe8IR65"
      }
    },
    {
      "cell_type": "code",
      "source": [
        "missing_data = find_missing_data(data)\n",
        "missing_data"
      ],
      "metadata": {
        "colab": {
          "base_uri": "https://localhost:8080/"
        },
        "id": "cYySAhTBNLZ4",
        "outputId": "774e46e8-3ccc-40f9-9fbd-64cc9aad8ca9"
      },
      "execution_count": 77,
      "outputs": [
        {
          "output_type": "execute_result",
          "data": {
            "text/plain": [
              "Tackler1               39.773977\n",
              "down                   15.351535\n",
              "DefTeamScore            7.230723\n",
              "PosTeamScore            7.230723\n",
              "AbsScoreDiff            7.230723\n",
              "Away_WP_post            7.130713\n",
              "Home_WP_post            7.130713\n",
              "FirstDown               7.040704\n",
              "posteam                 6.720672\n",
              "DefensiveTeam           6.720672\n",
              "ScoreDiff               6.720672\n",
              "Win_Prob                6.710671\n",
              "Away_WP_pre             6.690669\n",
              "Home_WP_pre             6.690669\n",
              "WPA                     1.530153\n",
              "yrdline100              0.220022\n",
              "yrdln                   0.220022\n",
              "GoalToGo                0.220022\n",
              "PlayTimeDiff            0.200020\n",
              "SideofField             0.180018\n",
              "EPA                     0.100010\n",
              "time                    0.100010\n",
              "TimeSecs                0.100010\n",
              "Opp_Field_Goal_Prob     0.050005\n",
              "No_Score_Prob           0.050005\n",
              "Opp_Touchdown_Prob      0.050005\n",
              "Field_Goal_Prob         0.050005\n",
              "Safety_Prob             0.050005\n",
              "Touchdown_Prob          0.050005\n",
              "ExpPts                  0.050005\n",
              "Opp_Safety_Prob         0.050005\n",
              "dtype: float64"
            ]
          },
          "metadata": {},
          "execution_count": 77
        }
      ]
    },
    {
      "cell_type": "markdown",
      "source": [
        "Table shows that, Tackler1 has 39% missign valeus. However, there columns contains name of athletes, so we cannot fill na with random values or something else. But, i am showing you the way to handle missing values in categorical columns. I am doing most frequent imputation in which i am taking most 10 frequent values and replace it with top 10 frequent values using random choice.  "
      ],
      "metadata": {
        "id": "SkAIB_f-IgCR"
      }
    },
    {
      "cell_type": "code",
      "source": [
        "data.Tackler1.nunique()"
      ],
      "metadata": {
        "colab": {
          "base_uri": "https://localhost:8080/"
        },
        "id": "qQ7NJ55kOOA8",
        "outputId": "328c163b-b0e9-4653-fd40-0ffa200c068e"
      },
      "execution_count": 78,
      "outputs": [
        {
          "output_type": "execute_result",
          "data": {
            "text/plain": [
              "870"
            ]
          },
          "metadata": {},
          "execution_count": 78
        }
      ]
    },
    {
      "cell_type": "code",
      "source": [
        "frequent_tackler = list(data.Tackler1.value_counts()[0:15].axes[0])"
      ],
      "metadata": {
        "id": "s8Qz2NrBPLeW"
      },
      "execution_count": 79,
      "outputs": []
    },
    {
      "cell_type": "code",
      "source": [
        "random.choice(frequent_tackler)"
      ],
      "metadata": {
        "colab": {
          "base_uri": "https://localhost:8080/",
          "height": 35
        },
        "id": "XTGEFg7iPbFQ",
        "outputId": "678cd939-2608-45b7-8cc6-bf5d216ac83f"
      },
      "execution_count": 80,
      "outputs": [
        {
          "output_type": "execute_result",
          "data": {
            "application/vnd.google.colaboratory.intrinsic+json": {
              "type": "string"
            },
            "text/plain": [
              "'D.Williams'"
            ]
          },
          "metadata": {},
          "execution_count": 80
        }
      ]
    },
    {
      "cell_type": "markdown",
      "source": [
        "Top 10 most frequent name "
      ],
      "metadata": {
        "id": "DBBwZ8H4JeJs"
      }
    },
    {
      "cell_type": "code",
      "source": [
        "frequent_tackler"
      ],
      "metadata": {
        "colab": {
          "base_uri": "https://localhost:8080/"
        },
        "id": "B9KlOPDNQaUk",
        "outputId": "e3edb672-4555-4ad6-f3b4-0c2937f5b73e"
      },
      "execution_count": 81,
      "outputs": [
        {
          "output_type": "execute_result",
          "data": {
            "text/plain": [
              "['D.Williams',\n",
              " 'G.Hayes',\n",
              " 'B.Scott',\n",
              " 'L.Fletcher',\n",
              " 'T.Davis',\n",
              " 'J.Durant',\n",
              " 'D.Jackson',\n",
              " 'M.Williams',\n",
              " 'C.Lofton',\n",
              " 'K.Morrison',\n",
              " 'T.Howard',\n",
              " 'D.Manning',\n",
              " 'C.Hope',\n",
              " 'D.Smith',\n",
              " 'Y.Bell']"
            ]
          },
          "metadata": {},
          "execution_count": 81
        }
      ]
    },
    {
      "cell_type": "code",
      "source": [
        "data1 = pd.DataFrame()\n",
        "data1['Tackler1'] = data['Tackler1'].fillna(random.choice(frequent_tackler)) "
      ],
      "metadata": {
        "id": "EoZByX43RLjH"
      },
      "execution_count": 82,
      "outputs": []
    },
    {
      "cell_type": "code",
      "source": [
        "data1.Tackler1.value_counts()[0:10]"
      ],
      "metadata": {
        "colab": {
          "base_uri": "https://localhost:8080/"
        },
        "id": "nTFbdhC8R0WO",
        "outputId": "dafd361b-124d-49b9-f1d9-872825ff6de7"
      },
      "execution_count": 83,
      "outputs": [
        {
          "output_type": "execute_result",
          "data": {
            "text/plain": [
              "Y.Bell        4004\n",
              "D.Williams      40\n",
              "G.Hayes         38\n",
              "B.Scott         37\n",
              "L.Fletcher      34\n",
              "T.Davis         32\n",
              "D.Jackson       31\n",
              "J.Durant        31\n",
              "M.Williams      29\n",
              "C.Lofton        29\n",
              "Name: Tackler1, dtype: int64"
            ]
          },
          "metadata": {},
          "execution_count": 83
        }
      ]
    },
    {
      "cell_type": "code",
      "source": [
        "data.Tackler1.isna().sum()"
      ],
      "metadata": {
        "colab": {
          "base_uri": "https://localhost:8080/"
        },
        "id": "DmpbrIsOScCV",
        "outputId": "8f4f7629-3b2c-4591-c075-9f3f6af1c474"
      },
      "execution_count": 84,
      "outputs": [
        {
          "output_type": "execute_result",
          "data": {
            "text/plain": [
              "3977"
            ]
          },
          "metadata": {},
          "execution_count": 84
        }
      ]
    },
    {
      "cell_type": "code",
      "source": [
        "sample = list(np.random.choice(frequent_tackler, size = 3977, replace = True))"
      ],
      "metadata": {
        "id": "VjrrAbslVC9Z"
      },
      "execution_count": 85,
      "outputs": []
    },
    {
      "cell_type": "code",
      "source": [
        "frequent_tackler = list(frequent_tackler)"
      ],
      "metadata": {
        "id": "--4gNBWrVUdc"
      },
      "execution_count": 86,
      "outputs": []
    },
    {
      "cell_type": "code",
      "source": [
        "inn = data['Tackler1'][data.Tackler1.isna()].axes[0]"
      ],
      "metadata": {
        "id": "5M98-O7LVufT"
      },
      "execution_count": 87,
      "outputs": []
    },
    {
      "cell_type": "markdown",
      "source": [
        "most frequent values impotation "
      ],
      "metadata": {
        "id": "TVE8Wv9RJrwa"
      }
    },
    {
      "cell_type": "code",
      "source": [
        "for i in inn:\n",
        "  data.at[i, 'Tackler1'] = np.random.choice(frequent_tackler)"
      ],
      "metadata": {
        "id": "gXoDyCjvYVgE"
      },
      "execution_count": 88,
      "outputs": []
    },
    {
      "cell_type": "code",
      "source": [
        "data.Tackler1.value_counts()[0:10]"
      ],
      "metadata": {
        "colab": {
          "base_uri": "https://localhost:8080/"
        },
        "id": "Hli_flBljLCu",
        "outputId": "c83253f7-3c9a-463b-cfff-fd311a8a2459"
      },
      "execution_count": 89,
      "outputs": [
        {
          "output_type": "execute_result",
          "data": {
            "text/plain": [
              "G.Hayes       313\n",
              "T.Davis       311\n",
              "M.Williams    311\n",
              "D.Smith       309\n",
              "D.Williams    308\n",
              "C.Lofton      303\n",
              "K.Morrison    301\n",
              "L.Fletcher    294\n",
              "D.Jackson     290\n",
              "Y.Bell        289\n",
              "Name: Tackler1, dtype: int64"
            ]
          },
          "metadata": {},
          "execution_count": 89
        }
      ]
    },
    {
      "cell_type": "code",
      "source": [
        "missing_data = find_missing_data(data)"
      ],
      "metadata": {
        "id": "i9axlfKljpdD"
      },
      "execution_count": 90,
      "outputs": []
    },
    {
      "cell_type": "code",
      "source": [
        "len(missing_data)"
      ],
      "metadata": {
        "colab": {
          "base_uri": "https://localhost:8080/"
        },
        "id": "ZdVDFRU_j0UT",
        "outputId": "5da5ed8d-405f-42d6-c469-b5dd733aab61"
      },
      "execution_count": 91,
      "outputs": [
        {
          "output_type": "execute_result",
          "data": {
            "text/plain": [
              "30"
            ]
          },
          "metadata": {},
          "execution_count": 91
        }
      ]
    },
    {
      "cell_type": "code",
      "source": [
        "len(data.columns[data.isna().any()])"
      ],
      "metadata": {
        "id": "1yqyw-IvkVT3",
        "colab": {
          "base_uri": "https://localhost:8080/"
        },
        "outputId": "9dfce5c2-2d19-4774-c126-ab854993f3bb"
      },
      "execution_count": 92,
      "outputs": [
        {
          "output_type": "execute_result",
          "data": {
            "text/plain": [
              "30"
            ]
          },
          "metadata": {},
          "execution_count": 92
        }
      ]
    },
    {
      "cell_type": "code",
      "source": [
        "missing_data"
      ],
      "metadata": {
        "colab": {
          "base_uri": "https://localhost:8080/"
        },
        "id": "1GnksDFZ4sxr",
        "outputId": "104aeaf6-e2a1-43c7-942f-7eb5b63e01fc"
      },
      "execution_count": 93,
      "outputs": [
        {
          "output_type": "execute_result",
          "data": {
            "text/plain": [
              "down                   15.351535\n",
              "AbsScoreDiff            7.230723\n",
              "PosTeamScore            7.230723\n",
              "DefTeamScore            7.230723\n",
              "Away_WP_post            7.130713\n",
              "Home_WP_post            7.130713\n",
              "FirstDown               7.040704\n",
              "ScoreDiff               6.720672\n",
              "posteam                 6.720672\n",
              "DefensiveTeam           6.720672\n",
              "Win_Prob                6.710671\n",
              "Away_WP_pre             6.690669\n",
              "Home_WP_pre             6.690669\n",
              "WPA                     1.530153\n",
              "GoalToGo                0.220022\n",
              "yrdline100              0.220022\n",
              "yrdln                   0.220022\n",
              "PlayTimeDiff            0.200020\n",
              "SideofField             0.180018\n",
              "time                    0.100010\n",
              "EPA                     0.100010\n",
              "TimeSecs                0.100010\n",
              "Opp_Field_Goal_Prob     0.050005\n",
              "Opp_Safety_Prob         0.050005\n",
              "Opp_Touchdown_Prob      0.050005\n",
              "Field_Goal_Prob         0.050005\n",
              "Safety_Prob             0.050005\n",
              "Touchdown_Prob          0.050005\n",
              "ExpPts                  0.050005\n",
              "No_Score_Prob           0.050005\n",
              "dtype: float64"
            ]
          },
          "metadata": {},
          "execution_count": 93
        }
      ]
    },
    {
      "cell_type": "code",
      "source": [
        "data.shape"
      ],
      "metadata": {
        "colab": {
          "base_uri": "https://localhost:8080/"
        },
        "id": "70NdfT2k456k",
        "outputId": "3b004221-993e-4ba2-95bc-3a9245190da7"
      },
      "execution_count": 94,
      "outputs": [
        {
          "output_type": "execute_result",
          "data": {
            "text/plain": [
              "(9999, 73)"
            ]
          },
          "metadata": {},
          "execution_count": 94
        }
      ]
    },
    {
      "cell_type": "code",
      "source": [
        "data.iterrows()"
      ],
      "metadata": {
        "colab": {
          "base_uri": "https://localhost:8080/"
        },
        "id": "o3WNsRCi48XF",
        "outputId": "629af983-12a5-4581-a2eb-ffe3ade2e80b"
      },
      "execution_count": 95,
      "outputs": [
        {
          "output_type": "execute_result",
          "data": {
            "text/plain": [
              "<generator object DataFrame.iterrows at 0x7fd410f577d0>"
            ]
          },
          "metadata": {},
          "execution_count": 95
        }
      ]
    },
    {
      "cell_type": "code",
      "source": [
        "null_rows = sum([True for inde, row in data.iterrows() if any(row.isnull())])"
      ],
      "metadata": {
        "id": "3Ms7Qw4L5cbl"
      },
      "execution_count": 96,
      "outputs": []
    },
    {
      "cell_type": "code",
      "source": [
        "(null_rows/data.shape[0]) *100"
      ],
      "metadata": {
        "id": "ochpOBqi5irY",
        "colab": {
          "base_uri": "https://localhost:8080/"
        },
        "outputId": "7058edda-0e33-498b-e1f8-b393722dd39b"
      },
      "execution_count": 97,
      "outputs": [
        {
          "output_type": "execute_result",
          "data": {
            "text/plain": [
              "15.791579157915791"
            ]
          },
          "metadata": {},
          "execution_count": 97
        }
      ]
    },
    {
      "cell_type": "markdown",
      "source": [
        "15% rows have still missign values. <br> And, down column which has the highest missign value, has 4 unique values. "
      ],
      "metadata": {
        "id": "FVXuPzxZJ10r"
      }
    },
    {
      "cell_type": "code",
      "source": [
        "data.down.nunique()"
      ],
      "metadata": {
        "id": "w_YaDSv36nIG",
        "colab": {
          "base_uri": "https://localhost:8080/"
        },
        "outputId": "c1db9f09-bf8e-4613-c895-be6278834718"
      },
      "execution_count": 98,
      "outputs": [
        {
          "output_type": "execute_result",
          "data": {
            "text/plain": [
              "4"
            ]
          },
          "metadata": {},
          "execution_count": 98
        }
      ]
    },
    {
      "cell_type": "code",
      "source": [
        "px.histogram(x = data.down)"
      ],
      "metadata": {
        "colab": {
          "base_uri": "https://localhost:8080/",
          "height": 542
        },
        "id": "SRkYEK6J8UL-",
        "outputId": "d8737dd8-69cb-4e9d-f8d9-34ad043c6c67"
      },
      "execution_count": 99,
      "outputs": [
        {
          "output_type": "display_data",
          "data": {
            "text/html": [
              "<html>\n",
              "<head><meta charset=\"utf-8\" /></head>\n",
              "<body>\n",
              "    <div>            <script src=\"https://cdnjs.cloudflare.com/ajax/libs/mathjax/2.7.5/MathJax.js?config=TeX-AMS-MML_SVG\"></script><script type=\"text/javascript\">if (window.MathJax) {MathJax.Hub.Config({SVG: {font: \"STIX-Web\"}});}</script>                <script type=\"text/javascript\">window.PlotlyConfig = {MathJaxConfig: 'local'};</script>\n",
              "        <script src=\"https://cdn.plot.ly/plotly-2.8.3.min.js\"></script>                <div id=\"7b9e0f5b-3de4-4777-9741-015273ed71b5\" class=\"plotly-graph-div\" style=\"height:525px; width:100%;\"></div>            <script type=\"text/javascript\">                                    window.PLOTLYENV=window.PLOTLYENV || {};                                    if (document.getElementById(\"7b9e0f5b-3de4-4777-9741-015273ed71b5\")) {                    Plotly.newPlot(                        \"7b9e0f5b-3de4-4777-9741-015273ed71b5\",                        [{\"alignmentgroup\":\"True\",\"bingroup\":\"x\",\"hovertemplate\":\"x=%{x}<br>count=%{y}<extra></extra>\",\"legendgroup\":\"\",\"marker\":{\"color\":\"#636efa\",\"pattern\":{\"shape\":\"\"}},\"name\":\"\",\"offsetgroup\":\"\",\"orientation\":\"v\",\"showlegend\":false,\"x\":[null,1.0,2.0,3.0,4.0,1.0,2.0,3.0,4.0,1.0,2.0,1.0,2.0,3.0,4.0,1.0,1.0,1.0,2.0,3.0,4.0,1.0,2.0,3.0,4.0,1.0,1.0,1.0,2.0,3.0,1.0,2.0,1.0,2.0,3.0,1.0,null,2.0,1.0,2.0,3.0,4.0,1.0,2.0,3.0,1.0,2.0,2.0,2.0,1.0,2.0,3.0,4.0,1.0,2.0,3.0,1.0,2.0,2.0,1.0,2.0,3.0,1.0,2.0,3.0,4.0,1.0,2.0,null,1.0,2.0,null,1.0,null,null,1.0,2.0,null,1.0,null,null,1.0,2.0,null,1.0,1.0,2.0,null,3.0,3.0,null,1.0,2.0,1.0,2.0,1.0,2.0,1.0,2.0,3.0,4.0,1.0,2.0,3.0,4.0,1.0,2.0,3.0,1.0,2.0,3.0,4.0,1.0,2.0,3.0,1.0,2.0,3.0,3.0,4.0,1.0,2.0,3.0,null,4.0,1.0,1.0,2.0,1.0,2.0,3.0,4.0,null,1.0,2.0,1.0,2.0,1.0,1.0,1.0,2.0,3.0,1.0,2.0,3.0,4.0,4.0,null,1.0,1.0,2.0,3.0,null,4.0,1.0,1.0,2.0,null,1.0,1.0,null,2.0,2.0,null,3.0,null,null,1.0,2.0,1.0,2.0,1.0,2.0,3.0,1.0,2.0,null,1.0,null,1.0,2.0,3.0,1.0,1.0,2.0,3.0,4.0,null,1.0,2.0,3.0,4.0,1.0,2.0,2.0,3.0,4.0,1.0,2.0,3.0,1.0,2.0,3.0,1.0,2.0,1.0,2.0,3.0,4.0,null,null,1.0,2.0,3.0,4.0,1.0,2.0,1.0,2.0,null,null,1.0,2.0,1.0,1.0,2.0,1.0,1.0,2.0,3.0,4.0,null,1.0,2.0,3.0,4.0,1.0,2.0,2.0,3.0,4.0,1.0,2.0,null,3.0,null,4.0,null,1.0,2.0,3.0,4.0,1.0,2.0,3.0,null,null,1.0,2.0,1.0,1.0,1.0,2.0,3.0,1.0,1.0,2.0,3.0,null,null,1.0,1.0,2.0,1.0,2.0,3.0,1.0,2.0,1.0,2.0,1.0,2.0,1.0,1.0,2.0,3.0,null,null,1.0,1.0,2.0,null,3.0,1.0,1.0,2.0,3.0,3.0,4.0,1.0,1.0,2.0,3.0,4.0,1.0,2.0,3.0,3.0,1.0,1.0,2.0,1.0,2.0,3.0,4.0,null,1.0,1.0,2.0,3.0,4.0,1.0,null,null,1.0,2.0,1.0,2.0,3.0,4.0,1.0,2.0,3.0,4.0,1.0,1.0,1.0,2.0,null,1.0,2.0,1.0,1.0,null,2.0,3.0,null,null,1.0,null,null,1.0,1.0,1.0,2.0,3.0,null,null,1.0,2.0,3.0,4.0,1.0,2.0,1.0,null,null,1.0,1.0,2.0,3.0,1.0,1.0,2.0,3.0,4.0,null,1.0,2.0,3.0,3.0,4.0,1.0,2.0,3.0,4.0,1.0,2.0,3.0,4.0,1.0,2.0,null,3.0,null,4.0,null,null,1.0,2.0,3.0,1.0,1.0,2.0,1.0,1.0,2.0,3.0,4.0,1.0,1.0,2.0,3.0,1.0,2.0,3.0,1.0,2.0,null,3.0,null,null,1.0,2.0,1.0,null,2.0,3.0,4.0,1.0,null,1.0,2.0,1.0,null,null,null,null,null,1.0,2.0,3.0,4.0,1.0,1.0,1.0,2.0,1.0,2.0,null,3.0,1.0,null,null,1.0,2.0,3.0,1.0,2.0,3.0,1.0,1.0,null,null,1.0,1.0,2.0,3.0,1.0,2.0,1.0,2.0,2.0,3.0,4.0,null,1.0,2.0,1.0,2.0,2.0,3.0,4.0,null,1.0,null,null,1.0,1.0,2.0,3.0,1.0,null,1.0,2.0,null,3.0,1.0,1.0,2.0,1.0,2.0,3.0,1.0,1.0,2.0,2.0,3.0,null,null,1.0,2.0,1.0,2.0,3.0,null,4.0,1.0,2.0,3.0,1.0,1.0,2.0,1.0,2.0,1.0,null,1.0,1.0,2.0,3.0,null,null,1.0,2.0,3.0,1.0,1.0,1.0,2.0,null,3.0,4.0,null,1.0,2.0,1.0,1.0,1.0,1.0,1.0,2.0,3.0,4.0,1.0,1.0,2.0,1.0,2.0,3.0,4.0,null,1.0,2.0,null,1.0,1.0,2.0,3.0,null,1.0,2.0,1.0,2.0,3.0,null,null,1.0,1.0,2.0,3.0,4.0,1.0,1.0,2.0,3.0,4.0,1.0,2.0,3.0,4.0,1.0,2.0,3.0,1.0,2.0,2.0,null,3.0,4.0,1.0,2.0,3.0,null,4.0,1.0,2.0,1.0,null,null,1.0,2.0,null,1.0,null,2.0,null,1.0,2.0,1.0,2.0,3.0,4.0,1.0,1.0,2.0,null,null,1.0,2.0,3.0,4.0,1.0,2.0,3.0,4.0,1.0,2.0,3.0,4.0,1.0,2.0,3.0,1.0,2.0,3.0,4.0,1.0,1.0,2.0,1.0,1.0,2.0,1.0,2.0,null,1.0,2.0,3.0,1.0,null,null,1.0,2.0,null,null,1.0,2.0,1.0,2.0,1.0,2.0,3.0,1.0,2.0,3.0,4.0,1.0,2.0,1.0,1.0,2.0,1.0,null,null,1.0,2.0,3.0,1.0,2.0,1.0,null,2.0,3.0,1.0,2.0,3.0,4.0,null,null,1.0,2.0,null,null,1.0,2.0,3.0,1.0,2.0,3.0,4.0,1.0,2.0,3.0,4.0,1.0,2.0,3.0,4.0,1.0,2.0,1.0,2.0,3.0,1.0,2.0,3.0,1.0,2.0,3.0,3.0,1.0,2.0,1.0,2.0,null,3.0,4.0,null,1.0,null,2.0,1.0,2.0,3.0,4.0,1.0,1.0,2.0,3.0,4.0,1.0,2.0,3.0,1.0,2.0,1.0,1.0,2.0,1.0,1.0,2.0,3.0,1.0,2.0,3.0,1.0,2.0,3.0,null,null,1.0,1.0,null,2.0,2.0,3.0,null,4.0,1.0,2.0,3.0,null,4.0,null,null,1.0,2.0,3.0,1.0,2.0,3.0,1.0,1.0,2.0,1.0,2.0,1.0,2.0,null,null,1.0,2.0,3.0,4.0,1.0,2.0,3.0,4.0,1.0,1.0,2.0,3.0,4.0,1.0,2.0,2.0,3.0,4.0,1.0,1.0,2.0,1.0,null,2.0,3.0,4.0,1.0,2.0,2.0,1.0,1.0,2.0,null,1.0,2.0,3.0,1.0,1.0,null,null,1.0,2.0,1.0,2.0,3.0,1.0,2.0,1.0,2.0,1.0,2.0,null,1.0,2.0,3.0,1.0,2.0,3.0,null,4.0,null,1.0,2.0,3.0,null,null,1.0,2.0,1.0,1.0,2.0,1.0,2.0,3.0,1.0,2.0,1.0,2.0,3.0,1.0,2.0,3.0,1.0,2.0,3.0,4.0,1.0,2.0,3.0,1.0,2.0,3.0,1.0,2.0,1.0,null,2.0,1.0,2.0,1.0,2.0,3.0,1.0,2.0,1.0,2.0,1.0,2.0,3.0,4.0,null,1.0,2.0,3.0,1.0,2.0,3.0,1.0,2.0,3.0,1.0,2.0,null,null,1.0,1.0,2.0,null,3.0,1.0,null,2.0,3.0,null,4.0,null,1.0,2.0,null,3.0,null,4.0,1.0,null,1.0,1.0,2.0,1.0,2.0,3.0,4.0,1.0,2.0,1.0,2.0,2.0,null,3.0,1.0,1.0,2.0,3.0,1.0,null,null,1.0,2.0,3.0,4.0,1.0,2.0,3.0,4.0,1.0,1.0,2.0,3.0,4.0,1.0,2.0,3.0,4.0,1.0,2.0,3.0,1.0,null,2.0,3.0,1.0,1.0,2.0,3.0,null,4.0,null,null,1.0,2.0,1.0,2.0,1.0,2.0,3.0,4.0,1.0,2.0,3.0,4.0,1.0,1.0,2.0,1.0,2.0,3.0,null,4.0,1.0,2.0,3.0,4.0,1.0,null,2.0,3.0,null,null,1.0,2.0,1.0,2.0,3.0,4.0,1.0,2.0,3.0,1.0,1.0,1.0,2.0,3.0,4.0,1.0,2.0,3.0,4.0,1.0,1.0,2.0,3.0,4.0,1.0,1.0,2.0,3.0,4.0,1.0,2.0,3.0,4.0,1.0,null,1.0,null,2.0,3.0,4.0,1.0,2.0,3.0,4.0,1.0,2.0,3.0,1.0,2.0,3.0,1.0,2.0,3.0,1.0,2.0,3.0,4.0,1.0,2.0,3.0,1.0,2.0,null,3.0,4.0,1.0,2.0,1.0,2.0,3.0,null,1.0,1.0,2.0,null,null,3.0,null,1.0,2.0,3.0,1.0,2.0,3.0,4.0,1.0,2.0,2.0,3.0,4.0,1.0,2.0,3.0,4.0,1.0,2.0,1.0,2.0,1.0,2.0,2.0,3.0,4.0,4.0,1.0,2.0,3.0,4.0,1.0,1.0,2.0,3.0,4.0,null,1.0,null,1.0,2.0,3.0,4.0,1.0,2.0,3.0,1.0,2.0,2.0,3.0,1.0,2.0,3.0,3.0,null,3.0,4.0,1.0,2.0,null,1.0,2.0,1.0,1.0,2.0,null,1.0,1.0,2.0,1.0,null,null,null,1.0,2.0,null,null,null,1.0,null,1.0,2.0,1.0,2.0,3.0,1.0,1.0,1.0,2.0,null,3.0,1.0,2.0,3.0,4.0,1.0,null,1.0,1.0,null,null,1.0,2.0,3.0,3.0,1.0,2.0,3.0,4.0,1.0,2.0,1.0,2.0,2.0,3.0,4.0,null,1.0,2.0,null,3.0,null,1.0,2.0,3.0,1.0,2.0,3.0,4.0,null,1.0,2.0,3.0,1.0,null,null,1.0,2.0,3.0,4.0,1.0,2.0,1.0,2.0,1.0,2.0,1.0,2.0,3.0,1.0,2.0,null,null,null,1.0,2.0,1.0,null,1.0,null,2.0,null,1.0,3.0,4.0,null,1.0,1.0,2.0,1.0,2.0,null,3.0,null,4.0,1.0,null,null,1.0,2.0,3.0,1.0,1.0,2.0,3.0,1.0,2.0,1.0,2.0,null,3.0,1.0,2.0,3.0,null,null,1.0,1.0,1.0,2.0,2.0,3.0,4.0,1.0,2.0,3.0,4.0,1.0,2.0,3.0,4.0,1.0,2.0,1.0,2.0,3.0,null,1.0,1.0,2.0,3.0,3.0,4.0,1.0,2.0,3.0,4.0,1.0,2.0,1.0,2.0,3.0,4.0,1.0,1.0,2.0,3.0,4.0,1.0,2.0,3.0,1.0,2.0,3.0,null,3.0,4.0,1.0,2.0,3.0,1.0,2.0,3.0,null,4.0,1.0,2.0,1.0,2.0,null,null,3.0,4.0,1.0,null,null,1.0,2.0,3.0,4.0,1.0,2.0,1.0,1.0,null,2.0,1.0,2.0,3.0,4.0,null,1.0,2.0,null,null,3.0,4.0,1.0,1.0,1.0,2.0,3.0,1.0,2.0,1.0,2.0,3.0,1.0,2.0,3.0,null,null,1.0,2.0,3.0,4.0,1.0,null,2.0,3.0,3.0,3.0,4.0,1.0,2.0,3.0,4.0,1.0,2.0,3.0,4.0,null,1.0,1.0,2.0,3.0,3.0,1.0,2.0,1.0,2.0,3.0,1.0,2.0,3.0,4.0,1.0,1.0,2.0,3.0,null,1.0,1.0,2.0,3.0,null,4.0,null,null,1.0,2.0,1.0,2.0,3.0,1.0,2.0,1.0,1.0,2.0,3.0,1.0,2.0,1.0,null,null,1.0,2.0,1.0,2.0,3.0,1.0,1.0,2.0,1.0,2.0,3.0,null,null,1.0,2.0,3.0,4.0,4.0,1.0,1.0,2.0,null,3.0,4.0,1.0,2.0,3.0,1.0,2.0,3.0,4.0,null,1.0,2.0,1.0,1.0,2.0,3.0,1.0,2.0,1.0,null,null,1.0,2.0,1.0,2.0,1.0,1.0,2.0,null,null,1.0,1.0,2.0,1.0,1.0,2.0,1.0,null,2.0,3.0,null,null,null,1.0,2.0,3.0,4.0,1.0,null,2.0,null,3.0,null,4.0,null,null,1.0,2.0,1.0,null,null,1.0,2.0,3.0,1.0,2.0,3.0,1.0,2.0,1.0,1.0,2.0,3.0,4.0,1.0,2.0,3.0,1.0,1.0,2.0,3.0,4.0,1.0,2.0,1.0,2.0,3.0,1.0,1.0,2.0,3.0,4.0,1.0,2.0,null,1.0,2.0,2.0,1.0,1.0,2.0,3.0,1.0,2.0,3.0,1.0,1.0,null,null,1.0,2.0,1.0,2.0,3.0,4.0,1.0,2.0,2.0,3.0,4.0,1.0,2.0,3.0,1.0,2.0,null,1.0,1.0,1.0,null,2.0,null,3.0,4.0,null,1.0,null,null,1.0,2.0,3.0,4.0,1.0,2.0,3.0,4.0,1.0,2.0,3.0,4.0,1.0,2.0,3.0,4.0,1.0,2.0,3.0,1.0,2.0,1.0,2.0,1.0,2.0,2.0,1.0,2.0,3.0,null,null,1.0,1.0,1.0,null,2.0,null,3.0,1.0,1.0,2.0,3.0,4.0,1.0,2.0,3.0,4.0,1.0,1.0,2.0,3.0,1.0,2.0,3.0,4.0,null,1.0,2.0,3.0,1.0,1.0,2.0,1.0,2.0,1.0,1.0,2.0,3.0,4.0,1.0,null,null,1.0,2.0,null,1.0,null,2.0,null,1.0,2.0,3.0,null,null,1.0,2.0,3.0,1.0,2.0,3.0,4.0,1.0,2.0,3.0,4.0,1.0,2.0,2.0,2.0,3.0,1.0,2.0,1.0,2.0,3.0,4.0,null,null,1.0,2.0,3.0,4.0,1.0,1.0,1.0,2.0,3.0,4.0,null,1.0,null,1.0,1.0,1.0,null,2.0,3.0,4.0,null,1.0,2.0,3.0,1.0,1.0,2.0,3.0,4.0,1.0,2.0,null,3.0,4.0,1.0,2.0,3.0,4.0,1.0,2.0,3.0,4.0,4.0,1.0,2.0,3.0,1.0,2.0,3.0,1.0,null,null,1.0,1.0,null,2.0,3.0,1.0,1.0,1.0,null,2.0,3.0,1.0,2.0,1.0,2.0,null,1.0,2.0,3.0,4.0,1.0,2.0,3.0,1.0,2.0,3.0,4.0,1.0,2.0,3.0,4.0,1.0,1.0,1.0,2.0,3.0,null,1.0,2.0,null,null,1.0,2.0,3.0,4.0,1.0,1.0,1.0,null,2.0,2.0,3.0,1.0,2.0,null,3.0,4.0,null,1.0,2.0,3.0,1.0,2.0,3.0,1.0,2.0,3.0,null,1.0,1.0,2.0,1.0,2.0,2.0,null,3.0,null,null,1.0,2.0,1.0,2.0,3.0,4.0,1.0,2.0,3.0,4.0,1.0,1.0,1.0,2.0,3.0,null,4.0,1.0,null,2.0,null,3.0,4.0,1.0,2.0,3.0,1.0,2.0,null,null,1.0,2.0,3.0,1.0,1.0,2.0,3.0,4.0,1.0,2.0,3.0,4.0,1.0,2.0,1.0,2.0,3.0,4.0,1.0,1.0,2.0,2.0,null,2.0,null,3.0,4.0,1.0,2.0,1.0,1.0,2.0,1.0,1.0,1.0,2.0,2.0,1.0,1.0,2.0,1.0,null,2.0,3.0,1.0,2.0,3.0,3.0,3.0,4.0,1.0,2.0,3.0,1.0,2.0,1.0,2.0,3.0,1.0,2.0,3.0,1.0,2.0,null,null,1.0,2.0,3.0,4.0,1.0,2.0,3.0,1.0,2.0,null,1.0,1.0,2.0,3.0,4.0,1.0,2.0,null,1.0,null,null,1.0,null,null,1.0,2.0,1.0,2.0,3.0,4.0,1.0,2.0,3.0,1.0,1.0,2.0,3.0,4.0,1.0,2.0,3.0,1.0,2.0,1.0,1.0,null,null,1.0,2.0,3.0,4.0,1.0,null,null,1.0,2.0,3.0,1.0,2.0,3.0,4.0,1.0,2.0,3.0,1.0,2.0,3.0,1.0,2.0,3.0,4.0,1.0,2.0,3.0,4.0,1.0,2.0,3.0,1.0,2.0,3.0,4.0,1.0,1.0,2.0,1.0,1.0,1.0,2.0,3.0,4.0,1.0,null,2.0,null,3.0,null,4.0,1.0,1.0,2.0,1.0,2.0,null,null,1.0,2.0,3.0,1.0,2.0,3.0,1.0,2.0,1.0,null,2.0,3.0,4.0,null,1.0,1.0,2.0,3.0,4.0,1.0,2.0,3.0,1.0,2.0,1.0,null,1.0,2.0,3.0,null,4.0,1.0,2.0,3.0,4.0,1.0,2.0,3.0,1.0,null,2.0,3.0,null,null,1.0,1.0,1.0,2.0,1.0,1.0,2.0,1.0,2.0,1.0,2.0,3.0,1.0,2.0,3.0,1.0,null,1.0,null,1.0,1.0,1.0,2.0,null,3.0,4.0,null,null,1.0,null,null,1.0,2.0,3.0,1.0,2.0,3.0,1.0,2.0,3.0,4.0,1.0,1.0,2.0,3.0,4.0,1.0,2.0,3.0,1.0,2.0,null,3.0,4.0,1.0,2.0,1.0,2.0,null,3.0,4.0,null,1.0,null,2.0,1.0,2.0,1.0,1.0,2.0,null,3.0,3.0,4.0,null,1.0,2.0,3.0,4.0,1.0,1.0,2.0,3.0,1.0,2.0,1.0,2.0,1.0,1.0,2.0,3.0,4.0,null,1.0,2.0,3.0,1.0,2.0,null,1.0,1.0,null,null,1.0,null,2.0,3.0,null,null,1.0,2.0,3.0,1.0,2.0,3.0,4.0,1.0,2.0,3.0,4.0,1.0,2.0,3.0,1.0,2.0,1.0,3.0,4.0,1.0,1.0,2.0,1.0,2.0,1.0,2.0,3.0,1.0,1.0,2.0,3.0,4.0,1.0,2.0,3.0,4.0,1.0,2.0,3.0,null,4.0,1.0,2.0,3.0,4.0,1.0,2.0,3.0,1.0,1.0,1.0,1.0,2.0,3.0,4.0,null,1.0,1.0,2.0,3.0,1.0,null,2.0,3.0,null,1.0,2.0,3.0,1.0,null,null,1.0,2.0,1.0,2.0,null,3.0,null,4.0,1.0,2.0,3.0,4.0,1.0,1.0,2.0,3.0,4.0,null,1.0,2.0,1.0,2.0,3.0,1.0,2.0,3.0,null,4.0,1.0,null,null,1.0,1.0,2.0,3.0,4.0,1.0,1.0,2.0,3.0,1.0,2.0,2.0,3.0,4.0,null,1.0,1.0,2.0,1.0,2.0,3.0,3.0,null,4.0,4.0,1.0,2.0,3.0,3.0,4.0,1.0,2.0,3.0,3.0,4.0,null,1.0,1.0,2.0,3.0,1.0,null,1.0,2.0,3.0,1.0,2.0,3.0,1.0,2.0,3.0,4.0,null,1.0,2.0,null,1.0,2.0,null,3.0,null,null,1.0,1.0,2.0,null,null,1.0,2.0,3.0,4.0,1.0,2.0,3.0,3.0,4.0,1.0,1.0,2.0,2.0,3.0,1.0,1.0,2.0,3.0,1.0,2.0,3.0,4.0,1.0,1.0,1.0,2.0,2.0,1.0,1.0,2.0,null,null,1.0,2.0,3.0,4.0,1.0,2.0,null,1.0,2.0,3.0,4.0,1.0,1.0,2.0,null,3.0,1.0,2.0,3.0,1.0,1.0,2.0,3.0,1.0,2.0,1.0,null,null,1.0,2.0,1.0,2.0,2.0,3.0,4.0,1.0,null,1.0,1.0,null,2.0,3.0,1.0,1.0,1.0,2.0,null,3.0,null,4.0,null,1.0,1.0,1.0,1.0,2.0,2.0,3.0,4.0,1.0,2.0,1.0,2.0,3.0,1.0,2.0,3.0,1.0,1.0,2.0,3.0,4.0,1.0,2.0,3.0,1.0,2.0,3.0,4.0,null,1.0,2.0,1.0,2.0,null,1.0,2.0,null,3.0,1.0,2.0,3.0,4.0,null,1.0,2.0,3.0,3.0,1.0,2.0,1.0,2.0,3.0,1.0,1.0,2.0,3.0,1.0,2.0,null,null,1.0,2.0,1.0,2.0,1.0,2.0,3.0,1.0,2.0,1.0,2.0,null,null,1.0,2.0,1.0,null,null,null,1.0,null,1.0,null,2.0,3.0,4.0,null,null,1.0,1.0,2.0,1.0,1.0,2.0,3.0,3.0,1.0,1.0,2.0,3.0,4.0,1.0,2.0,3.0,1.0,1.0,2.0,1.0,1.0,2.0,3.0,null,null,1.0,2.0,1.0,2.0,3.0,3.0,1.0,null,2.0,3.0,1.0,2.0,3.0,3.0,1.0,2.0,3.0,1.0,2.0,1.0,2.0,1.0,1.0,2.0,3.0,1.0,null,null,1.0,null,2.0,3.0,4.0,1.0,2.0,null,3.0,4.0,1.0,2.0,null,1.0,2.0,3.0,2.0,1.0,2.0,null,3.0,1.0,4.0,null,1.0,2.0,1.0,null,2.0,null,3.0,null,1.0,1.0,2.0,3.0,1.0,1.0,2.0,1.0,1.0,2.0,3.0,1.0,2.0,3.0,4.0,1.0,2.0,3.0,3.0,4.0,1.0,2.0,3.0,4.0,1.0,2.0,1.0,1.0,2.0,null,3.0,3.0,3.0,4.0,1.0,2.0,3.0,4.0,1.0,2.0,3.0,4.0,1.0,2.0,1.0,null,1.0,2.0,3.0,4.0,null,1.0,2.0,3.0,1.0,2.0,1.0,2.0,3.0,1.0,2.0,null,null,1.0,2.0,3.0,1.0,1.0,2.0,3.0,3.0,null,1.0,null,1.0,2.0,null,3.0,4.0,null,null,1.0,2.0,null,1.0,1.0,1.0,2.0,3.0,null,1.0,null,2.0,null,null,1.0,1.0,null,null,1.0,2.0,1.0,1.0,2.0,3.0,1.0,2.0,null,3.0,4.0,null,1.0,2.0,1.0,2.0,3.0,4.0,1.0,2.0,3.0,4.0,1.0,2.0,1.0,1.0,2.0,3.0,3.0,1.0,1.0,1.0,2.0,3.0,4.0,1.0,1.0,1.0,null,null,1.0,null,1.0,2.0,1.0,2.0,1.0,null,null,1.0,2.0,3.0,1.0,2.0,2.0,3.0,1.0,2.0,3.0,1.0,2.0,3.0,1.0,2.0,null,null,1.0,1.0,1.0,2.0,1.0,2.0,null,3.0,4.0,null,1.0,1.0,null,2.0,1.0,1.0,null,null,1.0,2.0,1.0,2.0,3.0,null,1.0,null,null,1.0,2.0,3.0,1.0,2.0,1.0,2.0,3.0,1.0,2.0,3.0,4.0,1.0,1.0,2.0,3.0,1.0,2.0,3.0,1.0,2.0,1.0,2.0,1.0,2.0,3.0,4.0,1.0,null,2.0,1.0,2.0,3.0,1.0,2.0,null,null,1.0,2.0,1.0,2.0,2.0,1.0,1.0,2.0,3.0,1.0,2.0,3.0,null,null,1.0,2.0,3.0,4.0,1.0,1.0,1.0,2.0,3.0,1.0,1.0,1.0,2.0,3.0,4.0,1.0,null,2.0,null,1.0,null,2.0,null,3.0,null,4.0,1.0,2.0,1.0,1.0,2.0,null,null,1.0,2.0,1.0,2.0,3.0,null,1.0,1.0,1.0,1.0,2.0,3.0,1.0,2.0,3.0,4.0,1.0,2.0,3.0,4.0,null,1.0,2.0,3.0,4.0,1.0,2.0,3.0,1.0,1.0,null,2.0,1.0,2.0,3.0,4.0,1.0,2.0,3.0,4.0,1.0,2.0,3.0,4.0,1.0,1.0,1.0,2.0,1.0,2.0,1.0,1.0,2.0,null,null,1.0,1.0,2.0,3.0,1.0,2.0,1.0,null,1.0,1.0,null,2.0,null,null,null,1.0,null,2.0,2.0,null,null,1.0,2.0,3.0,4.0,1.0,2.0,3.0,1.0,2.0,2.0,3.0,1.0,1.0,2.0,3.0,4.0,null,1.0,2.0,1.0,null,null,1.0,2.0,1.0,2.0,3.0,4.0,1.0,2.0,3.0,4.0,1.0,2.0,1.0,2.0,3.0,4.0,1.0,null,2.0,1.0,2.0,1.0,1.0,2.0,3.0,3.0,null,4.0,null,1.0,2.0,2.0,3.0,1.0,2.0,1.0,2.0,1.0,null,null,1.0,2.0,3.0,1.0,2.0,3.0,4.0,1.0,2.0,3.0,1.0,1.0,2.0,3.0,4.0,null,1.0,null,2.0,null,3.0,null,4.0,null,1.0,2.0,3.0,null,null,1.0,2.0,3.0,4.0,1.0,1.0,2.0,3.0,4.0,1.0,2.0,1.0,2.0,1.0,1.0,null,2.0,1.0,1.0,1.0,2.0,3.0,4.0,null,1.0,2.0,1.0,2.0,3.0,1.0,1.0,2.0,3.0,1.0,null,2.0,3.0,4.0,1.0,1.0,2.0,1.0,2.0,3.0,1.0,2.0,3.0,3.0,1.0,2.0,3.0,4.0,null,1.0,2.0,1.0,2.0,1.0,2.0,null,3.0,1.0,2.0,3.0,null,null,1.0,2.0,3.0,3.0,1.0,null,2.0,3.0,1.0,2.0,1.0,1.0,2.0,2.0,null,null,1.0,1.0,2.0,3.0,4.0,1.0,2.0,3.0,1.0,2.0,1.0,null,2.0,3.0,1.0,2.0,1.0,2.0,3.0,4.0,null,1.0,2.0,3.0,3.0,1.0,2.0,2.0,1.0,2.0,null,3.0,1.0,null,2.0,1.0,2.0,3.0,1.0,2.0,3.0,4.0,1.0,2.0,3.0,null,4.0,4.0,1.0,2.0,3.0,1.0,2.0,1.0,2.0,1.0,2.0,3.0,null,4.0,1.0,2.0,null,3.0,null,4.0,1.0,2.0,3.0,4.0,1.0,1.0,2.0,3.0,null,null,1.0,2.0,1.0,2.0,3.0,3.0,3.0,4.0,1.0,1.0,2.0,3.0,1.0,2.0,3.0,3.0,null,null,1.0,2.0,3.0,1.0,2.0,1.0,2.0,3.0,1.0,2.0,3.0,1.0,2.0,3.0,null,null,1.0,2.0,null,null,1.0,1.0,1.0,2.0,null,3.0,4.0,1.0,1.0,1.0,2.0,1.0,2.0,3.0,null,null,1.0,null,null,1.0,2.0,1.0,2.0,null,null,1.0,1.0,2.0,2.0,3.0,3.0,4.0,1.0,2.0,3.0,1.0,1.0,1.0,2.0,3.0,4.0,null,1.0,null,1.0,1.0,2.0,null,1.0,2.0,null,3.0,1.0,2.0,1.0,null,2.0,null,null,null,1.0,2.0,3.0,4.0,1.0,2.0,3.0,4.0,1.0,1.0,2.0,1.0,2.0,3.0,null,null,1.0,2.0,3.0,4.0,1.0,2.0,3.0,4.0,1.0,2.0,1.0,2.0,3.0,null,4.0,1.0,2.0,1.0,2.0,3.0,1.0,null,null,1.0,2.0,3.0,null,4.0,1.0,2.0,3.0,4.0,1.0,2.0,1.0,2.0,1.0,2.0,null,3.0,4.0,1.0,2.0,3.0,4.0,1.0,2.0,3.0,4.0,1.0,1.0,2.0,3.0,4.0,1.0,2.0,3.0,4.0,null,1.0,2.0,null,3.0,1.0,1.0,1.0,null,2.0,null,3.0,null,null,1.0,1.0,2.0,1.0,2.0,3.0,1.0,1.0,null,null,1.0,2.0,3.0,1.0,null,null,1.0,2.0,3.0,4.0,1.0,2.0,1.0,1.0,2.0,3.0,4.0,4.0,1.0,2.0,1.0,2.0,1.0,2.0,1.0,2.0,3.0,4.0,null,1.0,2.0,3.0,4.0,1.0,2.0,null,1.0,1.0,1.0,2.0,3.0,1.0,2.0,3.0,1.0,2.0,1.0,1.0,2.0,1.0,2.0,2.0,3.0,1.0,2.0,3.0,null,1.0,null,2.0,3.0,4.0,null,1.0,2.0,null,3.0,null,4.0,1.0,null,2.0,null,3.0,4.0,1.0,1.0,null,null,1.0,null,1.0,2.0,1.0,2.0,1.0,2.0,null,1.0,2.0,1.0,null,null,1.0,2.0,1.0,2.0,3.0,1.0,null,null,1.0,2.0,3.0,4.0,1.0,2.0,3.0,1.0,2.0,1.0,2.0,3.0,1.0,2.0,3.0,4.0,null,1.0,1.0,2.0,3.0,1.0,2.0,3.0,4.0,null,null,1.0,2.0,null,3.0,4.0,4.0,1.0,2.0,3.0,4.0,1.0,1.0,2.0,1.0,2.0,3.0,null,null,1.0,2.0,3.0,1.0,1.0,1.0,2.0,3.0,1.0,2.0,3.0,4.0,1.0,1.0,2.0,null,3.0,null,4.0,null,1.0,2.0,3.0,1.0,1.0,null,1.0,2.0,3.0,null,1.0,1.0,2.0,null,1.0,null,1.0,1.0,2.0,2.0,1.0,2.0,3.0,4.0,1.0,2.0,null,3.0,3.0,4.0,1.0,2.0,3.0,4.0,1.0,1.0,1.0,2.0,2.0,3.0,4.0,null,1.0,2.0,3.0,4.0,1.0,2.0,3.0,1.0,2.0,3.0,1.0,1.0,2.0,3.0,4.0,1.0,1.0,2.0,3.0,1.0,2.0,2.0,1.0,2.0,3.0,4.0,null,1.0,2.0,1.0,1.0,1.0,2.0,1.0,2.0,3.0,4.0,null,1.0,2.0,null,null,3.0,1.0,2.0,3.0,3.0,1.0,2.0,null,1.0,1.0,1.0,2.0,3.0,4.0,null,1.0,1.0,null,null,1.0,1.0,2.0,null,null,1.0,2.0,3.0,4.0,1.0,2.0,3.0,1.0,2.0,1.0,2.0,1.0,2.0,3.0,4.0,null,1.0,2.0,1.0,2.0,1.0,1.0,2.0,3.0,3.0,3.0,4.0,4.0,1.0,1.0,2.0,null,3.0,1.0,2.0,null,1.0,null,2.0,1.0,2.0,3.0,1.0,2.0,3.0,4.0,null,1.0,2.0,3.0,1.0,2.0,3.0,4.0,4.0,1.0,2.0,3.0,4.0,1.0,2.0,3.0,1.0,1.0,2.0,3.0,4.0,1.0,1.0,null,null,2.0,null,3.0,null,4.0,1.0,1.0,2.0,3.0,4.0,1.0,2.0,null,null,1.0,2.0,3.0,4.0,1.0,1.0,2.0,3.0,4.0,1.0,2.0,3.0,4.0,1.0,2.0,null,1.0,2.0,3.0,3.0,1.0,2.0,3.0,null,4.0,1.0,2.0,1.0,2.0,1.0,2.0,3.0,4.0,null,1.0,2.0,null,3.0,4.0,1.0,1.0,null,2.0,3.0,1.0,2.0,3.0,4.0,1.0,2.0,null,3.0,1.0,1.0,2.0,3.0,1.0,2.0,1.0,2.0,3.0,3.0,4.0,null,1.0,2.0,1.0,2.0,3.0,4.0,1.0,2.0,3.0,4.0,1.0,1.0,null,2.0,1.0,1.0,2.0,3.0,null,4.0,1.0,2.0,1.0,null,1.0,null,null,1.0,1.0,2.0,1.0,1.0,2.0,3.0,1.0,2.0,3.0,1.0,2.0,3.0,4.0,null,1.0,1.0,1.0,1.0,2.0,3.0,3.0,4.0,1.0,2.0,3.0,4.0,1.0,1.0,2.0,3.0,1.0,2.0,3.0,null,1.0,2.0,2.0,1.0,2.0,3.0,4.0,1.0,2.0,1.0,2.0,3.0,4.0,1.0,1.0,2.0,3.0,4.0,1.0,1.0,2.0,1.0,2.0,null,3.0,1.0,2.0,1.0,null,null,1.0,2.0,2.0,1.0,1.0,1.0,null,1.0,2.0,3.0,3.0,1.0,2.0,null,null,1.0,2.0,3.0,null,4.0,1.0,null,2.0,null,3.0,null,null,1.0,2.0,1.0,1.0,2.0,3.0,1.0,2.0,null,1.0,2.0,1.0,null,null,1.0,2.0,1.0,1.0,2.0,3.0,4.0,null,1.0,1.0,2.0,1.0,1.0,1.0,2.0,3.0,4.0,null,null,1.0,1.0,2.0,2.0,3.0,4.0,1.0,2.0,3.0,4.0,null,1.0,2.0,2.0,3.0,1.0,2.0,3.0,4.0,1.0,2.0,1.0,1.0,2.0,3.0,4.0,1.0,1.0,1.0,2.0,1.0,1.0,1.0,1.0,null,2.0,1.0,2.0,1.0,2.0,null,1.0,null,null,1.0,null,2.0,3.0,null,4.0,1.0,null,null,1.0,1.0,2.0,3.0,4.0,1.0,1.0,2.0,1.0,2.0,2.0,null,3.0,3.0,4.0,1.0,2.0,2.0,3.0,1.0,2.0,3.0,1.0,2.0,1.0,2.0,null,null,1.0,2.0,3.0,1.0,2.0,3.0,1.0,2.0,3.0,null,null,1.0,2.0,null,3.0,1.0,2.0,2.0,3.0,4.0,1.0,2.0,3.0,1.0,2.0,3.0,1.0,2.0,1.0,2.0,1.0,2.0,3.0,4.0,null,null,1.0,2.0,3.0,4.0,1.0,1.0,2.0,null,3.0,4.0,1.0,1.0,null,2.0,2.0,null,3.0,4.0,4.0,1.0,1.0,2.0,3.0,1.0,null,1.0,2.0,3.0,null,null,1.0,2.0,3.0,1.0,2.0,3.0,4.0,1.0,1.0,1.0,1.0,1.0,2.0,null,2.0,1.0,null,1.0,2.0,1.0,2.0,3.0,1.0,2.0,3.0,1.0,2.0,3.0,null,null,1.0,1.0,2.0,null,null,1.0,2.0,1.0,2.0,null,1.0,1.0,1.0,2.0,3.0,4.0,1.0,2.0,3.0,4.0,4.0,1.0,1.0,2.0,3.0,null,null,1.0,2.0,null,3.0,3.0,4.0,4.0,1.0,2.0,null,1.0,2.0,null,3.0,1.0,2.0,2.0,3.0,3.0,1.0,1.0,1.0,null,2.0,null,3.0,null,null,1.0,2.0,1.0,1.0,2.0,null,3.0,null,4.0,null,1.0,2.0,3.0,1.0,2.0,3.0,4.0,1.0,2.0,3.0,1.0,1.0,2.0,3.0,1.0,1.0,2.0,3.0,1.0,2.0,3.0,1.0,2.0,3.0,1.0,1.0,1.0,2.0,3.0,null,null,1.0,1.0,null,2.0,1.0,2.0,3.0,1.0,2.0,3.0,4.0,1.0,2.0,3.0,3.0,4.0,1.0,1.0,2.0,3.0,4.0,1.0,2.0,null,3.0,1.0,null,2.0,3.0,4.0,4.0,1.0,2.0,3.0,4.0,1.0,2.0,null,3.0,null,4.0,null,1.0,1.0,null,2.0,1.0,1.0,1.0,2.0,null,1.0,2.0,3.0,1.0,2.0,1.0,null,null,1.0,2.0,3.0,4.0,1.0,2.0,1.0,1.0,2.0,1.0,2.0,3.0,1.0,2.0,1.0,2.0,3.0,4.0,null,1.0,2.0,null,3.0,1.0,2.0,3.0,4.0,1.0,null,null,1.0,2.0,3.0,4.0,1.0,2.0,3.0,null,4.0,1.0,2.0,1.0,1.0,2.0,3.0,1.0,1.0,2.0,3.0,4.0,null,1.0,2.0,3.0,1.0,1.0,2.0,3.0,4.0,1.0,2.0,3.0,4.0,1.0,1.0,2.0,3.0,4.0,null,1.0,2.0,3.0,1.0,null,2.0,1.0,1.0,1.0,null,1.0,2.0,3.0,null,3.0,null,null,1.0,null,null,1.0,null,null,1.0,2.0,3.0,4.0,1.0,2.0,3.0,4.0,1.0,2.0,1.0,1.0,2.0,1.0,2.0,3.0,4.0,1.0,2.0,2.0,3.0,1.0,1.0,2.0,3.0,4.0,1.0,1.0,2.0,2.0,1.0,2.0,null,3.0,1.0,2.0,3.0,1.0,1.0,2.0,1.0,2.0,3.0,3.0,1.0,2.0,2.0,null,3.0,4.0,null,1.0,2.0,3.0,4.0,1.0,null,2.0,null,3.0,null,4.0,1.0,2.0,1.0,2.0,3.0,4.0,1.0,2.0,1.0,2.0,1.0,2.0,3.0,4.0,4.0,1.0,null,2.0,3.0,null,4.0,1.0,1.0,null,null,1.0,2.0,3.0,4.0,1.0,1.0,2.0,3.0,null,null,1.0,2.0,1.0,2.0,3.0,1.0,2.0,3.0,1.0,null,1.0,1.0,2.0,1.0,2.0,2.0,3.0,1.0,2.0,1.0,2.0,3.0,4.0,null,1.0,null,null,2.0,1.0,1.0,null,2.0,null,null,1.0,2.0,3.0,4.0,1.0,1.0,2.0,3.0,4.0,null,1.0,2.0,3.0,1.0,1.0,2.0,2.0,3.0,4.0,1.0,1.0,2.0,3.0,4.0,1.0,2.0,3.0,3.0,4.0,1.0,1.0,2.0,3.0,null,1.0,1.0,2.0,1.0,2.0,null,1.0,null,null,1.0,null,2.0,null,1.0,null,null,null,1.0,2.0,3.0,1.0,2.0,2.0,3.0,4.0,1.0,2.0,3.0,4.0,1.0,2.0,1.0,1.0,2.0,3.0,4.0,1.0,1.0,2.0,3.0,4.0,1.0,2.0,1.0,1.0,1.0,2.0,3.0,4.0,4.0,1.0,2.0,1.0,2.0,null,null,3.0,1.0,2.0,1.0,2.0,1.0,2.0,3.0,null,4.0,null,1.0,2.0,3.0,4.0,1.0,2.0,1.0,null,null,1.0,1.0,2.0,1.0,2.0,3.0,1.0,2.0,3.0,4.0,1.0,2.0,3.0,null,4.0,null,null,1.0,2.0,1.0,2.0,3.0,null,4.0,4.0,null,1.0,1.0,2.0,3.0,4.0,1.0,2.0,null,3.0,4.0,1.0,2.0,2.0,2.0,null,null,null,1.0,2.0,3.0,3.0,4.0,1.0,2.0,3.0,4.0,1.0,2.0,3.0,1.0,2.0,3.0,null,null,1.0,2.0,1.0,1.0,1.0,2.0,3.0,null,1.0,2.0,null,null,1.0,2.0,1.0,1.0,2.0,null,3.0,4.0,null,1.0,2.0,null,3.0,1.0,2.0,1.0,1.0,2.0,1.0,2.0,3.0,1.0,null,null,1.0,2.0,1.0,2.0,3.0,4.0,1.0,2.0,3.0,4.0,1.0,2.0,1.0,2.0,1.0,null,2.0,3.0,4.0,null,1.0,1.0,1.0,null,2.0,null,1.0,1.0,null,null,1.0,2.0,3.0,null,4.0,1.0,2.0,1.0,1.0,2.0,3.0,null,1.0,null,null,1.0,2.0,3.0,4.0,1.0,2.0,3.0,4.0,1.0,2.0,1.0,2.0,3.0,1.0,2.0,1.0,2.0,null,null,1.0,1.0,2.0,3.0,1.0,1.0,1.0,2.0,3.0,1.0,1.0,2.0,3.0,null,null,1.0,1.0,2.0,3.0,null,1.0,2.0,3.0,3.0,1.0,2.0,3.0,1.0,1.0,2.0,3.0,1.0,1.0,1.0,2.0,3.0,4.0,null,1.0,1.0,2.0,3.0,4.0,1.0,2.0,3.0,1.0,2.0,null,3.0,4.0,null,1.0,1.0,null,2.0,3.0,1.0,2.0,null,3.0,4.0,1.0,null,null,1.0,2.0,3.0,1.0,2.0,3.0,4.0,null,1.0,1.0,1.0,2.0,3.0,1.0,2.0,3.0,4.0,1.0,2.0,3.0,1.0,2.0,null,3.0,null,null,1.0,2.0,1.0,2.0,3.0,1.0,2.0,1.0,2.0,3.0,4.0,null,1.0,1.0,2.0,null,3.0,1.0,2.0,1.0,2.0,3.0,1.0,null,2.0,3.0,4.0,null,1.0,2.0,1.0,2.0,1.0,2.0,3.0,4.0,1.0,1.0,2.0,3.0,4.0,1.0,2.0,3.0,4.0,1.0,2.0,3.0,1.0,null,2.0,3.0,1.0,2.0,3.0,1.0,2.0,1.0,2.0,1.0,2.0,3.0,4.0,1.0,null,null,1.0,2.0,3.0,1.0,1.0,2.0,1.0,2.0,3.0,4.0,null,1.0,1.0,2.0,3.0,4.0,1.0,2.0,1.0,1.0,2.0,3.0,1.0,2.0,3.0,4.0,1.0,1.0,1.0,2.0,3.0,4.0,1.0,2.0,null,1.0,2.0,1.0,2.0,null,1.0,null,null,1.0,2.0,2.0,3.0,4.0,1.0,2.0,1.0,null,null,1.0,2.0,3.0,4.0,1.0,2.0,1.0,2.0,3.0,1.0,2.0,null,3.0,null,4.0,1.0,2.0,1.0,2.0,3.0,1.0,2.0,3.0,1.0,null,null,1.0,2.0,3.0,4.0,1.0,2.0,1.0,2.0,3.0,1.0,1.0,1.0,2.0,1.0,null,2.0,3.0,4.0,null,null,1.0,2.0,3.0,4.0,1.0,2.0,1.0,2.0,1.0,null,2.0,3.0,1.0,1.0,1.0,2.0,3.0,1.0,1.0,2.0,3.0,4.0,1.0,2.0,null,3.0,1.0,2.0,3.0,3.0,3.0,4.0,1.0,1.0,2.0,1.0,1.0,null,2.0,3.0,1.0,2.0,1.0,2.0,null,3.0,1.0,2.0,null,3.0,null,null,1.0,null,null,1.0,2.0,3.0,4.0,1.0,2.0,3.0,4.0,1.0,2.0,3.0,1.0,2.0,3.0,4.0,1.0,2.0,2.0,3.0,3.0,1.0,2.0,3.0,4.0,1.0,1.0,1.0,null,1.0,null,null,1.0,2.0,1.0,2.0,3.0,4.0,1.0,1.0,2.0,3.0,null,1.0,2.0,1.0,2.0,3.0,4.0,1.0,2.0,3.0,1.0,1.0,2.0,1.0,2.0,3.0,null,null,null,1.0,2.0,1.0,1.0,2.0,2.0,null,3.0,1.0,null,2.0,3.0,4.0,1.0,1.0,2.0,null,3.0,1.0,null,2.0,null,3.0,null,4.0,null,1.0,null,null,1.0,2.0,3.0,4.0,1.0,1.0,1.0,2.0,3.0,1.0,2.0,3.0,4.0,null,1.0,2.0,3.0,1.0,2.0,3.0,1.0,1.0,1.0,null,null,1.0,2.0,3.0,4.0,1.0,2.0,3.0,null,1.0,null,2.0,3.0,1.0,null,2.0,3.0,4.0,null,1.0,2.0,1.0,1.0,2.0,1.0,1.0,null,2.0,3.0,null,null,1.0,2.0,1.0,1.0,2.0,3.0,4.0,1.0,2.0,3.0,4.0,1.0,2.0,3.0,null,4.0,1.0,null,1.0,1.0,2.0,1.0,2.0,3.0,null,null,1.0,null,2.0,3.0,null,1.0,1.0,2.0,null,null,null,1.0,2.0,1.0,2.0,1.0,2.0,3.0,4.0,1.0,1.0,2.0,3.0,4.0,1.0,2.0,null,3.0,1.0,1.0,2.0,3.0,4.0,1.0,2.0,1.0,1.0,1.0,2.0,3.0,null,null,1.0,2.0,3.0,4.0,1.0,2.0,1.0,1.0,null,1.0,2.0,3.0,null,null,1.0,2.0,3.0,4.0,1.0,2.0,1.0,1.0,2.0,3.0,4.0,null,1.0,1.0,2.0,3.0,1.0,2.0,1.0,null,null,1.0,1.0,2.0,null,3.0,1.0,2.0,1.0,2.0,null,3.0,1.0,null,1.0,null,null,2.0,null,1.0,null,null,1.0,2.0,3.0,1.0,2.0,1.0,1.0,1.0,2.0,1.0,null,null,1.0,1.0,2.0,1.0,2.0,3.0,4.0,1.0,2.0,3.0,1.0,2.0,3.0,1.0,2.0,null,3.0,1.0,2.0,3.0,4.0,null,null,1.0,1.0,1.0,2.0,3.0,null,3.0,1.0,2.0,3.0,4.0,null,1.0,2.0,3.0,1.0,2.0,1.0,2.0,2.0,3.0,4.0,1.0,2.0,3.0,4.0,1.0,2.0,null,3.0,1.0,2.0,1.0,2.0,null,3.0,null,4.0,null,1.0,1.0,2.0,2.0,3.0,3.0,1.0,null,1.0,2.0,3.0,1.0,2.0,1.0,2.0,3.0,1.0,2.0,3.0,4.0,1.0,2.0,3.0,4.0,1.0,2.0,3.0,1.0,1.0,1.0,2.0,3.0,1.0,2.0,1.0,null,1.0,2.0,3.0,null,null,1.0,2.0,1.0,2.0,3.0,1.0,null,null,1.0,2.0,3.0,3.0,1.0,2.0,3.0,1.0,null,2.0,3.0,4.0,null,1.0,1.0,1.0,2.0,null,null,1.0,null,2.0,null,3.0,1.0,2.0,1.0,null,2.0,3.0,1.0,2.0,3.0,4.0,1.0,2.0,null,1.0,2.0,1.0,2.0,3.0,1.0,1.0,2.0,3.0,4.0,1.0,null,null,1.0,2.0,1.0,2.0,3.0,4.0,1.0,1.0,1.0,2.0,3.0,1.0,2.0,1.0,1.0,2.0,3.0,4.0,null,1.0,1.0,null,2.0,1.0,2.0,3.0,4.0,1.0,2.0,1.0,2.0,3.0,null,1.0,2.0,1.0,1.0,2.0,3.0,1.0,1.0,2.0,3.0,4.0,4.0,null,1.0,2.0,3.0,4.0,1.0,2.0,1.0,null,2.0,1.0,1.0,null,1.0,2.0,null,null,1.0,1.0,2.0,null,null,null,1.0,2.0,1.0,2.0,3.0,3.0,4.0,1.0,2.0,1.0,2.0,2.0,3.0,1.0,1.0,2.0,1.0,null,null,1.0,2.0,3.0,1.0,2.0,3.0,1.0,1.0,2.0,3.0,1.0,null,2.0,3.0,null,4.0,null,1.0,2.0,3.0,1.0,1.0,2.0,1.0,1.0,1.0,2.0,3.0,4.0,1.0,1.0,2.0,3.0,4.0,1.0,1.0,null,null,1.0,2.0,1.0,2.0,3.0,1.0,2.0,3.0,4.0,1.0,2.0,3.0,4.0,1.0,null,2.0,3.0,null,4.0,1.0,null,null,1.0,2.0,1.0,1.0,1.0,2.0,3.0,1.0,2.0,3.0,null,null,1.0,2.0,3.0,1.0,2.0,null,null,1.0,2.0,3.0,4.0,1.0,2.0,3.0,1.0,2.0,3.0,4.0,1.0,2.0,2.0,3.0,4.0,1.0,1.0,null,2.0,3.0,1.0,2.0,1.0,2.0,3.0,null,1.0,2.0,3.0,1.0,2.0,null,null,1.0,2.0,3.0,4.0,1.0,2.0,1.0,1.0,2.0,3.0,4.0,1.0,2.0,3.0,4.0,1.0,2.0,1.0,2.0,3.0,4.0,1.0,1.0,2.0,1.0,2.0,3.0,null,1.0,2.0,1.0,2.0,2.0,null,3.0,4.0,null,1.0,null,null,1.0,2.0,3.0,1.0,2.0,1.0,2.0,null,null,1.0,2.0,3.0,4.0,1.0,2.0,3.0,4.0,1.0,1.0,2.0,3.0,4.0,1.0,2.0,1.0,2.0,null,null,1.0,2.0,3.0,4.0,1.0,1.0,2.0,3.0,3.0,4.0,1.0,2.0,3.0,4.0,1.0,1.0,2.0,3.0,4.0,null,1.0,1.0,2.0,3.0,4.0,1.0,2.0,null,3.0,4.0,1.0,2.0,3.0,4.0,1.0,2.0,1.0,2.0,1.0,1.0,2.0,1.0,1.0,2.0,null,3.0,null,4.0,1.0,1.0,2.0,2.0,null,3.0,4.0,1.0,2.0,3.0,null,null,1.0,2.0,3.0,1.0,2.0,3.0,4.0,4.0,1.0,1.0,1.0,2.0,1.0,1.0,2.0,2.0,1.0,2.0,null,3.0,null,4.0,1.0,1.0,2.0,1.0,2.0,1.0,2.0,3.0,1.0,2.0,1.0,2.0,3.0,3.0,1.0,null,null,1.0,2.0,null,1.0,2.0,3.0,4.0,1.0,1.0,2.0,3.0,1.0,1.0,2.0,3.0,1.0,2.0,null,3.0,4.0,null,1.0,2.0,3.0,4.0,1.0,1.0,2.0,3.0,1.0,2.0,3.0,1.0,null,2.0,null,3.0,1.0,2.0,null,1.0,2.0,null,3.0,1.0,2.0,3.0,4.0,null,1.0,1.0,2.0,1.0,null,null,1.0,2.0,1.0,2.0,2.0,3.0,4.0,1.0,1.0,1.0,2.0,3.0,1.0,2.0,3.0,4.0,1.0,2.0,1.0,2.0,3.0,3.0,4.0,1.0,2.0,1.0,2.0,3.0,4.0,1.0,null,2.0,3.0,1.0,1.0,1.0,1.0,2.0,2.0,3.0,4.0,1.0,2.0,3.0,4.0,1.0,2.0,3.0,4.0,1.0,2.0,3.0,1.0,1.0,2.0,3.0,1.0,2.0,null,null,1.0,1.0,2.0,1.0,1.0,2.0,3.0,1.0,null,null,1.0,null,2.0,null,1.0,null,2.0,null,3.0,null,4.0,1.0,1.0,1.0,1.0,2.0,3.0,null,4.0,null,null,1.0,2.0,3.0,1.0,2.0,3.0,1.0,2.0,1.0,2.0,3.0,1.0,1.0,2.0,3.0,4.0,null,1.0,2.0,1.0,1.0,2.0,3.0,4.0,1.0,2.0,3.0,4.0,1.0,1.0,2.0,null,null,1.0,2.0,1.0,null,1.0,1.0,2.0,3.0,1.0,2.0,1.0,null,null,1.0,1.0,2.0,3.0,4.0,1.0,2.0,3.0,4.0,1.0,2.0,1.0,1.0,2.0,null,null,1.0,2.0,3.0,1.0,null,null,1.0,1.0,2.0,null,1.0,2.0,3.0,null,4.0,null,1.0,null,2.0,null,null,3.0,null,null,1.0,1.0,null,null,1.0,2.0,3.0,1.0,1.0,2.0,3.0,1.0,2.0,1.0,null,null,null,1.0,2.0,1.0,1.0,1.0,2.0,3.0,1.0,2.0,null,3.0,4.0,null,1.0,1.0,2.0,1.0,2.0,1.0,2.0,null,3.0,null,4.0,1.0,null,null,1.0,1.0,2.0,3.0,3.0,4.0,1.0,2.0,1.0,2.0,1.0,1.0,2.0,3.0,4.0,4.0,1.0,2.0,3.0,4.0,1.0,2.0,1.0,1.0,1.0,2.0,1.0,1.0,2.0,1.0,null,2.0,null,3.0,1.0,2.0,null,null,1.0,2.0,3.0,3.0,4.0,1.0,2.0,3.0,4.0,1.0,2.0,3.0,4.0,1.0,2.0,3.0,1.0,1.0,1.0,2.0,null,null,1.0,2.0,3.0,4.0,1.0,2.0,3.0,1.0,2.0,3.0,1.0,null,2.0,3.0,4.0,1.0,2.0,3.0,4.0,1.0,2.0,3.0,1.0,2.0,3.0,4.0,null,1.0,2.0,3.0,1.0,2.0,3.0,null,4.0,1.0,null,null,1.0,2.0,3.0,4.0,4.0,1.0,2.0,1.0,1.0,2.0,3.0,1.0,2.0,3.0,4.0,null,1.0,1.0,2.0,3.0,4.0,1.0,2.0,null,3.0,null,1.0,2.0,3.0,1.0,2.0,3.0,1.0,1.0,2.0,null,1.0,2.0,2.0,3.0,4.0,1.0,2.0,3.0,4.0,1.0,2.0,3.0,1.0,null,1.0,1.0,2.0,1.0,2.0,3.0,4.0,null,null,null,1.0,1.0,2.0,2.0,3.0,4.0,1.0,2.0,3.0,3.0,null,1.0,1.0,2.0,3.0,4.0,1.0,1.0,2.0,1.0,1.0,1.0,2.0,2.0,null,null,1.0,2.0,3.0,4.0,1.0,2.0,3.0,4.0,1.0,2.0,null,1.0,2.0,null,3.0,4.0,1.0,null,2.0,null,3.0,4.0,1.0,1.0,2.0,3.0,1.0,2.0,3.0,1.0,2.0,3.0,null,null,1.0,null,null,1.0,1.0,2.0,3.0,1.0,2.0,1.0,2.0,1.0,2.0,3.0,4.0,null,1.0,1.0,2.0,3.0,1.0,2.0,1.0,1.0,2.0,1.0,1.0,2.0,3.0,1.0,2.0,3.0,4.0,null,1.0,null,2.0,3.0,4.0,1.0,2.0,1.0,2.0,1.0,2.0,null,null,1.0,null,1.0,2.0,3.0,null,4.0,1.0,2.0,1.0,null,null,1.0,2.0,3.0,4.0,1.0,2.0,3.0,1.0,2.0,1.0,null,1.0,1.0,2.0,3.0,1.0,null,1.0,1.0,2.0,1.0,2.0,1.0,2.0,3.0,4.0,null,1.0,null,null,1.0,2.0,1.0,2.0,3.0,1.0,2.0,3.0,1.0,1.0,2.0,3.0,4.0,null,1.0,2.0,1.0,2.0,2.0,2.0,3.0,4.0,1.0,2.0,3.0,4.0,1.0,1.0,2.0,3.0,1.0,2.0,3.0,null,4.0,1.0,2.0,3.0,null,4.0,null,1.0,1.0,2.0,3.0,4.0,1.0,2.0,3.0,4.0,1.0,2.0,3.0,4.0,1.0,null,1.0,2.0,3.0,1.0,2.0,null,3.0,null,null,1.0,2.0,3.0,4.0,1.0,2.0,3.0,1.0,1.0,2.0,3.0,null,4.0,1.0,null,2.0,3.0,null,null,1.0,2.0,3.0,1.0,1.0,2.0,3.0,1.0,1.0,1.0,1.0,2.0,null,null,1.0,2.0,2.0,3.0,4.0,1.0,2.0,3.0,4.0,1.0,1.0,1.0,2.0,3.0,1.0,2.0,null,3.0,null,null,1.0,2.0,3.0,4.0,1.0,2.0,3.0,4.0,1.0,2.0,3.0,4.0,1.0,2.0,3.0,4.0,1.0,2.0,3.0,4.0,1.0,1.0,2.0,3.0,1.0,2.0,1.0,2.0,null,3.0,1.0,2.0,null,3.0,4.0,1.0,null,null,1.0,2.0,3.0,4.0,1.0,2.0,3.0,1.0,2.0,1.0,2.0,1.0,null,1.0,1.0,2.0,3.0,4.0,null,1.0,2.0,1.0,2.0,3.0,4.0,1.0,2.0,null,3.0,1.0,2.0,1.0,2.0,1.0,null,2.0,3.0,1.0,1.0,2.0,null,null,1.0,2.0,3.0,4.0,1.0,2.0,2.0,3.0,4.0,1.0,2.0,2.0,1.0,1.0,2.0,3.0,4.0,1.0,1.0,2.0,3.0,4.0,1.0,2.0,1.0,1.0,2.0,3.0,1.0,null,2.0,3.0,1.0,2.0,null,null,1.0,2.0,3.0,4.0,1.0,2.0,3.0,1.0,1.0,2.0,2.0,3.0,4.0,1.0,2.0,3.0,1.0,2.0,1.0,null,1.0,2.0,null,null,1.0,2.0,3.0,4.0,1.0,1.0,1.0,1.0,2.0,3.0,null,null,1.0,2.0,3.0,null,4.0,1.0,2.0,3.0,1.0,2.0,3.0,4.0,1.0,1.0,1.0,2.0,null,1.0,1.0,2.0,null,null,1.0,null,null,1.0,2.0,2.0,3.0,4.0,4.0,1.0,2.0,3.0,1.0,2.0,3.0,1.0,2.0,3.0,null,1.0,2.0,1.0,2.0,3.0,4.0,null,1.0,null,2.0,3.0,null,4.0,null,1.0,2.0,3.0,3.0,4.0,1.0,1.0,2.0,1.0,1.0,2.0,3.0,4.0,null,1.0,2.0,1.0,2.0,3.0,4.0,1.0,2.0,1.0,2.0,3.0,4.0,1.0,1.0,1.0,2.0,2.0,3.0,null,4.0,1.0,2.0,3.0,1.0,2.0,3.0,4.0,1.0,2.0,3.0,4.0,1.0,2.0,1.0,2.0,1.0,null,null,1.0,2.0,3.0,4.0,1.0,1.0,2.0,2.0,3.0,4.0,null,1.0,null,null,1.0,2.0,3.0,null,null,1.0,2.0,3.0,1.0,1.0,2.0,3.0,4.0,1.0,2.0,1.0,2.0,3.0,1.0,1.0,2.0,null,3.0,4.0,null,1.0,1.0,2.0,3.0,1.0,1.0,2.0,3.0,4.0,null,1.0,1.0,2.0,2.0,3.0,4.0,null,1.0,1.0,2.0,1.0,2.0,3.0,4.0,1.0,2.0,1.0,1.0,1.0,2.0,null,null,1.0,2.0,3.0,1.0,2.0,1.0,2.0,3.0,1.0,2.0,null,null,1.0,1.0,2.0,3.0,null,1.0,null,null,1.0,null,2.0,1.0,1.0,1.0,1.0,2.0,3.0,null,1.0,null,null,1.0,null,null,1.0,2.0,3.0,4.0,1.0,2.0,1.0,2.0,1.0,2.0,3.0,4.0,1.0,2.0,3.0,4.0,null,1.0,2.0,null,3.0,4.0,1.0,1.0,2.0,3.0,4.0,1.0,2.0,1.0,2.0,1.0,1.0,1.0,2.0,3.0,4.0,1.0,2.0,1.0,2.0,3.0,4.0,1.0,2.0,null,1.0,1.0,2.0,1.0,2.0,null,null,1.0,2.0,3.0,4.0,1.0,2.0,1.0,2.0,3.0,4.0,1.0,2.0,3.0,1.0,1.0,2.0,null,null,1.0,2.0,1.0,2.0,1.0,2.0,3.0,3.0,4.0,1.0,null,2.0,null,3.0,null,1.0,null,2.0,1.0,2.0,null,null,1.0,2.0,3.0,1.0,1.0,2.0,1.0,2.0,3.0,1.0,null,null,1.0,1.0,2.0,3.0,1.0,2.0,1.0,2.0,3.0,4.0,1.0,1.0,2.0,1.0,1.0,2.0,3.0,4.0,1.0,2.0,3.0,1.0,2.0,1.0,2.0,null,null,3.0,4.0,null,null,1.0,2.0,3.0,1.0,2.0,3.0,1.0,1.0,2.0,1.0,2.0,2.0,3.0,4.0,4.0,1.0,2.0,3.0,3.0,4.0,1.0,1.0,2.0,3.0,4.0,null,1.0,1.0,null,2.0,null,3.0,4.0,1.0,2.0,2.0,3.0,null,4.0,1.0,1.0,1.0,null,2.0,3.0,null,4.0,1.0,null,null,null,1.0,2.0,1.0,2.0,3.0,4.0,1.0,2.0,1.0,1.0,2.0,3.0,4.0,1.0,2.0,1.0,2.0,3.0,4.0,1.0,2.0,1.0,2.0,1.0,2.0,1.0,2.0,3.0,1.0,2.0,2.0,3.0,null,null,4.0,1.0,2.0,3.0,4.0,1.0,2.0,3.0,4.0,1.0,2.0,3.0,4.0,1.0,1.0,1.0,null,null,1.0,1.0,1.0,2.0,3.0,4.0,1.0,2.0,3.0,1.0,null,2.0,1.0,1.0,2.0,3.0,null,4.0,null,1.0,2.0,3.0,4.0,1.0,null,2.0,null,null,1.0,null,2.0,3.0,4.0,1.0,2.0,3.0,null,null,null,1.0,2.0,3.0,4.0,1.0,2.0,1.0,2.0,1.0,2.0,3.0,null,null,1.0,2.0,1.0,2.0,2.0,3.0,1.0,1.0,1.0,2.0,1.0,1.0,1.0,2.0,3.0,1.0,2.0,3.0,1.0,2.0,3.0,4.0,null,1.0,2.0,null,3.0,4.0,1.0,2.0,3.0,1.0,2.0,3.0,4.0,null,1.0,2.0,3.0,1.0,2.0,3.0,4.0,1.0,2.0,3.0,4.0,1.0,1.0,1.0,2.0,1.0,2.0,null,3.0,1.0,2.0,3.0,null,4.0,null,null,1.0,null,2.0,1.0,null,2.0,1.0,2.0,null,3.0,null,4.0,1.0,null,null,1.0,2.0,1.0,2.0,1.0,2.0,3.0,null,null,1.0,1.0,2.0,1.0,1.0,2.0,null,3.0,4.0,1.0,2.0,3.0,4.0,1.0,1.0,2.0,3.0,4.0,null,1.0,2.0,1.0,2.0,1.0,2.0,3.0,1.0,2.0,2.0,1.0,null,2.0,3.0,4.0,null,1.0,2.0,3.0,4.0,1.0,2.0,3.0,4.0,1.0,2.0,1.0,2.0,3.0,1.0,2.0,3.0,1.0,2.0,3.0,4.0,null,1.0,2.0,1.0,2.0,1.0,null,2.0,null,null,1.0,2.0,3.0,1.0,2.0,3.0,null,4.0,null,1.0,2.0,3.0,4.0,1.0,null,null,1.0,1.0,2.0,3.0,4.0,1.0,2.0,2.0,1.0,2.0,1.0,2.0,3.0,null,1.0,2.0,3.0,4.0,null,1.0,2.0,2.0,3.0,4.0,1.0,2.0,1.0,2.0,1.0,2.0,3.0,1.0,null,null,1.0,2.0,null,3.0,4.0,1.0,1.0,2.0,3.0,4.0,null,1.0,2.0,1.0,2.0,3.0,1.0,2.0,3.0,1.0,2.0,2.0,3.0,4.0,1.0,2.0,1.0,2.0,3.0,1.0,2.0,null,3.0,1.0,2.0,null,3.0,null,4.0,1.0,null,1.0,2.0,null,1.0,1.0,1.0,2.0,3.0,null,1.0,2.0,2.0,null,1.0,2.0,3.0,4.0,1.0,2.0,3.0,4.0,1.0,2.0,2.0,3.0,1.0,2.0,1.0,2.0,1.0,2.0,1.0,2.0,null,null,1.0,2.0,3.0,4.0,1.0,2.0,null,3.0,4.0,1.0,2.0,3.0,4.0,1.0,1.0,1.0,1.0,2.0,3.0,1.0,null,null,1.0,2.0,3.0,1.0,2.0,3.0,4.0,1.0,2.0,1.0,2.0,1.0,null,2.0,1.0,2.0,null,3.0,null,4.0,1.0,2.0,3.0,null,null,4.0,1.0,2.0,null,null,1.0,null,null,1.0,2.0,3.0,1.0,1.0,2.0,3.0,4.0,1.0,2.0,3.0,1.0,2.0,1.0,2.0,1.0,1.0,2.0,1.0,2.0,1.0,2.0,3.0,1.0,2.0,2.0,1.0,1.0,2.0,null,3.0,1.0,2.0,1.0,2.0,1.0,2.0,1.0,2.0,3.0,4.0,null,1.0,2.0,3.0,4.0,1.0,2.0,1.0,2.0,1.0,2.0,3.0,4.0,null,1.0,2.0,null,3.0,null,1.0,2.0,1.0,null,2.0,3.0,null,1.0,1.0,2.0,3.0,4.0,null,1.0,1.0,1.0,2.0,3.0,4.0,1.0,2.0,3.0,4.0,1.0,2.0,3.0,1.0,2.0,2.0,3.0,1.0,2.0,1.0,2.0,3.0,4.0,null,1.0,1.0,1.0,2.0,3.0,null,null,1.0,2.0,1.0,1.0,2.0,null,3.0,3.0,4.0,1.0,1.0,2.0,3.0,4.0,null,1.0,2.0,3.0,4.0,1.0,2.0,3.0,1.0,2.0,3.0,1.0,2.0,1.0,2.0,null,3.0,4.0,null,1.0,2.0,1.0,null,1.0,2.0,2.0,3.0,1.0,2.0,3.0,4.0,1.0,1.0,2.0,null,null,1.0,null,2.0,null,3.0,null,1.0,1.0,null,2.0,3.0,4.0,1.0,2.0,null,null,1.0,2.0,3.0,4.0,1.0,2.0,1.0,1.0,2.0,1.0,1.0,2.0,1.0,1.0,2.0,2.0,3.0,4.0,1.0,2.0,1.0,2.0,3.0,1.0,2.0,3.0,null,null,1.0,2.0,1.0,1.0,2.0,3.0,null,4.0,null,1.0,2.0,1.0,2.0,3.0,1.0,2.0,2.0,3.0,1.0,2.0,null,3.0,4.0,null,1.0,1.0,1.0,2.0,3.0,1.0,1.0,2.0,null,1.0,null,2.0,3.0,4.0,null,1.0,2.0,null,3.0,1.0,2.0,null,null,1.0,2.0,1.0,2.0,1.0,2.0,1.0,2.0,null,null,1.0,1.0,2.0,3.0,4.0,1.0,2.0,3.0,4.0,1.0,2.0,1.0,2.0,1.0,2.0,1.0,2.0,3.0,1.0,2.0,3.0,1.0,2.0,3.0,1.0,null,2.0,2.0,1.0,2.0,3.0,4.0,null,1.0,2.0,2.0,1.0,1.0,2.0,3.0,4.0,1.0,2.0,3.0,4.0,1.0,2.0,3.0,4.0,1.0,2.0,3.0,4.0,1.0,1.0,1.0,2.0,3.0,4.0,1.0,2.0,null,3.0,null,4.0,1.0,2.0,null,null,1.0,2.0,2.0,3.0,4.0,1.0,2.0,3.0,4.0,1.0,2.0,1.0,2.0,3.0,4.0,1.0,2.0,1.0,2.0,3.0,4.0,1.0,2.0,3.0,4.0,1.0,1.0,2.0,1.0,2.0,3.0,4.0,null,1.0,1.0,1.0,2.0,3.0,1.0,null,1.0,2.0,null,1.0,1.0,2.0,1.0,2.0,3.0,1.0,2.0,1.0,2.0,3.0,1.0,null,null,null,1.0,2.0,3.0,4.0,1.0,1.0,2.0,1.0,1.0,2.0,null,null,1.0,2.0,3.0,4.0,1.0,2.0,3.0,null,1.0,null,null,1.0,1.0,1.0,1.0,1.0,2.0,3.0,null,1.0,1.0,null,null,1.0,2.0,1.0,2.0,1.0,1.0,2.0,3.0,null,null,1.0,1.0,2.0,1.0,2.0,2.0,1.0,2.0,3.0,4.0,1.0,2.0,3.0,1.0,2.0,3.0,3.0,4.0,1.0,2.0,1.0,2.0,null,null,null,1.0,2.0,3.0,1.0,2.0,null,3.0,null,3.0,1.0,2.0,1.0,1.0,3.0,4.0,2.0,null,null,1.0,1.0,2.0,3.0,4.0,1.0,2.0,3.0,4.0,1.0,2.0,1.0,2.0,3.0,4.0,1.0,2.0,3.0,3.0,4.0,1.0,2.0,1.0,2.0,3.0,4.0,1.0,null,2.0,3.0,4.0,1.0,2.0,null,null,1.0,1.0,2.0,1.0,1.0,2.0,3.0,1.0,2.0,3.0,4.0,1.0,2.0,1.0,2.0,1.0,1.0,2.0,3.0,4.0,1.0,1.0,1.0,2.0,3.0,4.0,1.0,1.0,2.0,3.0,4.0,1.0,null,2.0,1.0,2.0,3.0,1.0,1.0,2.0,3.0,4.0,1.0,2.0,1.0,1.0,2.0,3.0,1.0,1.0,2.0,null,3.0,1.0,1.0,2.0,2.0,3.0,4.0,1.0,2.0,null,1.0,2.0,1.0,2.0,1.0,null,1.0,null,null,1.0,1.0,2.0,3.0,4.0,1.0,null,null,1.0,2.0,3.0,4.0,1.0,2.0,2.0,1.0,2.0,3.0,4.0,4.0,null,1.0,2.0,3.0,4.0,1.0,1.0,1.0,2.0,1.0,null,null,1.0,2.0,3.0,3.0,4.0,1.0,1.0,2.0,3.0,null,3.0,1.0,2.0,3.0,null,1.0,2.0,1.0,1.0,2.0,3.0,4.0,null,1.0,2.0,3.0,4.0,4.0,1.0,2.0,1.0,2.0,1.0,2.0,3.0,4.0,1.0,1.0,2.0,null,null,1.0,2.0,1.0,2.0,1.0,1.0,2.0,null,3.0,4.0,1.0,2.0,1.0,null,2.0,null,1.0,2.0,null,null,1.0,1.0,2.0,3.0,4.0,1.0,2.0,2.0,1.0,2.0,1.0,null,null,null,1.0,2.0,1.0,2.0,3.0,null,null,1.0,1.0,1.0,2.0,1.0,1.0,2.0,3.0,1.0,2.0,3.0,null,null,null,1.0,2.0,3.0,4.0,1.0,2.0,3.0,1.0,2.0,3.0,4.0,1.0,null,1.0,2.0,null,null,1.0,2.0,3.0,1.0,2.0,3.0,4.0,4.0,null,null,null,1.0,1.0,2.0,3.0,4.0,1.0,2.0,3.0,1.0,2.0,3.0,4.0,1.0,2.0,null,3.0,1.0,1.0,2.0,null,1.0,1.0,2.0,3.0,1.0,null,null,1.0,2.0,null,1.0,2.0,null,null,3.0,null,null,null,null,1.0,2.0,3.0,3.0,4.0,1.0,2.0,3.0,4.0,null,null,1.0,2.0,3.0,4.0,1.0,2.0,3.0,4.0,1.0,null,2.0,3.0,1.0,2.0,1.0,2.0,3.0,4.0,null,1.0,2.0,3.0,4.0,1.0,2.0,3.0,4.0,1.0,2.0,3.0,1.0,2.0,1.0,2.0,3.0,1.0,2.0,1.0,2.0,3.0,4.0,null,null,1.0,2.0,null,1.0,2.0,null,null,1.0,2.0,3.0,1.0,2.0,3.0,4.0,1.0,2.0,1.0,1.0,1.0,null,2.0,null,1.0,null,null,1.0,1.0,2.0,1.0,1.0,null,null,1.0,1.0,2.0,1.0,1.0,2.0,3.0,1.0,1.0,2.0,null,3.0,4.0,1.0,2.0,3.0,4.0,1.0,2.0,1.0,1.0,1.0,2.0,3.0,4.0,1.0,2.0,1.0,2.0,3.0,1.0,null,null,1.0,null,2.0,1.0,null,1.0,2.0,1.0,2.0,3.0,1.0,2.0,3.0,4.0,1.0,2.0,3.0,4.0,1.0,2.0,1.0,2.0,null,3.0,4.0,1.0,1.0,2.0,3.0,4.0,1.0,2.0,3.0,4.0,1.0,2.0,null,3.0,1.0,null,null,1.0,2.0,3.0,null,4.0,1.0,2.0,null,1.0,null,null,1.0,null,1.0,1.0,2.0,1.0,2.0,3.0,null,1.0,1.0,2.0,3.0,1.0,2.0,3.0,4.0,1.0,1.0,2.0,1.0,1.0,2.0,1.0,2.0,3.0,4.0,null,null,1.0,2.0,3.0,null,4.0,null,1.0,2.0,3.0,4.0,1.0,2.0,3.0,1.0,2.0,3.0,4.0,1.0,2.0,3.0,4.0,1.0,2.0,3.0,4.0,null,1.0,2.0,3.0,1.0,1.0,1.0,1.0,2.0,3.0,null,4.0,null,null,1.0,2.0,1.0,2.0,3.0,1.0,2.0,3.0,4.0,1.0,null,null,null,1.0,1.0,1.0,2.0,3.0,4.0,1.0,2.0,3.0,4.0,1.0,2.0,1.0,2.0,3.0,4.0,1.0,2.0,3.0,1.0,2.0,3.0,4.0,1.0,2.0,3.0,4.0,1.0,2.0,1.0,2.0,3.0,4.0,1.0,2.0,3.0,1.0,2.0,3.0,null,1.0,2.0,null,3.0,null,4.0,null,1.0,2.0,null,1.0,null,1.0,2.0,1.0,2.0,1.0,2.0,3.0,4.0,1.0,2.0,3.0,4.0,1.0,2.0,1.0,2.0,3.0,4.0,null,1.0,2.0,3.0,4.0,1.0,1.0,2.0,1.0,1.0,1.0,1.0,2.0,3.0,4.0,null,1.0,2.0,1.0,2.0,3.0,null,4.0,null,1.0,2.0,3.0,4.0,1.0,1.0,2.0,1.0,1.0,2.0,null,null,1.0,2.0,3.0,4.0,1.0,1.0,2.0,3.0,null,null,1.0,1.0,2.0,3.0,3.0,1.0,1.0,2.0,3.0,null,4.0,1.0,2.0,3.0,4.0,null,1.0,null,1.0,2.0,1.0,2.0,null,3.0,1.0,1.0,null,1.0,2.0,null,null,1.0,2.0,3.0,4.0,1.0,2.0,3.0,4.0,1.0,1.0,2.0,3.0,4.0,1.0,null,null,null,1.0,2.0,1.0,2.0,3.0,4.0,1.0,2.0,3.0,1.0,2.0,3.0,4.0,1.0,2.0,3.0,4.0,1.0,2.0,3.0,4.0,1.0,null,2.0,3.0,1.0,null,2.0,3.0,4.0,1.0,2.0,3.0,4.0,1.0,2.0,3.0,1.0,2.0,3.0,4.0,1.0,2.0,3.0,4.0,1.0,2.0,3.0,4.0,1.0,2.0,3.0,1.0,null,2.0,null,3.0,null,4.0,1.0,2.0,3.0,null,null,1.0,2.0,3.0,1.0,2.0,3.0,4.0,1.0,1.0,2.0,3.0,1.0,1.0,2.0,1.0,2.0,3.0,null,null,1.0,2.0,1.0,2.0,2.0,3.0,1.0,2.0,3.0,4.0,1.0,2.0,3.0,null,4.0,1.0,2.0,3.0,1.0,2.0,3.0,1.0,1.0,2.0,3.0,4.0,1.0,1.0,1.0,1.0,2.0,3.0,1.0,2.0,1.0,null,null,1.0,2.0,3.0,1.0,2.0,1.0,null,2.0,1.0,1.0,null,2.0,2.0,null,3.0,null,4.0,null,1.0,1.0,2.0,1.0,1.0,1.0,2.0,2.0,null,1.0,2.0,2.0,null,null,1.0,null,null,1.0,2.0,3.0,1.0,2.0,3.0,1.0,1.0,1.0,2.0,1.0,2.0,2.0,3.0,null,null,1.0,1.0,2.0,3.0,4.0,1.0,2.0,3.0,1.0,2.0,3.0,1.0,2.0,1.0,2.0,1.0,1.0,2.0,3.0,1.0,2.0,null,1.0,2.0,3.0,4.0,1.0,2.0,3.0,4.0,1.0,2.0,3.0,1.0,2.0,3.0,4.0,null,1.0,2.0,3.0,1.0,2.0,null,3.0,4.0,null,1.0,2.0,3.0,1.0,1.0,2.0,3.0,4.0,1.0,2.0,null,null,1.0,2.0,1.0,null,2.0,1.0,1.0,2.0,3.0,null,1.0,null,null,1.0,null,null,1.0,2.0,3.0,4.0,1.0,2.0,3.0,1.0,1.0,2.0,3.0,4.0,null,1.0,2.0,3.0,4.0,1.0,1.0,1.0,null,null,1.0,2.0,3.0,4.0,1.0,2.0,1.0,1.0,2.0,3.0,4.0,1.0,2.0,3.0,null,1.0,1.0,2.0,3.0,1.0,2.0,3.0,1.0,1.0,2.0,null,3.0,4.0,null,1.0,2.0,1.0,null,null,1.0,2.0,3.0,4.0,1.0,2.0,1.0,2.0,3.0,1.0,1.0,2.0,3.0,4.0,null,1.0,2.0,1.0,2.0,2.0,null,2.0,3.0,null,1.0,2.0,null,1.0,1.0,null,null,1.0,1.0,1.0,null,2.0,null,1.0,1.0,1.0,2.0,3.0,1.0,1.0,2.0,3.0,4.0,null,1.0,2.0,3.0,1.0,2.0,3.0,1.0,2.0,1.0,1.0,2.0,1.0,1.0,2.0,3.0,4.0,1.0,2.0,1.0,2.0,3.0,1.0,1.0,2.0,null,null,1.0,null,2.0,1.0,2.0,1.0,2.0,1.0,2.0,1.0,2.0,3.0,4.0,1.0,2.0,3.0,4.0,1.0,1.0,1.0,2.0,1.0,2.0,3.0,1.0,2.0,3.0,null,4.0,null,null,1.0,null,2.0,null,3.0,null,null,1.0,2.0,3.0,3.0,1.0,2.0,3.0,4.0,1.0,2.0,3.0,null,1.0,2.0,3.0,null,null,1.0,2.0,3.0,1.0,2.0,null,null,1.0,2.0,3.0,4.0,1.0,2.0,1.0,2.0,3.0,1.0,2.0,1.0,2.0,3.0,4.0,null,1.0,2.0,1.0,2.0,3.0,1.0,1.0,2.0,1.0,2.0,3.0,4.0,1.0,null,1.0,1.0,2.0,1.0,null,null,1.0,2.0,3.0,4.0,1.0,2.0,1.0,2.0,3.0,4.0,1.0,2.0,3.0,4.0,1.0,2.0,1.0,2.0,3.0,4.0,4.0,1.0,1.0,2.0,3.0,1.0,1.0,2.0,3.0,null,4.0,4.0,1.0,2.0,1.0,null,1.0,1.0,2.0,null,3.0,1.0,2.0,null,1.0,2.0,3.0,4.0,1.0,1.0,2.0,3.0,4.0,null,1.0,2.0,2.0,3.0,4.0,1.0,1.0,2.0,1.0,2.0,3.0,1.0,2.0,3.0,4.0,1.0,2.0,1.0,2.0,3.0,4.0,1.0,null,2.0,3.0,1.0,2.0,3.0,null,null,1.0,1.0,2.0,3.0,4.0,1.0,2.0,3.0,4.0,1.0,2.0,1.0,null,null,null,null,1.0,2.0,3.0,4.0,1.0,2.0,3.0,1.0,2.0,1.0,2.0,2.0,3.0,4.0,1.0,2.0,3.0,null,4.0,null,null,1.0,null,2.0,null,3.0,4.0,1.0,2.0,2.0,1.0,2.0,3.0,4.0,1.0,2.0,2.0,3.0,4.0,1.0,null,null,1.0,2.0,3.0,4.0,null,1.0,2.0,3.0,3.0,1.0,2.0,1.0,1.0,2.0,3.0,1.0,1.0,2.0,null,3.0,1.0,2.0,3.0,3.0,null,null,1.0,1.0,2.0,1.0,1.0,2.0,3.0,1.0,2.0,1.0,2.0,3.0,4.0,null,1.0,1.0,2.0,null,null,1.0,2.0,1.0,1.0,2.0,3.0,4.0,1.0,2.0,3.0,1.0,1.0,2.0,3.0,4.0,1.0,2.0,3.0,4.0,1.0,2.0,1.0,2.0,1.0,1.0,null,null,1.0,2.0,1.0,1.0,2.0,null,3.0,1.0,1.0,null,1.0,1.0,null,2.0,null,null,1.0,2.0,3.0,1.0,2.0,1.0,1.0,2.0,1.0,2.0,3.0,4.0,1.0,2.0,3.0,1.0,2.0,3.0,1.0,2.0,3.0,4.0,1.0,null,1.0,1.0,1.0,1.0,2.0,3.0,null,null,1.0,1.0,1.0,1.0,2.0,3.0,null,1.0,2.0,null,null,1.0,2.0,3.0,1.0,2.0,1.0,2.0,1.0,1.0,2.0,null,3.0,1.0,2.0,3.0,4.0,4.0,null,1.0,2.0,3.0,4.0,1.0,2.0,3.0,4.0,1.0,1.0,1.0,2.0,3.0,1.0,null,null,2.0,1.0,2.0,1.0,2.0,3.0,4.0,1.0,null,null,1.0,2.0,3.0,1.0,null,2.0,null,null,1.0,2.0,3.0,4.0,1.0,1.0,2.0,2.0,3.0,4.0,1.0,2.0,3.0,1.0,2.0,null,3.0,4.0,1.0,2.0,1.0,2.0,3.0,3.0,4.0,1.0,1.0,2.0,3.0,4.0,1.0,2.0,null,2.0,3.0,4.0,1.0,2.0,2.0,1.0,2.0,1.0,2.0,null,3.0,1.0,1.0,2.0,3.0,4.0,1.0,1.0,2.0,3.0,1.0,1.0,2.0,3.0,4.0,1.0,2.0,3.0,1.0,1.0,null,2.0,1.0,2.0,1.0,2.0,3.0,null,4.0,null,1.0,2.0,3.0,1.0,2.0,3.0,1.0,2.0,3.0,4.0,null,1.0,2.0,3.0,4.0,1.0,2.0,1.0,2.0,3.0,null,4.0,1.0,2.0,3.0,1.0,1.0,null,null,1.0,2.0,3.0,4.0,1.0,null,null,1.0,2.0,null,3.0,4.0,1.0,2.0,1.0,2.0,1.0,2.0,3.0,1.0,2.0,1.0,null,2.0,1.0,1.0,1.0,2.0,3.0,4.0,null,1.0,1.0,2.0,3.0,null,4.0,1.0,2.0,3.0,1.0,null,2.0,3.0,null,null,1.0,2.0,1.0,2.0,3.0,4.0,1.0,2.0,3.0,4.0,1.0,2.0,3.0,4.0,1.0,2.0,3.0,4.0,1.0,2.0,3.0,1.0,2.0,3.0,4.0,1.0,2.0,3.0,3.0,1.0,2.0,3.0,4.0,1.0,2.0,1.0,1.0,1.0,null,2.0,3.0,1.0,1.0,2.0,3.0,4.0,null,1.0,null,1.0,1.0,2.0,3.0,4.0,null,1.0,1.0,2.0,3.0,1.0,1.0,2.0,3.0,4.0,null,null,1.0,2.0,3.0,4.0,1.0,2.0,3.0,null,1.0,2.0,null,3.0,1.0,2.0,null,3.0,4.0,1.0,null,null,1.0,1.0,2.0,3.0,1.0,2.0,1.0,2.0,2.0,3.0,1.0,2.0,null,1.0,null,null,1.0,2.0,1.0,2.0,1.0,2.0,3.0,4.0,1.0,2.0,3.0,null,null,1.0,2.0,1.0,2.0,1.0,2.0,1.0,2.0,null,3.0,4.0,null,null,1.0,2.0,3.0,1.0,2.0,3.0,4.0,1.0,2.0,2.0,3.0,4.0,1.0,2.0,null,3.0,4.0,1.0,2.0,3.0,4.0,1.0,1.0,1.0,null,null,1.0,1.0,1.0,2.0,3.0,4.0,1.0,2.0,1.0,null,null,1.0,2.0,1.0,2.0,1.0,2.0,3.0,1.0,2.0,1.0,1.0,2.0,3.0,4.0,null,1.0,2.0,1.0,2.0,1.0,null,2.0,3.0,4.0,1.0,2.0,null,3.0,4.0,1.0,1.0,2.0,3.0,1.0,null,2.0,null,1.0,2.0,3.0,4.0,1.0,1.0,2.0,1.0,2.0,1.0],\"xaxis\":\"x\",\"yaxis\":\"y\",\"type\":\"histogram\"}],                        {\"template\":{\"data\":{\"bar\":[{\"error_x\":{\"color\":\"#2a3f5f\"},\"error_y\":{\"color\":\"#2a3f5f\"},\"marker\":{\"line\":{\"color\":\"#E5ECF6\",\"width\":0.5},\"pattern\":{\"fillmode\":\"overlay\",\"size\":10,\"solidity\":0.2}},\"type\":\"bar\"}],\"barpolar\":[{\"marker\":{\"line\":{\"color\":\"#E5ECF6\",\"width\":0.5},\"pattern\":{\"fillmode\":\"overlay\",\"size\":10,\"solidity\":0.2}},\"type\":\"barpolar\"}],\"carpet\":[{\"aaxis\":{\"endlinecolor\":\"#2a3f5f\",\"gridcolor\":\"white\",\"linecolor\":\"white\",\"minorgridcolor\":\"white\",\"startlinecolor\":\"#2a3f5f\"},\"baxis\":{\"endlinecolor\":\"#2a3f5f\",\"gridcolor\":\"white\",\"linecolor\":\"white\",\"minorgridcolor\":\"white\",\"startlinecolor\":\"#2a3f5f\"},\"type\":\"carpet\"}],\"choropleth\":[{\"colorbar\":{\"outlinewidth\":0,\"ticks\":\"\"},\"type\":\"choropleth\"}],\"contour\":[{\"colorbar\":{\"outlinewidth\":0,\"ticks\":\"\"},\"colorscale\":[[0.0,\"#0d0887\"],[0.1111111111111111,\"#46039f\"],[0.2222222222222222,\"#7201a8\"],[0.3333333333333333,\"#9c179e\"],[0.4444444444444444,\"#bd3786\"],[0.5555555555555556,\"#d8576b\"],[0.6666666666666666,\"#ed7953\"],[0.7777777777777778,\"#fb9f3a\"],[0.8888888888888888,\"#fdca26\"],[1.0,\"#f0f921\"]],\"type\":\"contour\"}],\"contourcarpet\":[{\"colorbar\":{\"outlinewidth\":0,\"ticks\":\"\"},\"type\":\"contourcarpet\"}],\"heatmap\":[{\"colorbar\":{\"outlinewidth\":0,\"ticks\":\"\"},\"colorscale\":[[0.0,\"#0d0887\"],[0.1111111111111111,\"#46039f\"],[0.2222222222222222,\"#7201a8\"],[0.3333333333333333,\"#9c179e\"],[0.4444444444444444,\"#bd3786\"],[0.5555555555555556,\"#d8576b\"],[0.6666666666666666,\"#ed7953\"],[0.7777777777777778,\"#fb9f3a\"],[0.8888888888888888,\"#fdca26\"],[1.0,\"#f0f921\"]],\"type\":\"heatmap\"}],\"heatmapgl\":[{\"colorbar\":{\"outlinewidth\":0,\"ticks\":\"\"},\"colorscale\":[[0.0,\"#0d0887\"],[0.1111111111111111,\"#46039f\"],[0.2222222222222222,\"#7201a8\"],[0.3333333333333333,\"#9c179e\"],[0.4444444444444444,\"#bd3786\"],[0.5555555555555556,\"#d8576b\"],[0.6666666666666666,\"#ed7953\"],[0.7777777777777778,\"#fb9f3a\"],[0.8888888888888888,\"#fdca26\"],[1.0,\"#f0f921\"]],\"type\":\"heatmapgl\"}],\"histogram\":[{\"marker\":{\"pattern\":{\"fillmode\":\"overlay\",\"size\":10,\"solidity\":0.2}},\"type\":\"histogram\"}],\"histogram2d\":[{\"colorbar\":{\"outlinewidth\":0,\"ticks\":\"\"},\"colorscale\":[[0.0,\"#0d0887\"],[0.1111111111111111,\"#46039f\"],[0.2222222222222222,\"#7201a8\"],[0.3333333333333333,\"#9c179e\"],[0.4444444444444444,\"#bd3786\"],[0.5555555555555556,\"#d8576b\"],[0.6666666666666666,\"#ed7953\"],[0.7777777777777778,\"#fb9f3a\"],[0.8888888888888888,\"#fdca26\"],[1.0,\"#f0f921\"]],\"type\":\"histogram2d\"}],\"histogram2dcontour\":[{\"colorbar\":{\"outlinewidth\":0,\"ticks\":\"\"},\"colorscale\":[[0.0,\"#0d0887\"],[0.1111111111111111,\"#46039f\"],[0.2222222222222222,\"#7201a8\"],[0.3333333333333333,\"#9c179e\"],[0.4444444444444444,\"#bd3786\"],[0.5555555555555556,\"#d8576b\"],[0.6666666666666666,\"#ed7953\"],[0.7777777777777778,\"#fb9f3a\"],[0.8888888888888888,\"#fdca26\"],[1.0,\"#f0f921\"]],\"type\":\"histogram2dcontour\"}],\"mesh3d\":[{\"colorbar\":{\"outlinewidth\":0,\"ticks\":\"\"},\"type\":\"mesh3d\"}],\"parcoords\":[{\"line\":{\"colorbar\":{\"outlinewidth\":0,\"ticks\":\"\"}},\"type\":\"parcoords\"}],\"pie\":[{\"automargin\":true,\"type\":\"pie\"}],\"scatter\":[{\"marker\":{\"colorbar\":{\"outlinewidth\":0,\"ticks\":\"\"}},\"type\":\"scatter\"}],\"scatter3d\":[{\"line\":{\"colorbar\":{\"outlinewidth\":0,\"ticks\":\"\"}},\"marker\":{\"colorbar\":{\"outlinewidth\":0,\"ticks\":\"\"}},\"type\":\"scatter3d\"}],\"scattercarpet\":[{\"marker\":{\"colorbar\":{\"outlinewidth\":0,\"ticks\":\"\"}},\"type\":\"scattercarpet\"}],\"scattergeo\":[{\"marker\":{\"colorbar\":{\"outlinewidth\":0,\"ticks\":\"\"}},\"type\":\"scattergeo\"}],\"scattergl\":[{\"marker\":{\"colorbar\":{\"outlinewidth\":0,\"ticks\":\"\"}},\"type\":\"scattergl\"}],\"scattermapbox\":[{\"marker\":{\"colorbar\":{\"outlinewidth\":0,\"ticks\":\"\"}},\"type\":\"scattermapbox\"}],\"scatterpolar\":[{\"marker\":{\"colorbar\":{\"outlinewidth\":0,\"ticks\":\"\"}},\"type\":\"scatterpolar\"}],\"scatterpolargl\":[{\"marker\":{\"colorbar\":{\"outlinewidth\":0,\"ticks\":\"\"}},\"type\":\"scatterpolargl\"}],\"scatterternary\":[{\"marker\":{\"colorbar\":{\"outlinewidth\":0,\"ticks\":\"\"}},\"type\":\"scatterternary\"}],\"surface\":[{\"colorbar\":{\"outlinewidth\":0,\"ticks\":\"\"},\"colorscale\":[[0.0,\"#0d0887\"],[0.1111111111111111,\"#46039f\"],[0.2222222222222222,\"#7201a8\"],[0.3333333333333333,\"#9c179e\"],[0.4444444444444444,\"#bd3786\"],[0.5555555555555556,\"#d8576b\"],[0.6666666666666666,\"#ed7953\"],[0.7777777777777778,\"#fb9f3a\"],[0.8888888888888888,\"#fdca26\"],[1.0,\"#f0f921\"]],\"type\":\"surface\"}],\"table\":[{\"cells\":{\"fill\":{\"color\":\"#EBF0F8\"},\"line\":{\"color\":\"white\"}},\"header\":{\"fill\":{\"color\":\"#C8D4E3\"},\"line\":{\"color\":\"white\"}},\"type\":\"table\"}]},\"layout\":{\"annotationdefaults\":{\"arrowcolor\":\"#2a3f5f\",\"arrowhead\":0,\"arrowwidth\":1},\"autotypenumbers\":\"strict\",\"coloraxis\":{\"colorbar\":{\"outlinewidth\":0,\"ticks\":\"\"}},\"colorscale\":{\"diverging\":[[0,\"#8e0152\"],[0.1,\"#c51b7d\"],[0.2,\"#de77ae\"],[0.3,\"#f1b6da\"],[0.4,\"#fde0ef\"],[0.5,\"#f7f7f7\"],[0.6,\"#e6f5d0\"],[0.7,\"#b8e186\"],[0.8,\"#7fbc41\"],[0.9,\"#4d9221\"],[1,\"#276419\"]],\"sequential\":[[0.0,\"#0d0887\"],[0.1111111111111111,\"#46039f\"],[0.2222222222222222,\"#7201a8\"],[0.3333333333333333,\"#9c179e\"],[0.4444444444444444,\"#bd3786\"],[0.5555555555555556,\"#d8576b\"],[0.6666666666666666,\"#ed7953\"],[0.7777777777777778,\"#fb9f3a\"],[0.8888888888888888,\"#fdca26\"],[1.0,\"#f0f921\"]],\"sequentialminus\":[[0.0,\"#0d0887\"],[0.1111111111111111,\"#46039f\"],[0.2222222222222222,\"#7201a8\"],[0.3333333333333333,\"#9c179e\"],[0.4444444444444444,\"#bd3786\"],[0.5555555555555556,\"#d8576b\"],[0.6666666666666666,\"#ed7953\"],[0.7777777777777778,\"#fb9f3a\"],[0.8888888888888888,\"#fdca26\"],[1.0,\"#f0f921\"]]},\"colorway\":[\"#636efa\",\"#EF553B\",\"#00cc96\",\"#ab63fa\",\"#FFA15A\",\"#19d3f3\",\"#FF6692\",\"#B6E880\",\"#FF97FF\",\"#FECB52\"],\"font\":{\"color\":\"#2a3f5f\"},\"geo\":{\"bgcolor\":\"white\",\"lakecolor\":\"white\",\"landcolor\":\"#E5ECF6\",\"showlakes\":true,\"showland\":true,\"subunitcolor\":\"white\"},\"hoverlabel\":{\"align\":\"left\"},\"hovermode\":\"closest\",\"mapbox\":{\"style\":\"light\"},\"paper_bgcolor\":\"white\",\"plot_bgcolor\":\"#E5ECF6\",\"polar\":{\"angularaxis\":{\"gridcolor\":\"white\",\"linecolor\":\"white\",\"ticks\":\"\"},\"bgcolor\":\"#E5ECF6\",\"radialaxis\":{\"gridcolor\":\"white\",\"linecolor\":\"white\",\"ticks\":\"\"}},\"scene\":{\"xaxis\":{\"backgroundcolor\":\"#E5ECF6\",\"gridcolor\":\"white\",\"gridwidth\":2,\"linecolor\":\"white\",\"showbackground\":true,\"ticks\":\"\",\"zerolinecolor\":\"white\"},\"yaxis\":{\"backgroundcolor\":\"#E5ECF6\",\"gridcolor\":\"white\",\"gridwidth\":2,\"linecolor\":\"white\",\"showbackground\":true,\"ticks\":\"\",\"zerolinecolor\":\"white\"},\"zaxis\":{\"backgroundcolor\":\"#E5ECF6\",\"gridcolor\":\"white\",\"gridwidth\":2,\"linecolor\":\"white\",\"showbackground\":true,\"ticks\":\"\",\"zerolinecolor\":\"white\"}},\"shapedefaults\":{\"line\":{\"color\":\"#2a3f5f\"}},\"ternary\":{\"aaxis\":{\"gridcolor\":\"white\",\"linecolor\":\"white\",\"ticks\":\"\"},\"baxis\":{\"gridcolor\":\"white\",\"linecolor\":\"white\",\"ticks\":\"\"},\"bgcolor\":\"#E5ECF6\",\"caxis\":{\"gridcolor\":\"white\",\"linecolor\":\"white\",\"ticks\":\"\"}},\"title\":{\"x\":0.05},\"xaxis\":{\"automargin\":true,\"gridcolor\":\"white\",\"linecolor\":\"white\",\"ticks\":\"\",\"title\":{\"standoff\":15},\"zerolinecolor\":\"white\",\"zerolinewidth\":2},\"yaxis\":{\"automargin\":true,\"gridcolor\":\"white\",\"linecolor\":\"white\",\"ticks\":\"\",\"title\":{\"standoff\":15},\"zerolinecolor\":\"white\",\"zerolinewidth\":2}}},\"xaxis\":{\"anchor\":\"y\",\"domain\":[0.0,1.0],\"title\":{\"text\":\"x\"}},\"yaxis\":{\"anchor\":\"x\",\"domain\":[0.0,1.0],\"title\":{\"text\":\"count\"}},\"legend\":{\"tracegroupgap\":0},\"margin\":{\"t\":60},\"barmode\":\"relative\"},                        {\"responsive\": true}                    ).then(function(){\n",
              "                            \n",
              "var gd = document.getElementById('7b9e0f5b-3de4-4777-9741-015273ed71b5');\n",
              "var x = new MutationObserver(function (mutations, observer) {{\n",
              "        var display = window.getComputedStyle(gd).display;\n",
              "        if (!display || display === 'none') {{\n",
              "            console.log([gd, 'removed!']);\n",
              "            Plotly.purge(gd);\n",
              "            observer.disconnect();\n",
              "        }}\n",
              "}});\n",
              "\n",
              "// Listen for the removal of the full notebook cells\n",
              "var notebookContainer = gd.closest('#notebook-container');\n",
              "if (notebookContainer) {{\n",
              "    x.observe(notebookContainer, {childList: true});\n",
              "}}\n",
              "\n",
              "// Listen for the clearing of the current output cell\n",
              "var outputEl = gd.closest('.output');\n",
              "if (outputEl) {{\n",
              "    x.observe(outputEl, {childList: true});\n",
              "}}\n",
              "\n",
              "                        })                };                            </script>        </div>\n",
              "</body>\n",
              "</html>"
            ]
          },
          "metadata": {}
        }
      ]
    },
    {
      "cell_type": "markdown",
      "source": [
        "amount of unique values in down column"
      ],
      "metadata": {
        "id": "WIrbDadQKHBS"
      }
    },
    {
      "cell_type": "code",
      "source": [
        "data.down.value_counts()"
      ],
      "metadata": {
        "colab": {
          "base_uri": "https://localhost:8080/"
        },
        "id": "BzILuACY8jfv",
        "outputId": "d6ab376d-2780-4da3-8a2f-7e0649c78800"
      },
      "execution_count": 100,
      "outputs": [
        {
          "output_type": "execute_result",
          "data": {
            "text/plain": [
              "1.0    3362\n",
              "2.0    2520\n",
              "3.0    1671\n",
              "4.0     911\n",
              "Name: down, dtype: int64"
            ]
          },
          "metadata": {},
          "execution_count": 100
        }
      ]
    },
    {
      "cell_type": "code",
      "source": [
        "corr = data.corr()"
      ],
      "metadata": {
        "id": "pO9c4pjM8wYJ"
      },
      "execution_count": 101,
      "outputs": []
    },
    {
      "cell_type": "markdown",
      "source": [
        "As per the correlation data, we can say that there is no relation between down and any of the other columns of data set. "
      ],
      "metadata": {
        "id": "ixJNqGAVKM5u"
      }
    },
    {
      "cell_type": "code",
      "source": [
        "corr['down']"
      ],
      "metadata": {
        "colab": {
          "base_uri": "https://localhost:8080/"
        },
        "id": "OsUyBooG9B5V",
        "outputId": "9dc0b69a-aec7-4c6c-fd2d-e741e02d5bae"
      },
      "execution_count": 102,
      "outputs": [
        {
          "output_type": "execute_result",
          "data": {
            "text/plain": [
              "GameID                         0.004744\n",
              "Drive                          0.009354\n",
              "qtr                            0.027271\n",
              "down                           1.000000\n",
              "TimeUnder                     -0.012793\n",
              "TimeSecs                      -0.030129\n",
              "PlayTimeDiff                   0.002395\n",
              "yrdln                         -0.024773\n",
              "yrdline100                    -0.050030\n",
              "ydstogo                       -0.267057\n",
              "ydsnet                        -0.007194\n",
              "GoalToGo                       0.004066\n",
              "FirstDown                      0.286358\n",
              "PlayAttempted                       NaN\n",
              "Yards.Gained                  -0.049660\n",
              "sp                             0.166677\n",
              "Touchdown                      0.001793\n",
              "Safety                         0.012112\n",
              "Onsidekick                          NaN\n",
              "PassAttempt                   -0.044027\n",
              "AirYards                      -0.042284\n",
              "YardsAfterCatch               -0.038656\n",
              "QBHit                          0.024073\n",
              "InterceptionThrown             0.007671\n",
              "RushAttempt                   -0.306077\n",
              "Reception                     -0.051746\n",
              "Fumble                        -0.002926\n",
              "Sack                           0.014423\n",
              "Challenge.Replay               0.013833\n",
              "Accepted.Penalty               0.046639\n",
              "Penalty.Yards                  0.027357\n",
              "PosTeamScore                   0.007693\n",
              "DefTeamScore                  -0.000369\n",
              "ScoreDiff                      0.007431\n",
              "AbsScoreDiff                   0.003370\n",
              "Timeout_Indicator              0.019976\n",
              "posteam_timeouts_pre          -0.029941\n",
              "HomeTimeouts_Remaining_Pre    -0.015416\n",
              "AwayTimeouts_Remaining_Pre    -0.026878\n",
              "HomeTimeouts_Remaining_Post   -0.015963\n",
              "AwayTimeouts_Remaining_Post   -0.027888\n",
              "No_Score_Prob                 -0.010394\n",
              "Opp_Field_Goal_Prob            0.253044\n",
              "Opp_Safety_Prob                0.076784\n",
              "Opp_Touchdown_Prob             0.231226\n",
              "Field_Goal_Prob                0.172458\n",
              "Safety_Prob                    0.238130\n",
              "Touchdown_Prob                -0.460886\n",
              "ExPoint_Prob                        NaN\n",
              "TwoPoint_Prob                       NaN\n",
              "ExpPts                        -0.341398\n",
              "EPA                            0.006853\n",
              "Home_WP_pre                    0.000294\n",
              "Away_WP_pre                   -0.000294\n",
              "Home_WP_post                   0.000601\n",
              "Away_WP_post                  -0.000601\n",
              "Win_Prob                      -0.055158\n",
              "WPA                            0.080729\n",
              "Season                              NaN\n",
              "Name: down, dtype: float64"
            ]
          },
          "metadata": {},
          "execution_count": 102
        }
      ]
    },
    {
      "cell_type": "code",
      "source": [
        "data.drop(['down'], axis = 1, inplace = True)"
      ],
      "metadata": {
        "id": "pBjtRAnZ9Ktr"
      },
      "execution_count": 103,
      "outputs": []
    },
    {
      "cell_type": "code",
      "source": [
        "null_rows = sum([True for inde, row in data.iterrows() if any(row.isnull())])\n",
        "(null_rows/data.shape[0]) *100"
      ],
      "metadata": {
        "colab": {
          "base_uri": "https://localhost:8080/"
        },
        "id": "R4TPHLDh9ovV",
        "outputId": "c116bd6c-75c7-47d5-cc04-002836332799"
      },
      "execution_count": 104,
      "outputs": [
        {
          "output_type": "execute_result",
          "data": {
            "text/plain": [
              "13.021302130213023"
            ]
          },
          "metadata": {},
          "execution_count": 104
        }
      ]
    },
    {
      "cell_type": "markdown",
      "source": [
        "After removing down column, there is 13% rows which has missign value, which i am goin to remove. "
      ],
      "metadata": {
        "id": "RYYjqqhhKbrX"
      }
    },
    {
      "cell_type": "code",
      "source": [
        "null_rows"
      ],
      "metadata": {
        "colab": {
          "base_uri": "https://localhost:8080/"
        },
        "id": "agtYk83h91C_",
        "outputId": "ad9eaa59-8929-4f64-8dcc-a457c663651d"
      },
      "execution_count": 105,
      "outputs": [
        {
          "output_type": "execute_result",
          "data": {
            "text/plain": [
              "1302"
            ]
          },
          "metadata": {},
          "execution_count": 105
        }
      ]
    },
    {
      "cell_type": "code",
      "source": [
        "data.dropna(inplace=True)\n",
        "data.reset_index(drop=True, inplace=True)"
      ],
      "metadata": {
        "id": "jagE-RMv93_2"
      },
      "execution_count": 106,
      "outputs": []
    },
    {
      "cell_type": "code",
      "source": [
        "find_missing_data(data)"
      ],
      "metadata": {
        "colab": {
          "base_uri": "https://localhost:8080/"
        },
        "id": "gdAV_aOT-Kyj",
        "outputId": "cbba4fca-3a32-4a41-f2cd-21db4ca64f9c"
      },
      "execution_count": 107,
      "outputs": [
        {
          "output_type": "execute_result",
          "data": {
            "text/plain": [
              "Series([], dtype: float64)"
            ]
          },
          "metadata": {},
          "execution_count": 107
        }
      ]
    },
    {
      "cell_type": "code",
      "source": [
        "data.tail()"
      ],
      "metadata": {
        "colab": {
          "base_uri": "https://localhost:8080/",
          "height": 634
        },
        "id": "58tvYYsO-V2n",
        "outputId": "1b6a9723-7cbf-4080-f0a7-559458868235"
      },
      "execution_count": 108,
      "outputs": [
        {
          "output_type": "execute_result",
          "data": {
            "text/html": [
              "\n",
              "  <div id=\"df-8a94b2ca-5522-4dd9-9d31-2d7764f44704\">\n",
              "    <div class=\"colab-df-container\">\n",
              "      <div>\n",
              "<style scoped>\n",
              "    .dataframe tbody tr th:only-of-type {\n",
              "        vertical-align: middle;\n",
              "    }\n",
              "\n",
              "    .dataframe tbody tr th {\n",
              "        vertical-align: top;\n",
              "    }\n",
              "\n",
              "    .dataframe thead th {\n",
              "        text-align: right;\n",
              "    }\n",
              "</style>\n",
              "<table border=\"1\" class=\"dataframe\">\n",
              "  <thead>\n",
              "    <tr style=\"text-align: right;\">\n",
              "      <th></th>\n",
              "      <th>Date</th>\n",
              "      <th>GameID</th>\n",
              "      <th>Drive</th>\n",
              "      <th>qtr</th>\n",
              "      <th>time</th>\n",
              "      <th>TimeUnder</th>\n",
              "      <th>TimeSecs</th>\n",
              "      <th>PlayTimeDiff</th>\n",
              "      <th>SideofField</th>\n",
              "      <th>yrdln</th>\n",
              "      <th>yrdline100</th>\n",
              "      <th>ydstogo</th>\n",
              "      <th>ydsnet</th>\n",
              "      <th>GoalToGo</th>\n",
              "      <th>FirstDown</th>\n",
              "      <th>posteam</th>\n",
              "      <th>DefensiveTeam</th>\n",
              "      <th>desc</th>\n",
              "      <th>PlayAttempted</th>\n",
              "      <th>Yards.Gained</th>\n",
              "      <th>sp</th>\n",
              "      <th>Touchdown</th>\n",
              "      <th>Safety</th>\n",
              "      <th>Onsidekick</th>\n",
              "      <th>PlayType</th>\n",
              "      <th>Passer_ID</th>\n",
              "      <th>PassAttempt</th>\n",
              "      <th>AirYards</th>\n",
              "      <th>YardsAfterCatch</th>\n",
              "      <th>QBHit</th>\n",
              "      <th>InterceptionThrown</th>\n",
              "      <th>Rusher_ID</th>\n",
              "      <th>RushAttempt</th>\n",
              "      <th>Receiver_ID</th>\n",
              "      <th>Reception</th>\n",
              "      <th>Tackler1</th>\n",
              "      <th>Fumble</th>\n",
              "      <th>Sack</th>\n",
              "      <th>Challenge.Replay</th>\n",
              "      <th>Accepted.Penalty</th>\n",
              "      <th>Penalty.Yards</th>\n",
              "      <th>PosTeamScore</th>\n",
              "      <th>DefTeamScore</th>\n",
              "      <th>ScoreDiff</th>\n",
              "      <th>AbsScoreDiff</th>\n",
              "      <th>HomeTeam</th>\n",
              "      <th>AwayTeam</th>\n",
              "      <th>Timeout_Indicator</th>\n",
              "      <th>Timeout_Team</th>\n",
              "      <th>posteam_timeouts_pre</th>\n",
              "      <th>HomeTimeouts_Remaining_Pre</th>\n",
              "      <th>AwayTimeouts_Remaining_Pre</th>\n",
              "      <th>HomeTimeouts_Remaining_Post</th>\n",
              "      <th>AwayTimeouts_Remaining_Post</th>\n",
              "      <th>No_Score_Prob</th>\n",
              "      <th>Opp_Field_Goal_Prob</th>\n",
              "      <th>Opp_Safety_Prob</th>\n",
              "      <th>Opp_Touchdown_Prob</th>\n",
              "      <th>Field_Goal_Prob</th>\n",
              "      <th>Safety_Prob</th>\n",
              "      <th>Touchdown_Prob</th>\n",
              "      <th>ExPoint_Prob</th>\n",
              "      <th>TwoPoint_Prob</th>\n",
              "      <th>ExpPts</th>\n",
              "      <th>EPA</th>\n",
              "      <th>Home_WP_pre</th>\n",
              "      <th>Away_WP_pre</th>\n",
              "      <th>Home_WP_post</th>\n",
              "      <th>Away_WP_post</th>\n",
              "      <th>Win_Prob</th>\n",
              "      <th>WPA</th>\n",
              "      <th>Season</th>\n",
              "    </tr>\n",
              "  </thead>\n",
              "  <tbody>\n",
              "    <tr>\n",
              "      <th>8692</th>\n",
              "      <td>04-10-2009</td>\n",
              "      <td>2009100409</td>\n",
              "      <td>6</td>\n",
              "      <td>2</td>\n",
              "      <td>12:53</td>\n",
              "      <td>13</td>\n",
              "      <td>2573.0</td>\n",
              "      <td>33.0</td>\n",
              "      <td>NO</td>\n",
              "      <td>47.0</td>\n",
              "      <td>53.0</td>\n",
              "      <td>10</td>\n",
              "      <td>12</td>\n",
              "      <td>0.0</td>\n",
              "      <td>0.0</td>\n",
              "      <td>NO</td>\n",
              "      <td>NYJ</td>\n",
              "      <td>(12:53) D.Brees pass incomplete deep left to R...</td>\n",
              "      <td>1</td>\n",
              "      <td>0</td>\n",
              "      <td>0</td>\n",
              "      <td>0</td>\n",
              "      <td>0</td>\n",
              "      <td>0</td>\n",
              "      <td>Pass</td>\n",
              "      <td>00-0020531</td>\n",
              "      <td>1</td>\n",
              "      <td>48</td>\n",
              "      <td>0</td>\n",
              "      <td>0</td>\n",
              "      <td>0</td>\n",
              "      <td>None</td>\n",
              "      <td>0</td>\n",
              "      <td>00-0025414</td>\n",
              "      <td>0</td>\n",
              "      <td>L.Fletcher</td>\n",
              "      <td>0</td>\n",
              "      <td>0</td>\n",
              "      <td>0</td>\n",
              "      <td>0</td>\n",
              "      <td>0</td>\n",
              "      <td>9.0</td>\n",
              "      <td>0.0</td>\n",
              "      <td>9.0</td>\n",
              "      <td>9.0</td>\n",
              "      <td>NO</td>\n",
              "      <td>NYJ</td>\n",
              "      <td>0</td>\n",
              "      <td>None</td>\n",
              "      <td>2</td>\n",
              "      <td>2</td>\n",
              "      <td>2</td>\n",
              "      <td>2</td>\n",
              "      <td>2</td>\n",
              "      <td>0.048297</td>\n",
              "      <td>0.085250</td>\n",
              "      <td>0.000607</td>\n",
              "      <td>0.127743</td>\n",
              "      <td>0.296837</td>\n",
              "      <td>0.003198</td>\n",
              "      <td>0.438068</td>\n",
              "      <td>0.0</td>\n",
              "      <td>0.0</td>\n",
              "      <td>2.812215</td>\n",
              "      <td>-0.591520</td>\n",
              "      <td>0.835317</td>\n",
              "      <td>0.164683</td>\n",
              "      <td>0.823429</td>\n",
              "      <td>0.176571</td>\n",
              "      <td>0.835317</td>\n",
              "      <td>-0.011888</td>\n",
              "      <td>2009</td>\n",
              "    </tr>\n",
              "    <tr>\n",
              "      <th>8693</th>\n",
              "      <td>04-10-2009</td>\n",
              "      <td>2009100409</td>\n",
              "      <td>6</td>\n",
              "      <td>2</td>\n",
              "      <td>12:45</td>\n",
              "      <td>13</td>\n",
              "      <td>2565.0</td>\n",
              "      <td>8.0</td>\n",
              "      <td>NO</td>\n",
              "      <td>47.0</td>\n",
              "      <td>53.0</td>\n",
              "      <td>10</td>\n",
              "      <td>28</td>\n",
              "      <td>0.0</td>\n",
              "      <td>1.0</td>\n",
              "      <td>NO</td>\n",
              "      <td>NYJ</td>\n",
              "      <td>(12:45) (Shotgun) D.Brees pass short right to ...</td>\n",
              "      <td>1</td>\n",
              "      <td>16</td>\n",
              "      <td>0</td>\n",
              "      <td>0</td>\n",
              "      <td>0</td>\n",
              "      <td>0</td>\n",
              "      <td>Pass</td>\n",
              "      <td>00-0020531</td>\n",
              "      <td>1</td>\n",
              "      <td>11</td>\n",
              "      <td>5</td>\n",
              "      <td>0</td>\n",
              "      <td>0</td>\n",
              "      <td>None</td>\n",
              "      <td>0</td>\n",
              "      <td>00-0024466</td>\n",
              "      <td>1</td>\n",
              "      <td>B.Scott</td>\n",
              "      <td>0</td>\n",
              "      <td>0</td>\n",
              "      <td>0</td>\n",
              "      <td>0</td>\n",
              "      <td>0</td>\n",
              "      <td>9.0</td>\n",
              "      <td>0.0</td>\n",
              "      <td>9.0</td>\n",
              "      <td>9.0</td>\n",
              "      <td>NO</td>\n",
              "      <td>NYJ</td>\n",
              "      <td>0</td>\n",
              "      <td>None</td>\n",
              "      <td>2</td>\n",
              "      <td>2</td>\n",
              "      <td>2</td>\n",
              "      <td>2</td>\n",
              "      <td>2</td>\n",
              "      <td>0.053533</td>\n",
              "      <td>0.101504</td>\n",
              "      <td>0.001047</td>\n",
              "      <td>0.153665</td>\n",
              "      <td>0.302804</td>\n",
              "      <td>0.003517</td>\n",
              "      <td>0.383930</td>\n",
              "      <td>0.0</td>\n",
              "      <td>0.0</td>\n",
              "      <td>2.220695</td>\n",
              "      <td>1.517868</td>\n",
              "      <td>0.823429</td>\n",
              "      <td>0.176571</td>\n",
              "      <td>0.853452</td>\n",
              "      <td>0.146548</td>\n",
              "      <td>0.823429</td>\n",
              "      <td>0.030023</td>\n",
              "      <td>2009</td>\n",
              "    </tr>\n",
              "    <tr>\n",
              "      <th>8694</th>\n",
              "      <td>04-10-2009</td>\n",
              "      <td>2009100409</td>\n",
              "      <td>6</td>\n",
              "      <td>2</td>\n",
              "      <td>12:07</td>\n",
              "      <td>13</td>\n",
              "      <td>2527.0</td>\n",
              "      <td>38.0</td>\n",
              "      <td>NYJ</td>\n",
              "      <td>37.0</td>\n",
              "      <td>37.0</td>\n",
              "      <td>10</td>\n",
              "      <td>28</td>\n",
              "      <td>0.0</td>\n",
              "      <td>0.0</td>\n",
              "      <td>NO</td>\n",
              "      <td>NYJ</td>\n",
              "      <td>(12:07) R.Bush left end to NYJ 37 for no gain ...</td>\n",
              "      <td>1</td>\n",
              "      <td>0</td>\n",
              "      <td>0</td>\n",
              "      <td>0</td>\n",
              "      <td>0</td>\n",
              "      <td>0</td>\n",
              "      <td>Run</td>\n",
              "      <td>None</td>\n",
              "      <td>0</td>\n",
              "      <td>0</td>\n",
              "      <td>0</td>\n",
              "      <td>0</td>\n",
              "      <td>0</td>\n",
              "      <td>00-0024217</td>\n",
              "      <td>1</td>\n",
              "      <td>None</td>\n",
              "      <td>0</td>\n",
              "      <td>D.Revis</td>\n",
              "      <td>0</td>\n",
              "      <td>0</td>\n",
              "      <td>0</td>\n",
              "      <td>0</td>\n",
              "      <td>0</td>\n",
              "      <td>9.0</td>\n",
              "      <td>0.0</td>\n",
              "      <td>9.0</td>\n",
              "      <td>9.0</td>\n",
              "      <td>NO</td>\n",
              "      <td>NYJ</td>\n",
              "      <td>0</td>\n",
              "      <td>None</td>\n",
              "      <td>2</td>\n",
              "      <td>2</td>\n",
              "      <td>2</td>\n",
              "      <td>2</td>\n",
              "      <td>2</td>\n",
              "      <td>0.037144</td>\n",
              "      <td>0.053036</td>\n",
              "      <td>0.000144</td>\n",
              "      <td>0.079147</td>\n",
              "      <td>0.336810</td>\n",
              "      <td>0.002897</td>\n",
              "      <td>0.490823</td>\n",
              "      <td>0.0</td>\n",
              "      <td>0.0</td>\n",
              "      <td>3.738563</td>\n",
              "      <td>-0.503149</td>\n",
              "      <td>0.853452</td>\n",
              "      <td>0.146548</td>\n",
              "      <td>0.845904</td>\n",
              "      <td>0.154096</td>\n",
              "      <td>0.853452</td>\n",
              "      <td>-0.007547</td>\n",
              "      <td>2009</td>\n",
              "    </tr>\n",
              "    <tr>\n",
              "      <th>8695</th>\n",
              "      <td>04-10-2009</td>\n",
              "      <td>2009100409</td>\n",
              "      <td>6</td>\n",
              "      <td>2</td>\n",
              "      <td>11:24</td>\n",
              "      <td>12</td>\n",
              "      <td>2484.0</td>\n",
              "      <td>43.0</td>\n",
              "      <td>NYJ</td>\n",
              "      <td>37.0</td>\n",
              "      <td>37.0</td>\n",
              "      <td>10</td>\n",
              "      <td>64</td>\n",
              "      <td>0.0</td>\n",
              "      <td>1.0</td>\n",
              "      <td>NO</td>\n",
              "      <td>NYJ</td>\n",
              "      <td>(11:24) (Shotgun) D.Brees pass short left to P...</td>\n",
              "      <td>1</td>\n",
              "      <td>36</td>\n",
              "      <td>0</td>\n",
              "      <td>0</td>\n",
              "      <td>0</td>\n",
              "      <td>0</td>\n",
              "      <td>Pass</td>\n",
              "      <td>00-0020531</td>\n",
              "      <td>1</td>\n",
              "      <td>-3</td>\n",
              "      <td>39</td>\n",
              "      <td>0</td>\n",
              "      <td>0</td>\n",
              "      <td>None</td>\n",
              "      <td>0</td>\n",
              "      <td>00-0024813</td>\n",
              "      <td>1</td>\n",
              "      <td>D.Harris</td>\n",
              "      <td>0</td>\n",
              "      <td>0</td>\n",
              "      <td>0</td>\n",
              "      <td>0</td>\n",
              "      <td>0</td>\n",
              "      <td>9.0</td>\n",
              "      <td>0.0</td>\n",
              "      <td>9.0</td>\n",
              "      <td>9.0</td>\n",
              "      <td>NO</td>\n",
              "      <td>NYJ</td>\n",
              "      <td>0</td>\n",
              "      <td>None</td>\n",
              "      <td>2</td>\n",
              "      <td>2</td>\n",
              "      <td>2</td>\n",
              "      <td>2</td>\n",
              "      <td>2</td>\n",
              "      <td>0.047842</td>\n",
              "      <td>0.062721</td>\n",
              "      <td>0.000299</td>\n",
              "      <td>0.094996</td>\n",
              "      <td>0.363557</td>\n",
              "      <td>0.003125</td>\n",
              "      <td>0.427460</td>\n",
              "      <td>0.0</td>\n",
              "      <td>0.0</td>\n",
              "      <td>3.235414</td>\n",
              "      <td>3.243609</td>\n",
              "      <td>0.845904</td>\n",
              "      <td>0.154096</td>\n",
              "      <td>0.897306</td>\n",
              "      <td>0.102694</td>\n",
              "      <td>0.845904</td>\n",
              "      <td>0.051401</td>\n",
              "      <td>2009</td>\n",
              "    </tr>\n",
              "    <tr>\n",
              "      <th>8696</th>\n",
              "      <td>04-10-2009</td>\n",
              "      <td>2009100409</td>\n",
              "      <td>6</td>\n",
              "      <td>2</td>\n",
              "      <td>11:00</td>\n",
              "      <td>11</td>\n",
              "      <td>2460.0</td>\n",
              "      <td>24.0</td>\n",
              "      <td>NYJ</td>\n",
              "      <td>1.0</td>\n",
              "      <td>1.0</td>\n",
              "      <td>1</td>\n",
              "      <td>63</td>\n",
              "      <td>1.0</td>\n",
              "      <td>0.0</td>\n",
              "      <td>NO</td>\n",
              "      <td>NYJ</td>\n",
              "      <td>(11:00) P.Thomas left guard to NYJ 2 for -1 ya...</td>\n",
              "      <td>1</td>\n",
              "      <td>-1</td>\n",
              "      <td>0</td>\n",
              "      <td>0</td>\n",
              "      <td>0</td>\n",
              "      <td>0</td>\n",
              "      <td>Run</td>\n",
              "      <td>None</td>\n",
              "      <td>0</td>\n",
              "      <td>0</td>\n",
              "      <td>0</td>\n",
              "      <td>0</td>\n",
              "      <td>0</td>\n",
              "      <td>00-0024813</td>\n",
              "      <td>1</td>\n",
              "      <td>None</td>\n",
              "      <td>0</td>\n",
              "      <td>B.Scott</td>\n",
              "      <td>0</td>\n",
              "      <td>0</td>\n",
              "      <td>0</td>\n",
              "      <td>0</td>\n",
              "      <td>0</td>\n",
              "      <td>9.0</td>\n",
              "      <td>0.0</td>\n",
              "      <td>9.0</td>\n",
              "      <td>9.0</td>\n",
              "      <td>NO</td>\n",
              "      <td>NYJ</td>\n",
              "      <td>0</td>\n",
              "      <td>None</td>\n",
              "      <td>2</td>\n",
              "      <td>2</td>\n",
              "      <td>2</td>\n",
              "      <td>2</td>\n",
              "      <td>2</td>\n",
              "      <td>0.006601</td>\n",
              "      <td>0.006991</td>\n",
              "      <td>0.000067</td>\n",
              "      <td>0.009501</td>\n",
              "      <td>0.065039</td>\n",
              "      <td>0.002217</td>\n",
              "      <td>0.909584</td>\n",
              "      <td>0.0</td>\n",
              "      <td>0.0</td>\n",
              "      <td>6.479022</td>\n",
              "      <td>-0.673173</td>\n",
              "      <td>0.897306</td>\n",
              "      <td>0.102694</td>\n",
              "      <td>0.889188</td>\n",
              "      <td>0.110812</td>\n",
              "      <td>0.897306</td>\n",
              "      <td>-0.008118</td>\n",
              "      <td>2009</td>\n",
              "    </tr>\n",
              "  </tbody>\n",
              "</table>\n",
              "</div>\n",
              "      <button class=\"colab-df-convert\" onclick=\"convertToInteractive('df-8a94b2ca-5522-4dd9-9d31-2d7764f44704')\"\n",
              "              title=\"Convert this dataframe to an interactive table.\"\n",
              "              style=\"display:none;\">\n",
              "        \n",
              "  <svg xmlns=\"http://www.w3.org/2000/svg\" height=\"24px\"viewBox=\"0 0 24 24\"\n",
              "       width=\"24px\">\n",
              "    <path d=\"M0 0h24v24H0V0z\" fill=\"none\"/>\n",
              "    <path d=\"M18.56 5.44l.94 2.06.94-2.06 2.06-.94-2.06-.94-.94-2.06-.94 2.06-2.06.94zm-11 1L8.5 8.5l.94-2.06 2.06-.94-2.06-.94L8.5 2.5l-.94 2.06-2.06.94zm10 10l.94 2.06.94-2.06 2.06-.94-2.06-.94-.94-2.06-.94 2.06-2.06.94z\"/><path d=\"M17.41 7.96l-1.37-1.37c-.4-.4-.92-.59-1.43-.59-.52 0-1.04.2-1.43.59L10.3 9.45l-7.72 7.72c-.78.78-.78 2.05 0 2.83L4 21.41c.39.39.9.59 1.41.59.51 0 1.02-.2 1.41-.59l7.78-7.78 2.81-2.81c.8-.78.8-2.07 0-2.86zM5.41 20L4 18.59l7.72-7.72 1.47 1.35L5.41 20z\"/>\n",
              "  </svg>\n",
              "      </button>\n",
              "      \n",
              "  <style>\n",
              "    .colab-df-container {\n",
              "      display:flex;\n",
              "      flex-wrap:wrap;\n",
              "      gap: 12px;\n",
              "    }\n",
              "\n",
              "    .colab-df-convert {\n",
              "      background-color: #E8F0FE;\n",
              "      border: none;\n",
              "      border-radius: 50%;\n",
              "      cursor: pointer;\n",
              "      display: none;\n",
              "      fill: #1967D2;\n",
              "      height: 32px;\n",
              "      padding: 0 0 0 0;\n",
              "      width: 32px;\n",
              "    }\n",
              "\n",
              "    .colab-df-convert:hover {\n",
              "      background-color: #E2EBFA;\n",
              "      box-shadow: 0px 1px 2px rgba(60, 64, 67, 0.3), 0px 1px 3px 1px rgba(60, 64, 67, 0.15);\n",
              "      fill: #174EA6;\n",
              "    }\n",
              "\n",
              "    [theme=dark] .colab-df-convert {\n",
              "      background-color: #3B4455;\n",
              "      fill: #D2E3FC;\n",
              "    }\n",
              "\n",
              "    [theme=dark] .colab-df-convert:hover {\n",
              "      background-color: #434B5C;\n",
              "      box-shadow: 0px 1px 3px 1px rgba(0, 0, 0, 0.15);\n",
              "      filter: drop-shadow(0px 1px 2px rgba(0, 0, 0, 0.3));\n",
              "      fill: #FFFFFF;\n",
              "    }\n",
              "  </style>\n",
              "\n",
              "      <script>\n",
              "        const buttonEl =\n",
              "          document.querySelector('#df-8a94b2ca-5522-4dd9-9d31-2d7764f44704 button.colab-df-convert');\n",
              "        buttonEl.style.display =\n",
              "          google.colab.kernel.accessAllowed ? 'block' : 'none';\n",
              "\n",
              "        async function convertToInteractive(key) {\n",
              "          const element = document.querySelector('#df-8a94b2ca-5522-4dd9-9d31-2d7764f44704');\n",
              "          const dataTable =\n",
              "            await google.colab.kernel.invokeFunction('convertToInteractive',\n",
              "                                                     [key], {});\n",
              "          if (!dataTable) return;\n",
              "\n",
              "          const docLinkHtml = 'Like what you see? Visit the ' +\n",
              "            '<a target=\"_blank\" href=https://colab.research.google.com/notebooks/data_table.ipynb>data table notebook</a>'\n",
              "            + ' to learn more about interactive tables.';\n",
              "          element.innerHTML = '';\n",
              "          dataTable['output_type'] = 'display_data';\n",
              "          await google.colab.output.renderOutput(dataTable, element);\n",
              "          const docLink = document.createElement('div');\n",
              "          docLink.innerHTML = docLinkHtml;\n",
              "          element.appendChild(docLink);\n",
              "        }\n",
              "      </script>\n",
              "    </div>\n",
              "  </div>\n",
              "  "
            ],
            "text/plain": [
              "            Date      GameID  Drive  ...  Win_Prob       WPA  Season\n",
              "8692  04-10-2009  2009100409      6  ...  0.835317 -0.011888    2009\n",
              "8693  04-10-2009  2009100409      6  ...  0.823429  0.030023    2009\n",
              "8694  04-10-2009  2009100409      6  ...  0.853452 -0.007547    2009\n",
              "8695  04-10-2009  2009100409      6  ...  0.845904  0.051401    2009\n",
              "8696  04-10-2009  2009100409      6  ...  0.897306 -0.008118    2009\n",
              "\n",
              "[5 rows x 72 columns]"
            ]
          },
          "metadata": {},
          "execution_count": 108
        }
      ]
    },
    {
      "cell_type": "code",
      "source": [
        "data.shape"
      ],
      "metadata": {
        "colab": {
          "base_uri": "https://localhost:8080/"
        },
        "id": "ORqKxq8n-gKY",
        "outputId": "79b31e0c-ce65-4012-9202-d7de1fbb5b06"
      },
      "execution_count": 109,
      "outputs": [
        {
          "output_type": "execute_result",
          "data": {
            "text/plain": [
              "(8697, 72)"
            ]
          },
          "metadata": {},
          "execution_count": 109
        }
      ]
    },
    {
      "cell_type": "code",
      "source": [
        "100-((8697*72)/(9999*102)) * 100 "
      ],
      "metadata": {
        "colab": {
          "base_uri": "https://localhost:8080/"
        },
        "id": "Xejx_REc-qq-",
        "outputId": "7464a8bc-f5ef-43b8-87be-b8d20b6e2ce7"
      },
      "execution_count": 110,
      "outputs": [
        {
          "output_type": "execute_result",
          "data": {
            "text/plain": [
              "38.60327209191507"
            ]
          },
          "metadata": {},
          "execution_count": 110
        }
      ]
    },
    {
      "cell_type": "markdown",
      "source": [
        "38% data loss"
      ],
      "metadata": {
        "id": "AB1iDcQALQg3"
      }
    },
    {
      "cell_type": "markdown",
      "source": [
        "Initially we have 9999 rows and 102 columns, After removing null values we have 8697 rows and 72 columns. "
      ],
      "metadata": {
        "id": "kzImb2VxKxKz"
      }
    },
    {
      "cell_type": "code",
      "source": [
        ""
      ],
      "metadata": {
        "id": "HwQLeYDYK8Wk"
      },
      "execution_count": null,
      "outputs": []
    }
  ]
}