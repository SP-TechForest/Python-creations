{
  "nbformat": 4,
  "nbformat_minor": 0,
  "metadata": {
    "colab": {
      "name": "Linear_regression_tensorflow.ipynb",
      "provenance": [],
      "collapsed_sections": [],
      "authorship_tag": "ABX9TyMP/QdkKRSRYINo0re+/pOO",
      "include_colab_link": true
    },
    "kernelspec": {
      "name": "python3",
      "display_name": "Python 3"
    },
    "language_info": {
      "name": "python"
    }
  },
  "cells": [
    {
      "cell_type": "markdown",
      "metadata": {
        "id": "view-in-github",
        "colab_type": "text"
      },
      "source": [
        "<a href=\"https://colab.research.google.com/github/SP-TechForest/Python-creations/blob/main/Linear_regression_tensorflow.ipynb\" target=\"_parent\"><img src=\"https://colab.research.google.com/assets/colab-badge.svg\" alt=\"Open In Colab\"/></a>"
      ]
    },
    {
      "cell_type": "code",
      "execution_count": 4,
      "metadata": {
        "id": "4HeZHa_UUmik"
      },
      "outputs": [],
      "source": [
        "import tensorflow as tf\n",
        "import numpy as np \n",
        "import matplotlib.pyplot as plt\n",
        "import pandas as pd "
      ]
    },
    {
      "cell_type": "code",
      "source": [
        "Data = pd.read_csv(\"https://raw.githubusercontent.com/stedy/Machine-Learning-with-R-datasets/master/insurance.csv\")"
      ],
      "metadata": {
        "id": "YPVfv_dWU0Pi"
      },
      "execution_count": 5,
      "outputs": []
    },
    {
      "cell_type": "code",
      "source": [
        "Data.columns"
      ],
      "metadata": {
        "colab": {
          "base_uri": "https://localhost:8080/"
        },
        "id": "yzOFXQoLz5mX",
        "outputId": "6bdfdadf-94fe-444f-e378-9e915442c34d"
      },
      "execution_count": 6,
      "outputs": [
        {
          "output_type": "execute_result",
          "data": {
            "text/plain": [
              "Index(['age', 'sex', 'bmi', 'children', 'smoker', 'region', 'charges'], dtype='object')"
            ]
          },
          "metadata": {},
          "execution_count": 6
        }
      ]
    },
    {
      "cell_type": "code",
      "source": [
        "Encoded_data = pd.get_dummies(Data)"
      ],
      "metadata": {
        "id": "4a388G0NE8I6"
      },
      "execution_count": 7,
      "outputs": []
    },
    {
      "cell_type": "code",
      "source": [
        "Encoded_data.head()"
      ],
      "metadata": {
        "colab": {
          "base_uri": "https://localhost:8080/",
          "height": 270
        },
        "id": "Ba1jslOPFPvj",
        "outputId": "40c90f89-713a-408b-9557-22e3aa56cf19"
      },
      "execution_count": 8,
      "outputs": [
        {
          "output_type": "execute_result",
          "data": {
            "text/html": [
              "\n",
              "  <div id=\"df-1a5cfde9-f484-4661-86ff-9a9e24d5388b\">\n",
              "    <div class=\"colab-df-container\">\n",
              "      <div>\n",
              "<style scoped>\n",
              "    .dataframe tbody tr th:only-of-type {\n",
              "        vertical-align: middle;\n",
              "    }\n",
              "\n",
              "    .dataframe tbody tr th {\n",
              "        vertical-align: top;\n",
              "    }\n",
              "\n",
              "    .dataframe thead th {\n",
              "        text-align: right;\n",
              "    }\n",
              "</style>\n",
              "<table border=\"1\" class=\"dataframe\">\n",
              "  <thead>\n",
              "    <tr style=\"text-align: right;\">\n",
              "      <th></th>\n",
              "      <th>age</th>\n",
              "      <th>bmi</th>\n",
              "      <th>children</th>\n",
              "      <th>charges</th>\n",
              "      <th>sex_female</th>\n",
              "      <th>sex_male</th>\n",
              "      <th>smoker_no</th>\n",
              "      <th>smoker_yes</th>\n",
              "      <th>region_northeast</th>\n",
              "      <th>region_northwest</th>\n",
              "      <th>region_southeast</th>\n",
              "      <th>region_southwest</th>\n",
              "    </tr>\n",
              "  </thead>\n",
              "  <tbody>\n",
              "    <tr>\n",
              "      <th>0</th>\n",
              "      <td>19</td>\n",
              "      <td>27.900</td>\n",
              "      <td>0</td>\n",
              "      <td>16884.92400</td>\n",
              "      <td>1</td>\n",
              "      <td>0</td>\n",
              "      <td>0</td>\n",
              "      <td>1</td>\n",
              "      <td>0</td>\n",
              "      <td>0</td>\n",
              "      <td>0</td>\n",
              "      <td>1</td>\n",
              "    </tr>\n",
              "    <tr>\n",
              "      <th>1</th>\n",
              "      <td>18</td>\n",
              "      <td>33.770</td>\n",
              "      <td>1</td>\n",
              "      <td>1725.55230</td>\n",
              "      <td>0</td>\n",
              "      <td>1</td>\n",
              "      <td>1</td>\n",
              "      <td>0</td>\n",
              "      <td>0</td>\n",
              "      <td>0</td>\n",
              "      <td>1</td>\n",
              "      <td>0</td>\n",
              "    </tr>\n",
              "    <tr>\n",
              "      <th>2</th>\n",
              "      <td>28</td>\n",
              "      <td>33.000</td>\n",
              "      <td>3</td>\n",
              "      <td>4449.46200</td>\n",
              "      <td>0</td>\n",
              "      <td>1</td>\n",
              "      <td>1</td>\n",
              "      <td>0</td>\n",
              "      <td>0</td>\n",
              "      <td>0</td>\n",
              "      <td>1</td>\n",
              "      <td>0</td>\n",
              "    </tr>\n",
              "    <tr>\n",
              "      <th>3</th>\n",
              "      <td>33</td>\n",
              "      <td>22.705</td>\n",
              "      <td>0</td>\n",
              "      <td>21984.47061</td>\n",
              "      <td>0</td>\n",
              "      <td>1</td>\n",
              "      <td>1</td>\n",
              "      <td>0</td>\n",
              "      <td>0</td>\n",
              "      <td>1</td>\n",
              "      <td>0</td>\n",
              "      <td>0</td>\n",
              "    </tr>\n",
              "    <tr>\n",
              "      <th>4</th>\n",
              "      <td>32</td>\n",
              "      <td>28.880</td>\n",
              "      <td>0</td>\n",
              "      <td>3866.85520</td>\n",
              "      <td>0</td>\n",
              "      <td>1</td>\n",
              "      <td>1</td>\n",
              "      <td>0</td>\n",
              "      <td>0</td>\n",
              "      <td>1</td>\n",
              "      <td>0</td>\n",
              "      <td>0</td>\n",
              "    </tr>\n",
              "  </tbody>\n",
              "</table>\n",
              "</div>\n",
              "      <button class=\"colab-df-convert\" onclick=\"convertToInteractive('df-1a5cfde9-f484-4661-86ff-9a9e24d5388b')\"\n",
              "              title=\"Convert this dataframe to an interactive table.\"\n",
              "              style=\"display:none;\">\n",
              "        \n",
              "  <svg xmlns=\"http://www.w3.org/2000/svg\" height=\"24px\"viewBox=\"0 0 24 24\"\n",
              "       width=\"24px\">\n",
              "    <path d=\"M0 0h24v24H0V0z\" fill=\"none\"/>\n",
              "    <path d=\"M18.56 5.44l.94 2.06.94-2.06 2.06-.94-2.06-.94-.94-2.06-.94 2.06-2.06.94zm-11 1L8.5 8.5l.94-2.06 2.06-.94-2.06-.94L8.5 2.5l-.94 2.06-2.06.94zm10 10l.94 2.06.94-2.06 2.06-.94-2.06-.94-.94-2.06-.94 2.06-2.06.94z\"/><path d=\"M17.41 7.96l-1.37-1.37c-.4-.4-.92-.59-1.43-.59-.52 0-1.04.2-1.43.59L10.3 9.45l-7.72 7.72c-.78.78-.78 2.05 0 2.83L4 21.41c.39.39.9.59 1.41.59.51 0 1.02-.2 1.41-.59l7.78-7.78 2.81-2.81c.8-.78.8-2.07 0-2.86zM5.41 20L4 18.59l7.72-7.72 1.47 1.35L5.41 20z\"/>\n",
              "  </svg>\n",
              "      </button>\n",
              "      \n",
              "  <style>\n",
              "    .colab-df-container {\n",
              "      display:flex;\n",
              "      flex-wrap:wrap;\n",
              "      gap: 12px;\n",
              "    }\n",
              "\n",
              "    .colab-df-convert {\n",
              "      background-color: #E8F0FE;\n",
              "      border: none;\n",
              "      border-radius: 50%;\n",
              "      cursor: pointer;\n",
              "      display: none;\n",
              "      fill: #1967D2;\n",
              "      height: 32px;\n",
              "      padding: 0 0 0 0;\n",
              "      width: 32px;\n",
              "    }\n",
              "\n",
              "    .colab-df-convert:hover {\n",
              "      background-color: #E2EBFA;\n",
              "      box-shadow: 0px 1px 2px rgba(60, 64, 67, 0.3), 0px 1px 3px 1px rgba(60, 64, 67, 0.15);\n",
              "      fill: #174EA6;\n",
              "    }\n",
              "\n",
              "    [theme=dark] .colab-df-convert {\n",
              "      background-color: #3B4455;\n",
              "      fill: #D2E3FC;\n",
              "    }\n",
              "\n",
              "    [theme=dark] .colab-df-convert:hover {\n",
              "      background-color: #434B5C;\n",
              "      box-shadow: 0px 1px 3px 1px rgba(0, 0, 0, 0.15);\n",
              "      filter: drop-shadow(0px 1px 2px rgba(0, 0, 0, 0.3));\n",
              "      fill: #FFFFFF;\n",
              "    }\n",
              "  </style>\n",
              "\n",
              "      <script>\n",
              "        const buttonEl =\n",
              "          document.querySelector('#df-1a5cfde9-f484-4661-86ff-9a9e24d5388b button.colab-df-convert');\n",
              "        buttonEl.style.display =\n",
              "          google.colab.kernel.accessAllowed ? 'block' : 'none';\n",
              "\n",
              "        async function convertToInteractive(key) {\n",
              "          const element = document.querySelector('#df-1a5cfde9-f484-4661-86ff-9a9e24d5388b');\n",
              "          const dataTable =\n",
              "            await google.colab.kernel.invokeFunction('convertToInteractive',\n",
              "                                                     [key], {});\n",
              "          if (!dataTable) return;\n",
              "\n",
              "          const docLinkHtml = 'Like what you see? Visit the ' +\n",
              "            '<a target=\"_blank\" href=https://colab.research.google.com/notebooks/data_table.ipynb>data table notebook</a>'\n",
              "            + ' to learn more about interactive tables.';\n",
              "          element.innerHTML = '';\n",
              "          dataTable['output_type'] = 'display_data';\n",
              "          await google.colab.output.renderOutput(dataTable, element);\n",
              "          const docLink = document.createElement('div');\n",
              "          docLink.innerHTML = docLinkHtml;\n",
              "          element.appendChild(docLink);\n",
              "        }\n",
              "      </script>\n",
              "    </div>\n",
              "  </div>\n",
              "  "
            ],
            "text/plain": [
              "   age     bmi  children  ...  region_northwest  region_southeast  region_southwest\n",
              "0   19  27.900         0  ...                 0                 0                 1\n",
              "1   18  33.770         1  ...                 0                 1                 0\n",
              "2   28  33.000         3  ...                 0                 1                 0\n",
              "3   33  22.705         0  ...                 1                 0                 0\n",
              "4   32  28.880         0  ...                 1                 0                 0\n",
              "\n",
              "[5 rows x 12 columns]"
            ]
          },
          "metadata": {},
          "execution_count": 8
        }
      ]
    },
    {
      "cell_type": "code",
      "source": [
        "x = Data.drop(\"charges\", axis = 1)\n",
        "y = Data[\"charges\"]\n",
        "x.shape, y.shape"
      ],
      "metadata": {
        "colab": {
          "base_uri": "https://localhost:8080/"
        },
        "id": "LJdIlXnpFSZ4",
        "outputId": "d5fee38b-c778-4064-ca6d-991bbde3ce52"
      },
      "execution_count": 38,
      "outputs": [
        {
          "output_type": "execute_result",
          "data": {
            "text/plain": [
              "((1338, 6), (1338,))"
            ]
          },
          "metadata": {},
          "execution_count": 38
        }
      ]
    },
    {
      "cell_type": "markdown",
      "source": [
        "We have 11 input columns, it means the input shape is [11]"
      ],
      "metadata": {
        "id": "0r88w22vF63-"
      }
    },
    {
      "cell_type": "code",
      "source": [
        "from sklearn.model_selection import train_test_split\n",
        "x_train, x_test, y_train, y_test = train_test_split(x,y, train_size=0.8, random_state = 42)"
      ],
      "metadata": {
        "id": "Ri5L6hGsFpVe"
      },
      "execution_count": 39,
      "outputs": []
    },
    {
      "cell_type": "code",
      "source": [
        "x_train.shape # which is exactly 80%"
      ],
      "metadata": {
        "colab": {
          "base_uri": "https://localhost:8080/"
        },
        "id": "x5ZfIgSKGj4f",
        "outputId": "6b506f73-ba7b-4d9f-ce5f-9671e9a2b54c"
      },
      "execution_count": 40,
      "outputs": [
        {
          "output_type": "execute_result",
          "data": {
            "text/plain": [
              "(1070, 6)"
            ]
          },
          "metadata": {},
          "execution_count": 40
        }
      ]
    },
    {
      "cell_type": "code",
      "source": [
        "Encoded_data.isna().mean()"
      ],
      "metadata": {
        "colab": {
          "base_uri": "https://localhost:8080/"
        },
        "id": "b-dxZrw_Gp3e",
        "outputId": "40dc0eec-4cde-40e6-b303-ebcbb3e95285"
      },
      "execution_count": 41,
      "outputs": [
        {
          "output_type": "execute_result",
          "data": {
            "text/plain": [
              "age                 0.0\n",
              "bmi                 0.0\n",
              "children            0.0\n",
              "charges             0.0\n",
              "sex_female          0.0\n",
              "sex_male            0.0\n",
              "smoker_no           0.0\n",
              "smoker_yes          0.0\n",
              "region_northeast    0.0\n",
              "region_northwest    0.0\n",
              "region_southeast    0.0\n",
              "region_southwest    0.0\n",
              "dtype: float64"
            ]
          },
          "metadata": {},
          "execution_count": 41
        }
      ]
    },
    {
      "cell_type": "code",
      "source": [
        "Encoded_data.age.unique()"
      ],
      "metadata": {
        "colab": {
          "base_uri": "https://localhost:8080/"
        },
        "id": "SJljSZBpKIgg",
        "outputId": "591581bc-b617-4dff-d450-b5470e650b4c"
      },
      "execution_count": 42,
      "outputs": [
        {
          "output_type": "execute_result",
          "data": {
            "text/plain": [
              "array([19, 18, 28, 33, 32, 31, 46, 37, 60, 25, 62, 23, 56, 27, 52, 30, 34,\n",
              "       59, 63, 55, 22, 26, 35, 24, 41, 38, 36, 21, 48, 40, 58, 53, 43, 64,\n",
              "       20, 61, 44, 57, 29, 45, 54, 49, 47, 51, 42, 50, 39])"
            ]
          },
          "metadata": {},
          "execution_count": 42
        }
      ]
    },
    {
      "cell_type": "markdown",
      "source": [
        "## Create min max scalar to reduce the outliers and make out put more accurate "
      ],
      "metadata": {
        "id": "Cr_vDh4WKvto"
      }
    },
    {
      "cell_type": "code",
      "source": [
        "from sklearn.compose import make_column_transformer\n",
        "from sklearn.preprocessing import MinMaxScaler, OneHotEncoder"
      ],
      "metadata": {
        "id": "cbvXPDD3KYsC"
      },
      "execution_count": 43,
      "outputs": []
    },
    {
      "cell_type": "code",
      "source": [
        "Data_transform_model = make_column_transformer(\n",
        "    (MinMaxScaler(), [\"age\",\"bmi\",\"children\"]),\n",
        "    (OneHotEncoder(handle_unknown  = \"ignore\"),[\"sex\", \"smoker\", \"region\"])\n",
        ")"
      ],
      "metadata": {
        "id": "Whozds4NLHTK"
      },
      "execution_count": 44,
      "outputs": []
    },
    {
      "cell_type": "code",
      "source": [
        "Data_transform_model.fit(x_train)"
      ],
      "metadata": {
        "colab": {
          "base_uri": "https://localhost:8080/"
        },
        "id": "dp_qPiFOLmPB",
        "outputId": "afd6e87c-2cfe-4da0-9605-5de98fce885d"
      },
      "execution_count": 45,
      "outputs": [
        {
          "output_type": "execute_result",
          "data": {
            "text/plain": [
              "ColumnTransformer(transformers=[('minmaxscaler', MinMaxScaler(),\n",
              "                                 ['age', 'bmi', 'children']),\n",
              "                                ('onehotencoder',\n",
              "                                 OneHotEncoder(handle_unknown='ignore'),\n",
              "                                 ['sex', 'smoker', 'region'])])"
            ]
          },
          "metadata": {},
          "execution_count": 45
        }
      ]
    },
    {
      "cell_type": "code",
      "source": [
        "x_train_transform = Data_transform_model.transform(x_train)\n",
        "x_test_transform = Data_transform_model.transform(x_test)"
      ],
      "metadata": {
        "id": "5rTBTtFLL7hb"
      },
      "execution_count": 47,
      "outputs": []
    },
    {
      "cell_type": "code",
      "source": [
        "x_train_transform.shape"
      ],
      "metadata": {
        "colab": {
          "base_uri": "https://localhost:8080/"
        },
        "id": "ob7aE30DMSmw",
        "outputId": "420d46e5-3d89-45af-a3dc-d9ecf3c01df6"
      },
      "execution_count": 48,
      "outputs": [
        {
          "output_type": "execute_result",
          "data": {
            "text/plain": [
              "(1070, 11)"
            ]
          },
          "metadata": {},
          "execution_count": 48
        }
      ]
    },
    {
      "cell_type": "code",
      "source": [
        "x_test_transform.shape"
      ],
      "metadata": {
        "colab": {
          "base_uri": "https://localhost:8080/"
        },
        "id": "mwb9yL5EMa93",
        "outputId": "479db1d0-f9a5-410e-f8b9-d117f0b0d074"
      },
      "execution_count": 49,
      "outputs": [
        {
          "output_type": "execute_result",
          "data": {
            "text/plain": [
              "(268, 11)"
            ]
          },
          "metadata": {},
          "execution_count": 49
        }
      ]
    },
    {
      "cell_type": "code",
      "source": [
        "y_train.shape"
      ],
      "metadata": {
        "colab": {
          "base_uri": "https://localhost:8080/"
        },
        "id": "xYiqZ6L_Mdsc",
        "outputId": "a0189d0a-d08d-4fec-a746-80af9cbd623e"
      },
      "execution_count": 51,
      "outputs": [
        {
          "output_type": "execute_result",
          "data": {
            "text/plain": [
              "(1070,)"
            ]
          },
          "metadata": {},
          "execution_count": 51
        }
      ]
    },
    {
      "cell_type": "code",
      "source": [
        "from tensorflow.python.eager.monitoring import Metric\n",
        "tf.random.set_seed(42)\n",
        "model = tf.keras.Sequential([\n",
        "                             tf.keras.layers.Dense(100),\n",
        "                             tf.keras.layers.Dense(10),\n",
        "                             tf.keras.layers.Dense(1),\n",
        "])"
      ],
      "metadata": {
        "id": "Nvd0KWJWMoQF"
      },
      "execution_count": 80,
      "outputs": []
    },
    {
      "cell_type": "code",
      "source": [
        "model.compile(loss=tf.keras.losses.mae,\n",
        "                          optimizer=tf.keras.optimizers.Adam(),\n",
        "                          metrics=['mae'])\n",
        "\n",
        "model.fit(x_train_transform, y_train, epochs = 200, verbose = 0)"
      ],
      "metadata": {
        "colab": {
          "base_uri": "https://localhost:8080/"
        },
        "id": "vdA9tEPhODj-",
        "outputId": "7fd5963b-6eee-44e7-c01f-420bfc50b4fa"
      },
      "execution_count": 84,
      "outputs": [
        {
          "output_type": "execute_result",
          "data": {
            "text/plain": [
              "<keras.callbacks.History at 0x7fb66d441bd0>"
            ]
          },
          "metadata": {},
          "execution_count": 84
        }
      ]
    },
    {
      "cell_type": "code",
      "source": [
        "model_loss, model_mae = model.evaluate(x_test_transform, y_test) "
      ],
      "metadata": {
        "colab": {
          "base_uri": "https://localhost:8080/"
        },
        "id": "IQMA8rUhOMrk",
        "outputId": "e4841f33-4998-4390-ac9d-7db2e3a3c2eb"
      },
      "execution_count": 85,
      "outputs": [
        {
          "output_type": "stream",
          "name": "stdout",
          "text": [
            "9/9 [==============================] - 0s 2ms/step - loss: 3169.2039 - mae: 3169.2039\n"
          ]
        }
      ]
    },
    {
      "cell_type": "code",
      "source": [
        "model_loss, model_mae"
      ],
      "metadata": {
        "colab": {
          "base_uri": "https://localhost:8080/"
        },
        "id": "PELO1jetOwF4",
        "outputId": "4349c62c-be34-4e19-aa98-1f0c4792d86f"
      },
      "execution_count": 86,
      "outputs": [
        {
          "output_type": "execute_result",
          "data": {
            "text/plain": [
              "(3169.203857421875, 3169.203857421875)"
            ]
          },
          "metadata": {},
          "execution_count": 86
        }
      ]
    },
    {
      "cell_type": "code",
      "source": [
        "y_pred = model.predict(x_test_transform)\n"
      ],
      "metadata": {
        "id": "1LGRgyytQusF"
      },
      "execution_count": 110,
      "outputs": []
    },
    {
      "cell_type": "code",
      "source": [
        "a = list(y_test),\n",
        "b = list(y_pred)"
      ],
      "metadata": {
        "id": "oBYzCEC4UEvK"
      },
      "execution_count": 134,
      "outputs": []
    },
    {
      "cell_type": "code",
      "source": [
        "a = tf.constant(a)\n",
        "a = tf.squeeze(a)\n",
        "a = tf.make_tensor_proto(a)\n",
        "a = tf.make_ndarray(a)\n",
        "b = tf.constant(b)\n",
        "b = tf.squeeze(b)\n",
        "b = tf.make_tensor_proto(b)\n",
        "b = tf.make_ndarray(b)\n",
        "type(a)"
      ],
      "metadata": {
        "colab": {
          "base_uri": "https://localhost:8080/"
        },
        "id": "oX295yu3Uu0P",
        "outputId": "05d1053e-6d66-489e-d49a-11c65c09a73c"
      },
      "execution_count": 137,
      "outputs": [
        {
          "output_type": "execute_result",
          "data": {
            "text/plain": [
              "numpy.ndarray"
            ]
          },
          "metadata": {},
          "execution_count": 137
        }
      ]
    },
    {
      "cell_type": "code",
      "source": [
        "(a-b).mean()"
      ],
      "metadata": {
        "colab": {
          "base_uri": "https://localhost:8080/"
        },
        "id": "GwmUQ8TWVHa_",
        "outputId": "d09f5fb3-3f7d-4d71-c89f-8acf506b4d3d"
      },
      "execution_count": 140,
      "outputs": [
        {
          "output_type": "execute_result",
          "data": {
            "text/plain": [
              "-164.31458"
            ]
          },
          "metadata": {},
          "execution_count": 140
        }
      ]
    },
    {
      "cell_type": "code",
      "source": [
        "plt.plot(a-b)"
      ],
      "metadata": {
        "colab": {
          "base_uri": "https://localhost:8080/",
          "height": 282
        },
        "id": "2zjHOsfeVl39",
        "outputId": "fa1a925e-2e30-4142-848c-0e3c84147eb0"
      },
      "execution_count": 141,
      "outputs": [
        {
          "output_type": "execute_result",
          "data": {
            "text/plain": [
              "[<matplotlib.lines.Line2D at 0x7fb6658e4710>]"
            ]
          },
          "metadata": {},
          "execution_count": 141
        },
        {
          "output_type": "display_data",
          "data": {
            "image/png": "[encoded data removed]",
            "text/plain": [
              "<Figure size 432x288 with 1 Axes>"
            ]
          },
          "metadata": {
            "needs_background": "light"
          }
        }
      ]
    },
    {
      "cell_type": "code",
      "source": [
        "list(y_pred[0:,0])"
      ],
      "metadata": {
        "colab": {
          "base_uri": "https://localhost:8080/"
        },
        "id": "j_yg0DzgWmeS",
        "outputId": "8721b1c6-48c1-42e8-d001-1c2b2c28f47a"
      },
      "execution_count": 148,
      "outputs": [
        {
          "output_type": "execute_result",
          "data": {
            "text/plain": [
              "[9400.634,\n",
              " 6089.157,\n",
              " 44107.39,\n",
              " 9343.373,\n",
              " 31824.555,\n",
              " 5791.136,\n",
              " 1144.5779,\n",
              " 13572.693,\n",
              " 3626.1492,\n",
              " 10296.829,\n",
              " 35251.086,\n",
              " 7835.6,\n",
              " 4311.627,\n",
              " 40539.996,\n",
              " 43015.746,\n",
              " 40233.156,\n",
              " 10746.896,\n",
              " 40149.465,\n",
              " 8804.768,\n",
              " 38462.094,\n",
              " 4045.3125,\n",
              " 8101.946,\n",
              " 729.433,\n",
              " 3136.9343,\n",
              " 10974.272,\n",
              " 11383.683,\n",
              " 12422.847,\n",
              " 4905.1216,\n",
              " 10009.405,\n",
              " 539.4798,\n",
              " 8378.778,\n",
              " 11824.541,\n",
              " 2019.0923,\n",
              " 5190.0312,\n",
              " 2996.7053,\n",
              " 8882.813,\n",
              " 1909.9769,\n",
              " 7998.7837,\n",
              " 41149.48,\n",
              " 36683.96,\n",
              " 3104.0146,\n",
              " 2360.4097,\n",
              " 11787.961,\n",
              " 11607.444,\n",
              " 5662.7725,\n",
              " 11743.113,\n",
              " 3047.9182,\n",
              " 3691.4014,\n",
              " 39415.105,\n",
              " 5256.8877,\n",
              " 13381.06,\n",
              " 906.5197,\n",
              " 8138.898,\n",
              " 941.80194,\n",
              " 10968.8955,\n",
              " 10653.813,\n",
              " 4134.496,\n",
              " 36390.133,\n",
              " 11785.381,\n",
              " 11143.307,\n",
              " 13064.616,\n",
              " 5661.2056,\n",
              " 13520.927,\n",
              " 8261.742,\n",
              " 10755.948,\n",
              " 4140.155,\n",
              " 33302.027,\n",
              " 10709.234,\n",
              " 3162.9907,\n",
              " 1990.0864,\n",
              " 7269.015,\n",
              " 10025.068,\n",
              " 9200.472,\n",
              " 7105.521,\n",
              " 8329.654,\n",
              " 5804.3926,\n",
              " 4900.0474,\n",
              " 11247.521,\n",
              " 4618.468,\n",
              " 9137.75,\n",
              " 1236.3406,\n",
              " 43446.13,\n",
              " 5442.203,\n",
              " 34707.87,\n",
              " 33787.867,\n",
              " 40476.285,\n",
              " 5053.148,\n",
              " 10897.242,\n",
              " 8815.054,\n",
              " 11395.293,\n",
              " 14615.477,\n",
              " 43633.22,\n",
              " 40227.867,\n",
              " 5323.3145,\n",
              " 35904.945,\n",
              " 7544.334,\n",
              " 35295.734,\n",
              " 1656.9366,\n",
              " 36022.59,\n",
              " 6627.051,\n",
              " 4801.0806,\n",
              " 1091.6342,\n",
              " 7227.515,\n",
              " 12176.81,\n",
              " 12377.942,\n",
              " 1197.496,\n",
              " 8367.288,\n",
              " 40134.777,\n",
              " 709.4702,\n",
              " 41076.14,\n",
              " 864.19037,\n",
              " 3913.5676,\n",
              " 12850.223,\n",
              " 37022.387,\n",
              " 10350.205,\n",
              " 1533.4938,\n",
              " 12355.674,\n",
              " 38892.184,\n",
              " 6928.0786,\n",
              " 2430.0916,\n",
              " 6441.1284,\n",
              " 8015.7744,\n",
              " 11941.465,\n",
              " 2437.908,\n",
              " 4441.3135,\n",
              " 8395.942,\n",
              " 8377.115,\n",
              " 9865.726,\n",
              " 12250.863,\n",
              " 2471.0408,\n",
              " 4679.6865,\n",
              " 6534.5195,\n",
              " 6642.976,\n",
              " 9244.016,\n",
              " 6662.758,\n",
              " 12222.25,\n",
              " 5429.339,\n",
              " 37540.06,\n",
              " 39333.082,\n",
              " 37366.484,\n",
              " 5932.688,\n",
              " 10638.851,\n",
              " 2953.595,\n",
              " 11575.853,\n",
              " 2201.6409,\n",
              " 40013.156,\n",
              " 5528.5405,\n",
              " 4327.501,\n",
              " 11655.601,\n",
              " 5441.0737,\n",
              " 42864.6,\n",
              " 2499.6194,\n",
              " 1088.4915,\n",
              " 36133.02,\n",
              " 7558.5767,\n",
              " 5669.714,\n",
              " 13068.757,\n",
              " 9139.474,\n",
              " 32041.244,\n",
              " 38240.938,\n",
              " 13227.245,\n",
              " 1711.2585,\n",
              " 13397.874,\n",
              " 2205.3157,\n",
              " 3135.933,\n",
              " 8153.556,\n",
              " 44006.727,\n",
              " 42438.992,\n",
              " 39245.117,\n",
              " 2774.4504,\n",
              " 9182.499,\n",
              " 7053.2554,\n",
              " 7412.114,\n",
              " 4509.5586,\n",
              " 1808.2671,\n",
              " 39152.402,\n",
              " 31242.318,\n",
              " 13421.44,\n",
              " 35860.797,\n",
              " 11393.069,\n",
              " 44204.184,\n",
              " 2126.1467,\n",
              " 8493.061,\n",
              " 5769.029,\n",
              " 4935.0986,\n",
              " 3029.2234,\n",
              " 4479.767,\n",
              " 3988.8027,\n",
              " 9935.541,\n",
              " 10641.203,\n",
              " 3355.5378,\n",
              " 1530.5955,\n",
              " 2307.178,\n",
              " 35708.367,\n",
              " 12801.443,\n",
              " 10045.373,\n",
              " 1649.6194,\n",
              " 12004.965,\n",
              " 1388.3513,\n",
              " 9260.466,\n",
              " 3012.1199,\n",
              " 40468.152,\n",
              " 5279.041,\n",
              " 1755.526,\n",
              " 32402.605,\n",
              " 33774.586,\n",
              " 9235.446,\n",
              " 3105.8223,\n",
              " 9103.791,\n",
              " 2705.7747,\n",
              " 11839.66,\n",
              " 11558.694,\n",
              " 10812.151,\n",
              " 33183.984,\n",
              " 7006.507,\n",
              " 4694.841,\n",
              " 5321.041,\n",
              " 13099.437,\n",
              " 11987.146,\n",
              " 6155.1543,\n",
              " 2341.2893,\n",
              " 8276.826,\n",
              " 7681.5693,\n",
              " 39113.938,\n",
              " 1992.8704,\n",
              " 33952.22,\n",
              " 677.37994,\n",
              " 1110.5359,\n",
              " 9810.644,\n",
              " 11497.445,\n",
              " 1680.848,\n",
              " 9524.088,\n",
              " 4376.1987,\n",
              " 37699.08,\n",
              " 9807.136,\n",
              " 9207.912,\n",
              " 3817.4673,\n",
              " 7097.046,\n",
              " 39397.484,\n",
              " 1795.9484,\n",
              " 12280.663,\n",
              " 35130.793,\n",
              " 3354.9448,\n",
              " 3521.6262,\n",
              " 840.2725,\n",
              " 3016.0095,\n",
              " 4252.1143,\n",
              " 4684.5127,\n",
              " 12972.912,\n",
              " 456.2139,\n",
              " 1395.3949,\n",
              " 7835.7036,\n",
              " 3356.326,\n",
              " 11668.593,\n",
              " 2014.712,\n",
              " 3368.095,\n",
              " 11676.34,\n",
              " 3563.724,\n",
              " 9095.162,\n",
              " 6308.096,\n",
              " 8314.481,\n",
              " 12364.052,\n",
              " 33557.13,\n",
              " 43531.242,\n",
              " 11861.034,\n",
              " 6818.5757,\n",
              " 42163.79,\n",
              " 10363.986]"
            ]
          },
          "metadata": {},
          "execution_count": 148
        }
      ]
    },
    {
      "cell_type": "code",
      "source": [
        ""
      ],
      "metadata": {
        "id": "7rCLiu_QWwST"
      },
      "execution_count": null,
      "outputs": []
    }
  ]
}