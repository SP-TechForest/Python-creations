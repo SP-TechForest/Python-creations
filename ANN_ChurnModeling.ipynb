{
  "nbformat": 4,
  "nbformat_minor": 0,
  "metadata": {
    "colab": {
      "name": "ANN_ChurnModeling.ipynb",
      "provenance": [],
      "authorship_tag": "ABX9TyOIBoDoBE79dHWZz4z6DLgH",
      "include_colab_link": true
    },
    "kernelspec": {
      "name": "python3",
      "display_name": "Python 3"
    },
    "language_info": {
      "name": "python"
    },
    "accelerator": "GPU"
  },
  "cells": [
    {
      "cell_type": "markdown",
      "metadata": {
        "id": "view-in-github",
        "colab_type": "text"
      },
      "source": [
        "<a href=\"https://colab.research.google.com/github/SP-TechForest/Python-creations/blob/main/ANN_ChurnModeling.ipynb\" target=\"_parent\"><img src=\"https://colab.research.google.com/assets/colab-badge.svg\" alt=\"Open In Colab\"/></a>"
      ]
    },
    {
      "cell_type": "code",
      "execution_count": 3,
      "metadata": {
        "colab": {
          "base_uri": "https://localhost:8080/"
        },
        "id": "of6e4w7yXB_2",
        "outputId": "1d53e49a-e586-48f3-9b75-6f44235d2294"
      },
      "outputs": [
        {
          "output_type": "stream",
          "name": "stdout",
          "text": [
            "2.8.0\n"
          ]
        }
      ],
      "source": [
        "import pandas as pd \n",
        "import numpy as np\n",
        "import sklearn \n",
        "import plotly.express as px \n",
        "import tensorflow as tf\n",
        "print(tf.__version__)"
      ]
    },
    {
      "cell_type": "code",
      "source": [
        "data = pd.read_csv(\"Churn_Modelling.csv\")"
      ],
      "metadata": {
        "id": "XXE9QDOMYBRQ"
      },
      "execution_count": 4,
      "outputs": []
    },
    {
      "cell_type": "code",
      "source": [
        "data.head()"
      ],
      "metadata": {
        "colab": {
          "base_uri": "https://localhost:8080/",
          "height": 270
        },
        "id": "Fl8TIyZgYGEb",
        "outputId": "e3dfbb33-93fb-438b-fc78-6943552b2920"
      },
      "execution_count": 5,
      "outputs": [
        {
          "output_type": "execute_result",
          "data": {
            "text/plain": [
              "   RowNumber  CustomerId   Surname  CreditScore Geography  Gender  Age  \\\n",
              "0          1    15634602  Hargrave          619    France  Female   42   \n",
              "1          2    15647311      Hill          608     Spain  Female   41   \n",
              "2          3    15619304      Onio          502    France  Female   42   \n",
              "3          4    15701354      Boni          699    France  Female   39   \n",
              "4          5    15737888  Mitchell          850     Spain  Female   43   \n",
              "\n",
              "   Tenure    Balance  NumOfProducts  HasCrCard  IsActiveMember  \\\n",
              "0       2       0.00              1          1               1   \n",
              "1       1   83807.86              1          0               1   \n",
              "2       8  159660.80              3          1               0   \n",
              "3       1       0.00              2          0               0   \n",
              "4       2  125510.82              1          1               1   \n",
              "\n",
              "   EstimatedSalary  Exited  \n",
              "0        101348.88       1  \n",
              "1        112542.58       0  \n",
              "2        113931.57       1  \n",
              "3         93826.63       0  \n",
              "4         79084.10       0  "
            ],
            "text/html": [
              "\n",
              "  <div id=\"df-1ffe5f63-b354-4f23-bdf5-0112c1ff3b1c\">\n",
              "    <div class=\"colab-df-container\">\n",
              "      <div>\n",
              "<style scoped>\n",
              "    .dataframe tbody tr th:only-of-type {\n",
              "        vertical-align: middle;\n",
              "    }\n",
              "\n",
              "    .dataframe tbody tr th {\n",
              "        vertical-align: top;\n",
              "    }\n",
              "\n",
              "    .dataframe thead th {\n",
              "        text-align: right;\n",
              "    }\n",
              "</style>\n",
              "<table border=\"1\" class=\"dataframe\">\n",
              "  <thead>\n",
              "    <tr style=\"text-align: right;\">\n",
              "      <th></th>\n",
              "      <th>RowNumber</th>\n",
              "      <th>CustomerId</th>\n",
              "      <th>Surname</th>\n",
              "      <th>CreditScore</th>\n",
              "      <th>Geography</th>\n",
              "      <th>Gender</th>\n",
              "      <th>Age</th>\n",
              "      <th>Tenure</th>\n",
              "      <th>Balance</th>\n",
              "      <th>NumOfProducts</th>\n",
              "      <th>HasCrCard</th>\n",
              "      <th>IsActiveMember</th>\n",
              "      <th>EstimatedSalary</th>\n",
              "      <th>Exited</th>\n",
              "    </tr>\n",
              "  </thead>\n",
              "  <tbody>\n",
              "    <tr>\n",
              "      <th>0</th>\n",
              "      <td>1</td>\n",
              "      <td>15634602</td>\n",
              "      <td>Hargrave</td>\n",
              "      <td>619</td>\n",
              "      <td>France</td>\n",
              "      <td>Female</td>\n",
              "      <td>42</td>\n",
              "      <td>2</td>\n",
              "      <td>0.00</td>\n",
              "      <td>1</td>\n",
              "      <td>1</td>\n",
              "      <td>1</td>\n",
              "      <td>101348.88</td>\n",
              "      <td>1</td>\n",
              "    </tr>\n",
              "    <tr>\n",
              "      <th>1</th>\n",
              "      <td>2</td>\n",
              "      <td>15647311</td>\n",
              "      <td>Hill</td>\n",
              "      <td>608</td>\n",
              "      <td>Spain</td>\n",
              "      <td>Female</td>\n",
              "      <td>41</td>\n",
              "      <td>1</td>\n",
              "      <td>83807.86</td>\n",
              "      <td>1</td>\n",
              "      <td>0</td>\n",
              "      <td>1</td>\n",
              "      <td>112542.58</td>\n",
              "      <td>0</td>\n",
              "    </tr>\n",
              "    <tr>\n",
              "      <th>2</th>\n",
              "      <td>3</td>\n",
              "      <td>15619304</td>\n",
              "      <td>Onio</td>\n",
              "      <td>502</td>\n",
              "      <td>France</td>\n",
              "      <td>Female</td>\n",
              "      <td>42</td>\n",
              "      <td>8</td>\n",
              "      <td>159660.80</td>\n",
              "      <td>3</td>\n",
              "      <td>1</td>\n",
              "      <td>0</td>\n",
              "      <td>113931.57</td>\n",
              "      <td>1</td>\n",
              "    </tr>\n",
              "    <tr>\n",
              "      <th>3</th>\n",
              "      <td>4</td>\n",
              "      <td>15701354</td>\n",
              "      <td>Boni</td>\n",
              "      <td>699</td>\n",
              "      <td>France</td>\n",
              "      <td>Female</td>\n",
              "      <td>39</td>\n",
              "      <td>1</td>\n",
              "      <td>0.00</td>\n",
              "      <td>2</td>\n",
              "      <td>0</td>\n",
              "      <td>0</td>\n",
              "      <td>93826.63</td>\n",
              "      <td>0</td>\n",
              "    </tr>\n",
              "    <tr>\n",
              "      <th>4</th>\n",
              "      <td>5</td>\n",
              "      <td>15737888</td>\n",
              "      <td>Mitchell</td>\n",
              "      <td>850</td>\n",
              "      <td>Spain</td>\n",
              "      <td>Female</td>\n",
              "      <td>43</td>\n",
              "      <td>2</td>\n",
              "      <td>125510.82</td>\n",
              "      <td>1</td>\n",
              "      <td>1</td>\n",
              "      <td>1</td>\n",
              "      <td>79084.10</td>\n",
              "      <td>0</td>\n",
              "    </tr>\n",
              "  </tbody>\n",
              "</table>\n",
              "</div>\n",
              "      <button class=\"colab-df-convert\" onclick=\"convertToInteractive('df-1ffe5f63-b354-4f23-bdf5-0112c1ff3b1c')\"\n",
              "              title=\"Convert this dataframe to an interactive table.\"\n",
              "              style=\"display:none;\">\n",
              "        \n",
              "  <svg xmlns=\"http://www.w3.org/2000/svg\" height=\"24px\"viewBox=\"0 0 24 24\"\n",
              "       width=\"24px\">\n",
              "    <path d=\"M0 0h24v24H0V0z\" fill=\"none\"/>\n",
              "    <path d=\"M18.56 5.44l.94 2.06.94-2.06 2.06-.94-2.06-.94-.94-2.06-.94 2.06-2.06.94zm-11 1L8.5 8.5l.94-2.06 2.06-.94-2.06-.94L8.5 2.5l-.94 2.06-2.06.94zm10 10l.94 2.06.94-2.06 2.06-.94-2.06-.94-.94-2.06-.94 2.06-2.06.94z\"/><path d=\"M17.41 7.96l-1.37-1.37c-.4-.4-.92-.59-1.43-.59-.52 0-1.04.2-1.43.59L10.3 9.45l-7.72 7.72c-.78.78-.78 2.05 0 2.83L4 21.41c.39.39.9.59 1.41.59.51 0 1.02-.2 1.41-.59l7.78-7.78 2.81-2.81c.8-.78.8-2.07 0-2.86zM5.41 20L4 18.59l7.72-7.72 1.47 1.35L5.41 20z\"/>\n",
              "  </svg>\n",
              "      </button>\n",
              "      \n",
              "  <style>\n",
              "    .colab-df-container {\n",
              "      display:flex;\n",
              "      flex-wrap:wrap;\n",
              "      gap: 12px;\n",
              "    }\n",
              "\n",
              "    .colab-df-convert {\n",
              "      background-color: #E8F0FE;\n",
              "      border: none;\n",
              "      border-radius: 50%;\n",
              "      cursor: pointer;\n",
              "      display: none;\n",
              "      fill: #1967D2;\n",
              "      height: 32px;\n",
              "      padding: 0 0 0 0;\n",
              "      width: 32px;\n",
              "    }\n",
              "\n",
              "    .colab-df-convert:hover {\n",
              "      background-color: #E2EBFA;\n",
              "      box-shadow: 0px 1px 2px rgba(60, 64, 67, 0.3), 0px 1px 3px 1px rgba(60, 64, 67, 0.15);\n",
              "      fill: #174EA6;\n",
              "    }\n",
              "\n",
              "    [theme=dark] .colab-df-convert {\n",
              "      background-color: #3B4455;\n",
              "      fill: #D2E3FC;\n",
              "    }\n",
              "\n",
              "    [theme=dark] .colab-df-convert:hover {\n",
              "      background-color: #434B5C;\n",
              "      box-shadow: 0px 1px 3px 1px rgba(0, 0, 0, 0.15);\n",
              "      filter: drop-shadow(0px 1px 2px rgba(0, 0, 0, 0.3));\n",
              "      fill: #FFFFFF;\n",
              "    }\n",
              "  </style>\n",
              "\n",
              "      <script>\n",
              "        const buttonEl =\n",
              "          document.querySelector('#df-1ffe5f63-b354-4f23-bdf5-0112c1ff3b1c button.colab-df-convert');\n",
              "        buttonEl.style.display =\n",
              "          google.colab.kernel.accessAllowed ? 'block' : 'none';\n",
              "\n",
              "        async function convertToInteractive(key) {\n",
              "          const element = document.querySelector('#df-1ffe5f63-b354-4f23-bdf5-0112c1ff3b1c');\n",
              "          const dataTable =\n",
              "            await google.colab.kernel.invokeFunction('convertToInteractive',\n",
              "                                                     [key], {});\n",
              "          if (!dataTable) return;\n",
              "\n",
              "          const docLinkHtml = 'Like what you see? Visit the ' +\n",
              "            '<a target=\"_blank\" href=https://colab.research.google.com/notebooks/data_table.ipynb>data table notebook</a>'\n",
              "            + ' to learn more about interactive tables.';\n",
              "          element.innerHTML = '';\n",
              "          dataTable['output_type'] = 'display_data';\n",
              "          await google.colab.output.renderOutput(dataTable, element);\n",
              "          const docLink = document.createElement('div');\n",
              "          docLink.innerHTML = docLinkHtml;\n",
              "          element.appendChild(docLink);\n",
              "        }\n",
              "      </script>\n",
              "    </div>\n",
              "  </div>\n",
              "  "
            ]
          },
          "metadata": {},
          "execution_count": 5
        }
      ]
    },
    {
      "cell_type": "markdown",
      "source": [
        "#Data Preprocessing"
      ],
      "metadata": {
        "id": "KLeKa4stYImT"
      }
    },
    {
      "cell_type": "code",
      "source": [
        "data.columns"
      ],
      "metadata": {
        "colab": {
          "base_uri": "https://localhost:8080/"
        },
        "id": "oViSv1gFYpLQ",
        "outputId": "fe98a540-bbb4-4617-f76e-e6f68f487f5e"
      },
      "execution_count": 6,
      "outputs": [
        {
          "output_type": "execute_result",
          "data": {
            "text/plain": [
              "Index(['RowNumber', 'CustomerId', 'Surname', 'CreditScore', 'Geography',\n",
              "       'Gender', 'Age', 'Tenure', 'Balance', 'NumOfProducts', 'HasCrCard',\n",
              "       'IsActiveMember', 'EstimatedSalary', 'Exited'],\n",
              "      dtype='object')"
            ]
          },
          "metadata": {},
          "execution_count": 6
        }
      ]
    },
    {
      "cell_type": "code",
      "source": [
        "data.isna().any()"
      ],
      "metadata": {
        "id": "4YJl7n-fk0op",
        "colab": {
          "base_uri": "https://localhost:8080/"
        },
        "outputId": "a244d27c-1c1e-4c76-a6c7-71ede977f53d"
      },
      "execution_count": 7,
      "outputs": [
        {
          "output_type": "execute_result",
          "data": {
            "text/plain": [
              "RowNumber          False\n",
              "CustomerId         False\n",
              "Surname            False\n",
              "CreditScore        False\n",
              "Geography          False\n",
              "Gender             False\n",
              "Age                False\n",
              "Tenure             False\n",
              "Balance            False\n",
              "NumOfProducts      False\n",
              "HasCrCard          False\n",
              "IsActiveMember     False\n",
              "EstimatedSalary    False\n",
              "Exited             False\n",
              "dtype: bool"
            ]
          },
          "metadata": {},
          "execution_count": 7
        }
      ]
    },
    {
      "cell_type": "markdown",
      "source": [
        "Do not need data preprocessing, data is accurate.  "
      ],
      "metadata": {
        "id": "7DD4SA1UlcM6"
      }
    },
    {
      "cell_type": "markdown",
      "source": [
        "#Feature selection and feature engineering"
      ],
      "metadata": {
        "id": "hJGblxs-llU2"
      }
    },
    {
      "cell_type": "code",
      "source": [
        "# Feature Selection\n",
        "x = data.iloc[:,3:-1].values\n",
        "y = data.iloc[:,-1]\n",
        "x,y"
      ],
      "metadata": {
        "colab": {
          "base_uri": "https://localhost:8080/"
        },
        "id": "t30s6wNIlR4T",
        "outputId": "a75d3a0e-ea14-40ca-a806-6ceb52b685a3"
      },
      "execution_count": 8,
      "outputs": [
        {
          "output_type": "execute_result",
          "data": {
            "text/plain": [
              "(array([[619, 'France', 'Female', ..., 1, 1, 101348.88],\n",
              "        [608, 'Spain', 'Female', ..., 0, 1, 112542.58],\n",
              "        [502, 'France', 'Female', ..., 1, 0, 113931.57],\n",
              "        ...,\n",
              "        [709, 'France', 'Female', ..., 0, 1, 42085.58],\n",
              "        [772, 'Germany', 'Male', ..., 1, 0, 92888.52],\n",
              "        [792, 'France', 'Female', ..., 1, 0, 38190.78]], dtype=object),\n",
              " 0       1\n",
              " 1       0\n",
              " 2       1\n",
              " 3       0\n",
              " 4       0\n",
              "        ..\n",
              " 9995    0\n",
              " 9996    0\n",
              " 9997    1\n",
              " 9998    1\n",
              " 9999    0\n",
              " Name: Exited, Length: 10000, dtype: int64)"
            ]
          },
          "metadata": {},
          "execution_count": 8
        }
      ]
    },
    {
      "cell_type": "code",
      "source": [
        "# Label encoding for gender\n",
        "from sklearn.preprocessing import LabelEncoder\n",
        "column_L = LabelEncoder()\n",
        "x[:,2] = column_L.fit_transform(x[:,2]) "
      ],
      "metadata": {
        "id": "1vrgjnc6l3o6"
      },
      "execution_count": 9,
      "outputs": []
    },
    {
      "cell_type": "code",
      "source": [
        "# Onr hot encoding for geography columns\n",
        "from os import XATTR_SIZE_MAX\n",
        "from sklearn.compose import ColumnTransformer\n",
        "from sklearn.preprocessing import OneHotEncoder\n",
        "oHe = OneHotEncoder()\n",
        "ct = ColumnTransformer(transformers=[('encode',oHe,[1])],\n",
        "                       remainder='passthrough')\n",
        "x = np.array(ct.fit_transform(x))"
      ],
      "metadata": {
        "id": "4M77ub3LpO88"
      },
      "execution_count": 10,
      "outputs": []
    },
    {
      "cell_type": "code",
      "source": [
        "# train test split\n",
        "from sklearn.model_selection import train_test_split\n",
        "X_train, X_test, y_train, y_test = train_test_split(x, y, test_size = 0.2, random_state = 0)\n"
      ],
      "metadata": {
        "id": "nqCXTLdZpSVI"
      },
      "execution_count": 11,
      "outputs": []
    },
    {
      "cell_type": "code",
      "source": [
        "# Feature Scaling \n",
        "from sklearn.preprocessing import StandardScaler\n",
        "sc = StandardScaler()\n",
        "X_train = sc.fit_transform(X_train)\n",
        "X_test = sc.transform(X_test)"
      ],
      "metadata": {
        "id": "hMIH8-wNpSwL"
      },
      "execution_count": 12,
      "outputs": []
    },
    {
      "cell_type": "markdown",
      "source": [
        "#Network implementation"
      ],
      "metadata": {
        "id": "gq6AVzAZOnyU"
      }
    },
    {
      "cell_type": "code",
      "source": [
        "from tensorflow.keras.models import Sequential\n",
        "from tensorflow.keras.layers import Dense\n",
        "from tensorflow.keras.layers import LeakyReLU,PReLU,ELU\n",
        "from tensorflow.keras.layers import Dropout\n",
        "from tensorflow.keras import activations"
      ],
      "metadata": {
        "id": "O0WJopUAp6tC"
      },
      "execution_count": 13,
      "outputs": []
    },
    {
      "cell_type": "code",
      "source": [
        "# Initialize ANN network \n",
        "network = Sequential()"
      ],
      "metadata": {
        "id": "N6P1JD7WqWG3"
      },
      "execution_count": 14,
      "outputs": []
    },
    {
      "cell_type": "code",
      "source": [
        "# Add input layer \n",
        "network.add(Dense(units=12, activation=\"relu\"))"
      ],
      "metadata": {
        "id": "RbnzdjwLrXF1"
      },
      "execution_count": 15,
      "outputs": []
    },
    {
      "cell_type": "code",
      "source": [
        "# Add hidden first layer\n",
        "network.add(Dense(units=6, activation='relu'))\n",
        "# Add second hidden layer \n",
        "network.add(Dense(units=4, activation='relu'))"
      ],
      "metadata": {
        "id": "7jMYDEqdrenn"
      },
      "execution_count": 16,
      "outputs": []
    },
    {
      "cell_type": "code",
      "source": [
        "# Add output Layer\n",
        "network.add( Dense( units=1, activation=activations.relu))"
      ],
      "metadata": {
        "id": "7XyNMCN_s8Nh"
      },
      "execution_count": 17,
      "outputs": []
    },
    {
      "cell_type": "code",
      "source": [
        "# Compile model\n",
        "network.compile(optimizer='adam', loss = 'binary_crossentropy', metrics=['accuracy'])"
      ],
      "metadata": {
        "id": "QOxZZT72twXs"
      },
      "execution_count": 18,
      "outputs": []
    },
    {
      "cell_type": "code",
      "source": [
        "# Model fitting \n",
        "network_history = network.fit(X_train, y_train, batch_size=10, epochs=80)"
      ],
      "metadata": {
        "colab": {
          "base_uri": "https://localhost:8080/"
        },
        "id": "wEq06ndpt_sO",
        "outputId": "67f97b45-a724-4fa9-9f61-918a9d7f2867"
      },
      "execution_count": 19,
      "outputs": [
        {
          "output_type": "stream",
          "name": "stdout",
          "text": [
            "Epoch 1/80\n",
            "800/800 [==============================] - 6s 2ms/step - loss: 1.1031 - accuracy: 0.7949\n",
            "Epoch 2/80\n",
            "800/800 [==============================] - 2s 2ms/step - loss: 0.4479 - accuracy: 0.8134\n",
            "Epoch 3/80\n",
            "800/800 [==============================] - 2s 2ms/step - loss: 0.4036 - accuracy: 0.8292\n",
            "Epoch 4/80\n",
            "800/800 [==============================] - 2s 2ms/step - loss: 0.3946 - accuracy: 0.8378\n",
            "Epoch 5/80\n",
            "800/800 [==============================] - 2s 2ms/step - loss: 0.3829 - accuracy: 0.8438\n",
            "Epoch 6/80\n",
            "800/800 [==============================] - 2s 2ms/step - loss: 0.3756 - accuracy: 0.8446\n",
            "Epoch 7/80\n",
            "800/800 [==============================] - 2s 2ms/step - loss: 0.3671 - accuracy: 0.8443\n",
            "Epoch 8/80\n",
            "800/800 [==============================] - 2s 2ms/step - loss: 0.3691 - accuracy: 0.8487\n",
            "Epoch 9/80\n",
            "800/800 [==============================] - 2s 2ms/step - loss: 0.3623 - accuracy: 0.8526\n",
            "Epoch 10/80\n",
            "800/800 [==============================] - 2s 2ms/step - loss: 0.3587 - accuracy: 0.8514\n",
            "Epoch 11/80\n",
            "800/800 [==============================] - 2s 2ms/step - loss: 0.3583 - accuracy: 0.8499\n",
            "Epoch 12/80\n",
            "800/800 [==============================] - 2s 2ms/step - loss: 0.3561 - accuracy: 0.8543\n",
            "Epoch 13/80\n",
            "800/800 [==============================] - 2s 2ms/step - loss: 0.3506 - accuracy: 0.8533\n",
            "Epoch 14/80\n",
            "800/800 [==============================] - 2s 2ms/step - loss: 0.3535 - accuracy: 0.8566\n",
            "Epoch 15/80\n",
            "800/800 [==============================] - 2s 2ms/step - loss: 0.3460 - accuracy: 0.8543\n",
            "Epoch 16/80\n",
            "800/800 [==============================] - 2s 2ms/step - loss: 0.3458 - accuracy: 0.8547\n",
            "Epoch 17/80\n",
            "800/800 [==============================] - 2s 2ms/step - loss: 0.3456 - accuracy: 0.8555\n",
            "Epoch 18/80\n",
            "800/800 [==============================] - 2s 2ms/step - loss: 0.3469 - accuracy: 0.8555\n",
            "Epoch 19/80\n",
            "800/800 [==============================] - 2s 2ms/step - loss: 0.3436 - accuracy: 0.8581\n",
            "Epoch 20/80\n",
            "800/800 [==============================] - 2s 2ms/step - loss: 0.3500 - accuracy: 0.8559\n",
            "Epoch 21/80\n",
            "800/800 [==============================] - 2s 2ms/step - loss: 0.3406 - accuracy: 0.8577\n",
            "Epoch 22/80\n",
            "800/800 [==============================] - 2s 2ms/step - loss: 0.3398 - accuracy: 0.8591\n",
            "Epoch 23/80\n",
            "800/800 [==============================] - 2s 2ms/step - loss: 0.3365 - accuracy: 0.8589\n",
            "Epoch 24/80\n",
            "800/800 [==============================] - 2s 2ms/step - loss: 0.3347 - accuracy: 0.8600\n",
            "Epoch 25/80\n",
            "800/800 [==============================] - 2s 2ms/step - loss: 0.3346 - accuracy: 0.8599\n",
            "Epoch 26/80\n",
            "800/800 [==============================] - 2s 2ms/step - loss: 0.3349 - accuracy: 0.8605\n",
            "Epoch 27/80\n",
            "800/800 [==============================] - 2s 2ms/step - loss: 0.3364 - accuracy: 0.8587\n",
            "Epoch 28/80\n",
            "800/800 [==============================] - 2s 2ms/step - loss: 0.3352 - accuracy: 0.8595\n",
            "Epoch 29/80\n",
            "800/800 [==============================] - 2s 2ms/step - loss: 0.3340 - accuracy: 0.8590\n",
            "Epoch 30/80\n",
            "800/800 [==============================] - 2s 2ms/step - loss: 0.3331 - accuracy: 0.8608\n",
            "Epoch 31/80\n",
            "800/800 [==============================] - 2s 2ms/step - loss: 0.3329 - accuracy: 0.8601\n",
            "Epoch 32/80\n",
            "800/800 [==============================] - 2s 2ms/step - loss: 0.3331 - accuracy: 0.8610\n",
            "Epoch 33/80\n",
            "800/800 [==============================] - 2s 2ms/step - loss: 0.3394 - accuracy: 0.8610\n",
            "Epoch 34/80\n",
            "800/800 [==============================] - 2s 2ms/step - loss: 0.3406 - accuracy: 0.8614\n",
            "Epoch 35/80\n",
            "800/800 [==============================] - 2s 2ms/step - loss: 0.3350 - accuracy: 0.8631\n",
            "Epoch 36/80\n",
            "800/800 [==============================] - 2s 3ms/step - loss: 0.3325 - accuracy: 0.8600\n",
            "Epoch 37/80\n",
            "800/800 [==============================] - 2s 2ms/step - loss: 0.3297 - accuracy: 0.8619\n",
            "Epoch 38/80\n",
            "800/800 [==============================] - 2s 2ms/step - loss: 0.3331 - accuracy: 0.8615\n",
            "Epoch 39/80\n",
            "800/800 [==============================] - 2s 2ms/step - loss: 0.3316 - accuracy: 0.8618\n",
            "Epoch 40/80\n",
            "800/800 [==============================] - 2s 2ms/step - loss: 0.3328 - accuracy: 0.8618\n",
            "Epoch 41/80\n",
            "800/800 [==============================] - 2s 2ms/step - loss: 0.3284 - accuracy: 0.8627\n",
            "Epoch 42/80\n",
            "800/800 [==============================] - 2s 2ms/step - loss: 0.3285 - accuracy: 0.8639\n",
            "Epoch 43/80\n",
            "800/800 [==============================] - 2s 2ms/step - loss: 0.3301 - accuracy: 0.8645\n",
            "Epoch 44/80\n",
            "800/800 [==============================] - 2s 3ms/step - loss: 0.3340 - accuracy: 0.8629\n",
            "Epoch 45/80\n",
            "800/800 [==============================] - 3s 3ms/step - loss: 0.3273 - accuracy: 0.8616\n",
            "Epoch 46/80\n",
            "800/800 [==============================] - 2s 3ms/step - loss: 0.3278 - accuracy: 0.8636\n",
            "Epoch 47/80\n",
            "800/800 [==============================] - 2s 2ms/step - loss: 0.3272 - accuracy: 0.8644\n",
            "Epoch 48/80\n",
            "800/800 [==============================] - 2s 2ms/step - loss: 0.3290 - accuracy: 0.8649\n",
            "Epoch 49/80\n",
            "800/800 [==============================] - 2s 2ms/step - loss: 0.3300 - accuracy: 0.8644\n",
            "Epoch 50/80\n",
            "800/800 [==============================] - 2s 2ms/step - loss: 0.3265 - accuracy: 0.8641\n",
            "Epoch 51/80\n",
            "800/800 [==============================] - 2s 2ms/step - loss: 0.3282 - accuracy: 0.8644\n",
            "Epoch 52/80\n",
            "800/800 [==============================] - 2s 2ms/step - loss: 0.3350 - accuracy: 0.8631\n",
            "Epoch 53/80\n",
            "800/800 [==============================] - 2s 2ms/step - loss: 0.3275 - accuracy: 0.8655\n",
            "Epoch 54/80\n",
            "800/800 [==============================] - 2s 2ms/step - loss: 0.3293 - accuracy: 0.8655\n",
            "Epoch 55/80\n",
            "800/800 [==============================] - 2s 2ms/step - loss: 0.3308 - accuracy: 0.8648\n",
            "Epoch 56/80\n",
            "800/800 [==============================] - 4s 5ms/step - loss: 0.3291 - accuracy: 0.8665\n",
            "Epoch 57/80\n",
            "800/800 [==============================] - 3s 4ms/step - loss: 0.3319 - accuracy: 0.8677\n",
            "Epoch 58/80\n",
            "800/800 [==============================] - 4s 4ms/step - loss: 0.3327 - accuracy: 0.8659\n",
            "Epoch 59/80\n",
            "800/800 [==============================] - 4s 5ms/step - loss: 0.3335 - accuracy: 0.8649\n",
            "Epoch 60/80\n",
            "800/800 [==============================] - 4s 5ms/step - loss: 0.3340 - accuracy: 0.8649\n",
            "Epoch 61/80\n",
            "800/800 [==============================] - 2s 3ms/step - loss: 0.3379 - accuracy: 0.8637\n",
            "Epoch 62/80\n",
            "800/800 [==============================] - 2s 2ms/step - loss: 0.3303 - accuracy: 0.8644\n",
            "Epoch 63/80\n",
            "800/800 [==============================] - 2s 2ms/step - loss: 0.3295 - accuracy: 0.8644\n",
            "Epoch 64/80\n",
            "800/800 [==============================] - 2s 2ms/step - loss: 0.3293 - accuracy: 0.8626\n",
            "Epoch 65/80\n",
            "800/800 [==============================] - 2s 2ms/step - loss: 0.3315 - accuracy: 0.8636\n",
            "Epoch 66/80\n",
            "800/800 [==============================] - 2s 2ms/step - loss: 0.3322 - accuracy: 0.8646\n",
            "Epoch 67/80\n",
            "800/800 [==============================] - 2s 2ms/step - loss: 0.3302 - accuracy: 0.8650\n",
            "Epoch 68/80\n",
            "800/800 [==============================] - 2s 2ms/step - loss: 0.3265 - accuracy: 0.8650\n",
            "Epoch 69/80\n",
            "800/800 [==============================] - 2s 2ms/step - loss: 0.3256 - accuracy: 0.8650\n",
            "Epoch 70/80\n",
            "800/800 [==============================] - 2s 2ms/step - loss: 0.3301 - accuracy: 0.8621\n",
            "Epoch 71/80\n",
            "800/800 [==============================] - 2s 2ms/step - loss: 0.3287 - accuracy: 0.8635\n",
            "Epoch 72/80\n",
            "800/800 [==============================] - 2s 2ms/step - loss: 0.3257 - accuracy: 0.8654\n",
            "Epoch 73/80\n",
            "800/800 [==============================] - 2s 3ms/step - loss: 0.3242 - accuracy: 0.8645\n",
            "Epoch 74/80\n",
            "800/800 [==============================] - 2s 2ms/step - loss: 0.3242 - accuracy: 0.8641\n",
            "Epoch 75/80\n",
            "800/800 [==============================] - 2s 2ms/step - loss: 0.3255 - accuracy: 0.8636\n",
            "Epoch 76/80\n",
            "800/800 [==============================] - 2s 2ms/step - loss: 0.3260 - accuracy: 0.8652\n",
            "Epoch 77/80\n",
            "800/800 [==============================] - 2s 2ms/step - loss: 0.3274 - accuracy: 0.8656\n",
            "Epoch 78/80\n",
            "800/800 [==============================] - 2s 2ms/step - loss: 0.3303 - accuracy: 0.8648\n",
            "Epoch 79/80\n",
            "800/800 [==============================] - 2s 2ms/step - loss: 0.3325 - accuracy: 0.8679\n",
            "Epoch 80/80\n",
            "800/800 [==============================] - 2s 2ms/step - loss: 0.3287 - accuracy: 0.8656\n"
          ]
        }
      ]
    },
    {
      "cell_type": "code",
      "source": [
        "print(network_history.history.keys())"
      ],
      "metadata": {
        "colab": {
          "base_uri": "https://localhost:8080/"
        },
        "id": "t8BRUlZyuKht",
        "outputId": "2c13863f-7baf-479c-c213-7fe74ba51356"
      },
      "execution_count": 20,
      "outputs": [
        {
          "output_type": "stream",
          "name": "stdout",
          "text": [
            "dict_keys(['loss', 'accuracy'])\n"
          ]
        }
      ]
    },
    {
      "cell_type": "code",
      "source": [
        "import matplotlib.pyplot as plt\n",
        "plt.plot(network_history.history['loss'])\n",
        "plt.plot(network_history.history['accuracy'])\n"
      ],
      "metadata": {
        "colab": {
          "base_uri": "https://localhost:8080/",
          "height": 282
        },
        "id": "oDP3-AYmvbkE",
        "outputId": "766dd9dd-1cc2-4edf-814a-26c69736c6c4"
      },
      "execution_count": 21,
      "outputs": [
        {
          "output_type": "execute_result",
          "data": {
            "text/plain": [
              "[<matplotlib.lines.Line2D at 0x7f6a2c077290>]"
            ]
          },
          "metadata": {},
          "execution_count": 21
        },
        {
          "output_type": "display_data",
          "data": {
            "text/plain": [
              "<Figure size 432x288 with 1 Axes>"
            ],
            "image/png": "[encoded data removed]"
          },
          "metadata": {
            "needs_background": "light"
          }
        }
      ]
    },
    {
      "cell_type": "code",
      "source": [
        "y_pred = network.predict(X_test)\n"
      ],
      "metadata": {
        "id": "2fK-Xj97vkj_"
      },
      "execution_count": 22,
      "outputs": []
    },
    {
      "cell_type": "code",
      "source": [
        "y_pred"
      ],
      "metadata": {
        "colab": {
          "base_uri": "https://localhost:8080/"
        },
        "id": "L0dw6wauvriq",
        "outputId": "2b477723-77bc-4e5b-f15c-d836da8a072b"
      },
      "execution_count": 23,
      "outputs": [
        {
          "output_type": "execute_result",
          "data": {
            "text/plain": [
              "array([[0.34073305],\n",
              "       [0.31540516],\n",
              "       [0.10018781],\n",
              "       ...,\n",
              "       [0.2851224 ],\n",
              "       [0.20922886],\n",
              "       [0.18528952]], dtype=float32)"
            ]
          },
          "metadata": {},
          "execution_count": 23
        }
      ]
    },
    {
      "cell_type": "code",
      "source": [
        "y_pred = (y_pred >= 0.5)"
      ],
      "metadata": {
        "id": "ogKgvHemw09K"
      },
      "execution_count": 24,
      "outputs": []
    },
    {
      "cell_type": "code",
      "source": [
        "y_pred"
      ],
      "metadata": {
        "colab": {
          "base_uri": "https://localhost:8080/"
        },
        "id": "HCTYcM-axX1D",
        "outputId": "91f91e37-ba36-4ff7-95ca-8693f0823622"
      },
      "execution_count": 25,
      "outputs": [
        {
          "output_type": "execute_result",
          "data": {
            "text/plain": [
              "array([[False],\n",
              "       [False],\n",
              "       [False],\n",
              "       ...,\n",
              "       [False],\n",
              "       [False],\n",
              "       [False]])"
            ]
          },
          "metadata": {},
          "execution_count": 25
        }
      ]
    },
    {
      "cell_type": "code",
      "source": [
        "from sklearn.metrics import confusion_matrix\n",
        "cm = confusion_matrix(y_test, y_pred)\n",
        "cm"
      ],
      "metadata": {
        "colab": {
          "base_uri": "https://localhost:8080/"
        },
        "id": "9L6md273xbpM",
        "outputId": "b93d9a8b-b4a1-4253-f8b0-b3a5dda9a0e8"
      },
      "execution_count": 26,
      "outputs": [
        {
          "output_type": "execute_result",
          "data": {
            "text/plain": [
              "array([[1487,  108],\n",
              "       [ 175,  230]])"
            ]
          },
          "metadata": {},
          "execution_count": 26
        }
      ]
    },
    {
      "cell_type": "code",
      "source": [
        "from sklearn.metrics import accuracy_score\n",
        "score=accuracy_score(y_pred,y_test)"
      ],
      "metadata": {
        "id": "Lk-6HOIRxjQ5"
      },
      "execution_count": 27,
      "outputs": []
    },
    {
      "cell_type": "code",
      "source": [
        "score"
      ],
      "metadata": {
        "colab": {
          "base_uri": "https://localhost:8080/"
        },
        "id": "OOSaUfD1xmPq",
        "outputId": "1b28a770-1366-4caf-dc6b-4d48fda662cc"
      },
      "execution_count": 28,
      "outputs": [
        {
          "output_type": "execute_result",
          "data": {
            "text/plain": [
              "0.8585"
            ]
          },
          "metadata": {},
          "execution_count": 28
        }
      ]
    },
    {
      "cell_type": "markdown",
      "source": [
        "#Try back propogation"
      ],
      "metadata": {
        "id": "JlcTORBZOtPp"
      }
    },
    {
      "cell_type": "code",
      "source": [
        "data.head()"
      ],
      "metadata": {
        "colab": {
          "base_uri": "https://localhost:8080/",
          "height": 270
        },
        "id": "wCVIdwPOxnzB",
        "outputId": "90c0b300-6a31-4b1d-8379-ec4dcf5e638a"
      },
      "execution_count": 29,
      "outputs": [
        {
          "output_type": "execute_result",
          "data": {
            "text/plain": [
              "   RowNumber  CustomerId   Surname  CreditScore Geography  Gender  Age  \\\n",
              "0          1    15634602  Hargrave          619    France  Female   42   \n",
              "1          2    15647311      Hill          608     Spain  Female   41   \n",
              "2          3    15619304      Onio          502    France  Female   42   \n",
              "3          4    15701354      Boni          699    France  Female   39   \n",
              "4          5    15737888  Mitchell          850     Spain  Female   43   \n",
              "\n",
              "   Tenure    Balance  NumOfProducts  HasCrCard  IsActiveMember  \\\n",
              "0       2       0.00              1          1               1   \n",
              "1       1   83807.86              1          0               1   \n",
              "2       8  159660.80              3          1               0   \n",
              "3       1       0.00              2          0               0   \n",
              "4       2  125510.82              1          1               1   \n",
              "\n",
              "   EstimatedSalary  Exited  \n",
              "0        101348.88       1  \n",
              "1        112542.58       0  \n",
              "2        113931.57       1  \n",
              "3         93826.63       0  \n",
              "4         79084.10       0  "
            ],
            "text/html": [
              "\n",
              "  <div id=\"df-1b78a071-6491-40c2-8552-fb0d568bd502\">\n",
              "    <div class=\"colab-df-container\">\n",
              "      <div>\n",
              "<style scoped>\n",
              "    .dataframe tbody tr th:only-of-type {\n",
              "        vertical-align: middle;\n",
              "    }\n",
              "\n",
              "    .dataframe tbody tr th {\n",
              "        vertical-align: top;\n",
              "    }\n",
              "\n",
              "    .dataframe thead th {\n",
              "        text-align: right;\n",
              "    }\n",
              "</style>\n",
              "<table border=\"1\" class=\"dataframe\">\n",
              "  <thead>\n",
              "    <tr style=\"text-align: right;\">\n",
              "      <th></th>\n",
              "      <th>RowNumber</th>\n",
              "      <th>CustomerId</th>\n",
              "      <th>Surname</th>\n",
              "      <th>CreditScore</th>\n",
              "      <th>Geography</th>\n",
              "      <th>Gender</th>\n",
              "      <th>Age</th>\n",
              "      <th>Tenure</th>\n",
              "      <th>Balance</th>\n",
              "      <th>NumOfProducts</th>\n",
              "      <th>HasCrCard</th>\n",
              "      <th>IsActiveMember</th>\n",
              "      <th>EstimatedSalary</th>\n",
              "      <th>Exited</th>\n",
              "    </tr>\n",
              "  </thead>\n",
              "  <tbody>\n",
              "    <tr>\n",
              "      <th>0</th>\n",
              "      <td>1</td>\n",
              "      <td>15634602</td>\n",
              "      <td>Hargrave</td>\n",
              "      <td>619</td>\n",
              "      <td>France</td>\n",
              "      <td>Female</td>\n",
              "      <td>42</td>\n",
              "      <td>2</td>\n",
              "      <td>0.00</td>\n",
              "      <td>1</td>\n",
              "      <td>1</td>\n",
              "      <td>1</td>\n",
              "      <td>101348.88</td>\n",
              "      <td>1</td>\n",
              "    </tr>\n",
              "    <tr>\n",
              "      <th>1</th>\n",
              "      <td>2</td>\n",
              "      <td>15647311</td>\n",
              "      <td>Hill</td>\n",
              "      <td>608</td>\n",
              "      <td>Spain</td>\n",
              "      <td>Female</td>\n",
              "      <td>41</td>\n",
              "      <td>1</td>\n",
              "      <td>83807.86</td>\n",
              "      <td>1</td>\n",
              "      <td>0</td>\n",
              "      <td>1</td>\n",
              "      <td>112542.58</td>\n",
              "      <td>0</td>\n",
              "    </tr>\n",
              "    <tr>\n",
              "      <th>2</th>\n",
              "      <td>3</td>\n",
              "      <td>15619304</td>\n",
              "      <td>Onio</td>\n",
              "      <td>502</td>\n",
              "      <td>France</td>\n",
              "      <td>Female</td>\n",
              "      <td>42</td>\n",
              "      <td>8</td>\n",
              "      <td>159660.80</td>\n",
              "      <td>3</td>\n",
              "      <td>1</td>\n",
              "      <td>0</td>\n",
              "      <td>113931.57</td>\n",
              "      <td>1</td>\n",
              "    </tr>\n",
              "    <tr>\n",
              "      <th>3</th>\n",
              "      <td>4</td>\n",
              "      <td>15701354</td>\n",
              "      <td>Boni</td>\n",
              "      <td>699</td>\n",
              "      <td>France</td>\n",
              "      <td>Female</td>\n",
              "      <td>39</td>\n",
              "      <td>1</td>\n",
              "      <td>0.00</td>\n",
              "      <td>2</td>\n",
              "      <td>0</td>\n",
              "      <td>0</td>\n",
              "      <td>93826.63</td>\n",
              "      <td>0</td>\n",
              "    </tr>\n",
              "    <tr>\n",
              "      <th>4</th>\n",
              "      <td>5</td>\n",
              "      <td>15737888</td>\n",
              "      <td>Mitchell</td>\n",
              "      <td>850</td>\n",
              "      <td>Spain</td>\n",
              "      <td>Female</td>\n",
              "      <td>43</td>\n",
              "      <td>2</td>\n",
              "      <td>125510.82</td>\n",
              "      <td>1</td>\n",
              "      <td>1</td>\n",
              "      <td>1</td>\n",
              "      <td>79084.10</td>\n",
              "      <td>0</td>\n",
              "    </tr>\n",
              "  </tbody>\n",
              "</table>\n",
              "</div>\n",
              "      <button class=\"colab-df-convert\" onclick=\"convertToInteractive('df-1b78a071-6491-40c2-8552-fb0d568bd502')\"\n",
              "              title=\"Convert this dataframe to an interactive table.\"\n",
              "              style=\"display:none;\">\n",
              "        \n",
              "  <svg xmlns=\"http://www.w3.org/2000/svg\" height=\"24px\"viewBox=\"0 0 24 24\"\n",
              "       width=\"24px\">\n",
              "    <path d=\"M0 0h24v24H0V0z\" fill=\"none\"/>\n",
              "    <path d=\"M18.56 5.44l.94 2.06.94-2.06 2.06-.94-2.06-.94-.94-2.06-.94 2.06-2.06.94zm-11 1L8.5 8.5l.94-2.06 2.06-.94-2.06-.94L8.5 2.5l-.94 2.06-2.06.94zm10 10l.94 2.06.94-2.06 2.06-.94-2.06-.94-.94-2.06-.94 2.06-2.06.94z\"/><path d=\"M17.41 7.96l-1.37-1.37c-.4-.4-.92-.59-1.43-.59-.52 0-1.04.2-1.43.59L10.3 9.45l-7.72 7.72c-.78.78-.78 2.05 0 2.83L4 21.41c.39.39.9.59 1.41.59.51 0 1.02-.2 1.41-.59l7.78-7.78 2.81-2.81c.8-.78.8-2.07 0-2.86zM5.41 20L4 18.59l7.72-7.72 1.47 1.35L5.41 20z\"/>\n",
              "  </svg>\n",
              "      </button>\n",
              "      \n",
              "  <style>\n",
              "    .colab-df-container {\n",
              "      display:flex;\n",
              "      flex-wrap:wrap;\n",
              "      gap: 12px;\n",
              "    }\n",
              "\n",
              "    .colab-df-convert {\n",
              "      background-color: #E8F0FE;\n",
              "      border: none;\n",
              "      border-radius: 50%;\n",
              "      cursor: pointer;\n",
              "      display: none;\n",
              "      fill: #1967D2;\n",
              "      height: 32px;\n",
              "      padding: 0 0 0 0;\n",
              "      width: 32px;\n",
              "    }\n",
              "\n",
              "    .colab-df-convert:hover {\n",
              "      background-color: #E2EBFA;\n",
              "      box-shadow: 0px 1px 2px rgba(60, 64, 67, 0.3), 0px 1px 3px 1px rgba(60, 64, 67, 0.15);\n",
              "      fill: #174EA6;\n",
              "    }\n",
              "\n",
              "    [theme=dark] .colab-df-convert {\n",
              "      background-color: #3B4455;\n",
              "      fill: #D2E3FC;\n",
              "    }\n",
              "\n",
              "    [theme=dark] .colab-df-convert:hover {\n",
              "      background-color: #434B5C;\n",
              "      box-shadow: 0px 1px 3px 1px rgba(0, 0, 0, 0.15);\n",
              "      filter: drop-shadow(0px 1px 2px rgba(0, 0, 0, 0.3));\n",
              "      fill: #FFFFFF;\n",
              "    }\n",
              "  </style>\n",
              "\n",
              "      <script>\n",
              "        const buttonEl =\n",
              "          document.querySelector('#df-1b78a071-6491-40c2-8552-fb0d568bd502 button.colab-df-convert');\n",
              "        buttonEl.style.display =\n",
              "          google.colab.kernel.accessAllowed ? 'block' : 'none';\n",
              "\n",
              "        async function convertToInteractive(key) {\n",
              "          const element = document.querySelector('#df-1b78a071-6491-40c2-8552-fb0d568bd502');\n",
              "          const dataTable =\n",
              "            await google.colab.kernel.invokeFunction('convertToInteractive',\n",
              "                                                     [key], {});\n",
              "          if (!dataTable) return;\n",
              "\n",
              "          const docLinkHtml = 'Like what you see? Visit the ' +\n",
              "            '<a target=\"_blank\" href=https://colab.research.google.com/notebooks/data_table.ipynb>data table notebook</a>'\n",
              "            + ' to learn more about interactive tables.';\n",
              "          element.innerHTML = '';\n",
              "          dataTable['output_type'] = 'display_data';\n",
              "          await google.colab.output.renderOutput(dataTable, element);\n",
              "          const docLink = document.createElement('div');\n",
              "          docLink.innerHTML = docLinkHtml;\n",
              "          element.appendChild(docLink);\n",
              "        }\n",
              "      </script>\n",
              "    </div>\n",
              "  </div>\n",
              "  "
            ]
          },
          "metadata": {},
          "execution_count": 29
        }
      ]
    },
    {
      "cell_type": "code",
      "source": [
        "num_data = data.select_dtypes(include = 'int64')"
      ],
      "metadata": {
        "id": "3JVnl5mmOBH4"
      },
      "execution_count": 30,
      "outputs": []
    },
    {
      "cell_type": "code",
      "source": [
        "num_data.head()"
      ],
      "metadata": {
        "colab": {
          "base_uri": "https://localhost:8080/",
          "height": 206
        },
        "id": "5UUuA_aROPVc",
        "outputId": "244695b7-eb97-480c-d1ee-04f12e0b755c"
      },
      "execution_count": 31,
      "outputs": [
        {
          "output_type": "execute_result",
          "data": {
            "text/plain": [
              "   RowNumber  CustomerId  CreditScore  Age  Tenure  NumOfProducts  HasCrCard  \\\n",
              "0          1    15634602          619   42       2              1          1   \n",
              "1          2    15647311          608   41       1              1          0   \n",
              "2          3    15619304          502   42       8              3          1   \n",
              "3          4    15701354          699   39       1              2          0   \n",
              "4          5    15737888          850   43       2              1          1   \n",
              "\n",
              "   IsActiveMember  Exited  \n",
              "0               1       1  \n",
              "1               1       0  \n",
              "2               0       1  \n",
              "3               0       0  \n",
              "4               1       0  "
            ],
            "text/html": [
              "\n",
              "  <div id=\"df-6f71a9b0-8d7b-4b5c-be36-33c6b85fa919\">\n",
              "    <div class=\"colab-df-container\">\n",
              "      <div>\n",
              "<style scoped>\n",
              "    .dataframe tbody tr th:only-of-type {\n",
              "        vertical-align: middle;\n",
              "    }\n",
              "\n",
              "    .dataframe tbody tr th {\n",
              "        vertical-align: top;\n",
              "    }\n",
              "\n",
              "    .dataframe thead th {\n",
              "        text-align: right;\n",
              "    }\n",
              "</style>\n",
              "<table border=\"1\" class=\"dataframe\">\n",
              "  <thead>\n",
              "    <tr style=\"text-align: right;\">\n",
              "      <th></th>\n",
              "      <th>RowNumber</th>\n",
              "      <th>CustomerId</th>\n",
              "      <th>CreditScore</th>\n",
              "      <th>Age</th>\n",
              "      <th>Tenure</th>\n",
              "      <th>NumOfProducts</th>\n",
              "      <th>HasCrCard</th>\n",
              "      <th>IsActiveMember</th>\n",
              "      <th>Exited</th>\n",
              "    </tr>\n",
              "  </thead>\n",
              "  <tbody>\n",
              "    <tr>\n",
              "      <th>0</th>\n",
              "      <td>1</td>\n",
              "      <td>15634602</td>\n",
              "      <td>619</td>\n",
              "      <td>42</td>\n",
              "      <td>2</td>\n",
              "      <td>1</td>\n",
              "      <td>1</td>\n",
              "      <td>1</td>\n",
              "      <td>1</td>\n",
              "    </tr>\n",
              "    <tr>\n",
              "      <th>1</th>\n",
              "      <td>2</td>\n",
              "      <td>15647311</td>\n",
              "      <td>608</td>\n",
              "      <td>41</td>\n",
              "      <td>1</td>\n",
              "      <td>1</td>\n",
              "      <td>0</td>\n",
              "      <td>1</td>\n",
              "      <td>0</td>\n",
              "    </tr>\n",
              "    <tr>\n",
              "      <th>2</th>\n",
              "      <td>3</td>\n",
              "      <td>15619304</td>\n",
              "      <td>502</td>\n",
              "      <td>42</td>\n",
              "      <td>8</td>\n",
              "      <td>3</td>\n",
              "      <td>1</td>\n",
              "      <td>0</td>\n",
              "      <td>1</td>\n",
              "    </tr>\n",
              "    <tr>\n",
              "      <th>3</th>\n",
              "      <td>4</td>\n",
              "      <td>15701354</td>\n",
              "      <td>699</td>\n",
              "      <td>39</td>\n",
              "      <td>1</td>\n",
              "      <td>2</td>\n",
              "      <td>0</td>\n",
              "      <td>0</td>\n",
              "      <td>0</td>\n",
              "    </tr>\n",
              "    <tr>\n",
              "      <th>4</th>\n",
              "      <td>5</td>\n",
              "      <td>15737888</td>\n",
              "      <td>850</td>\n",
              "      <td>43</td>\n",
              "      <td>2</td>\n",
              "      <td>1</td>\n",
              "      <td>1</td>\n",
              "      <td>1</td>\n",
              "      <td>0</td>\n",
              "    </tr>\n",
              "  </tbody>\n",
              "</table>\n",
              "</div>\n",
              "      <button class=\"colab-df-convert\" onclick=\"convertToInteractive('df-6f71a9b0-8d7b-4b5c-be36-33c6b85fa919')\"\n",
              "              title=\"Convert this dataframe to an interactive table.\"\n",
              "              style=\"display:none;\">\n",
              "        \n",
              "  <svg xmlns=\"http://www.w3.org/2000/svg\" height=\"24px\"viewBox=\"0 0 24 24\"\n",
              "       width=\"24px\">\n",
              "    <path d=\"M0 0h24v24H0V0z\" fill=\"none\"/>\n",
              "    <path d=\"M18.56 5.44l.94 2.06.94-2.06 2.06-.94-2.06-.94-.94-2.06-.94 2.06-2.06.94zm-11 1L8.5 8.5l.94-2.06 2.06-.94-2.06-.94L8.5 2.5l-.94 2.06-2.06.94zm10 10l.94 2.06.94-2.06 2.06-.94-2.06-.94-.94-2.06-.94 2.06-2.06.94z\"/><path d=\"M17.41 7.96l-1.37-1.37c-.4-.4-.92-.59-1.43-.59-.52 0-1.04.2-1.43.59L10.3 9.45l-7.72 7.72c-.78.78-.78 2.05 0 2.83L4 21.41c.39.39.9.59 1.41.59.51 0 1.02-.2 1.41-.59l7.78-7.78 2.81-2.81c.8-.78.8-2.07 0-2.86zM5.41 20L4 18.59l7.72-7.72 1.47 1.35L5.41 20z\"/>\n",
              "  </svg>\n",
              "      </button>\n",
              "      \n",
              "  <style>\n",
              "    .colab-df-container {\n",
              "      display:flex;\n",
              "      flex-wrap:wrap;\n",
              "      gap: 12px;\n",
              "    }\n",
              "\n",
              "    .colab-df-convert {\n",
              "      background-color: #E8F0FE;\n",
              "      border: none;\n",
              "      border-radius: 50%;\n",
              "      cursor: pointer;\n",
              "      display: none;\n",
              "      fill: #1967D2;\n",
              "      height: 32px;\n",
              "      padding: 0 0 0 0;\n",
              "      width: 32px;\n",
              "    }\n",
              "\n",
              "    .colab-df-convert:hover {\n",
              "      background-color: #E2EBFA;\n",
              "      box-shadow: 0px 1px 2px rgba(60, 64, 67, 0.3), 0px 1px 3px 1px rgba(60, 64, 67, 0.15);\n",
              "      fill: #174EA6;\n",
              "    }\n",
              "\n",
              "    [theme=dark] .colab-df-convert {\n",
              "      background-color: #3B4455;\n",
              "      fill: #D2E3FC;\n",
              "    }\n",
              "\n",
              "    [theme=dark] .colab-df-convert:hover {\n",
              "      background-color: #434B5C;\n",
              "      box-shadow: 0px 1px 3px 1px rgba(0, 0, 0, 0.15);\n",
              "      filter: drop-shadow(0px 1px 2px rgba(0, 0, 0, 0.3));\n",
              "      fill: #FFFFFF;\n",
              "    }\n",
              "  </style>\n",
              "\n",
              "      <script>\n",
              "        const buttonEl =\n",
              "          document.querySelector('#df-6f71a9b0-8d7b-4b5c-be36-33c6b85fa919 button.colab-df-convert');\n",
              "        buttonEl.style.display =\n",
              "          google.colab.kernel.accessAllowed ? 'block' : 'none';\n",
              "\n",
              "        async function convertToInteractive(key) {\n",
              "          const element = document.querySelector('#df-6f71a9b0-8d7b-4b5c-be36-33c6b85fa919');\n",
              "          const dataTable =\n",
              "            await google.colab.kernel.invokeFunction('convertToInteractive',\n",
              "                                                     [key], {});\n",
              "          if (!dataTable) return;\n",
              "\n",
              "          const docLinkHtml = 'Like what you see? Visit the ' +\n",
              "            '<a target=\"_blank\" href=https://colab.research.google.com/notebooks/data_table.ipynb>data table notebook</a>'\n",
              "            + ' to learn more about interactive tables.';\n",
              "          element.innerHTML = '';\n",
              "          dataTable['output_type'] = 'display_data';\n",
              "          await google.colab.output.renderOutput(dataTable, element);\n",
              "          const docLink = document.createElement('div');\n",
              "          docLink.innerHTML = docLinkHtml;\n",
              "          element.appendChild(docLink);\n",
              "        }\n",
              "      </script>\n",
              "    </div>\n",
              "  </div>\n",
              "  "
            ]
          },
          "metadata": {},
          "execution_count": 31
        }
      ]
    },
    {
      "cell_type": "code",
      "source": [
        "x_2 = num_data.iloc[:,2:-1].values\n",
        "x_2"
      ],
      "metadata": {
        "colab": {
          "base_uri": "https://localhost:8080/"
        },
        "id": "chN3k3LfOWLH",
        "outputId": "d4823ecd-f758-475a-e726-8015f0dd69b8"
      },
      "execution_count": 32,
      "outputs": [
        {
          "output_type": "execute_result",
          "data": {
            "text/plain": [
              "array([[619,  42,   2,   1,   1,   1],\n",
              "       [608,  41,   1,   1,   0,   1],\n",
              "       [502,  42,   8,   3,   1,   0],\n",
              "       ...,\n",
              "       [709,  36,   7,   1,   0,   1],\n",
              "       [772,  42,   3,   2,   1,   0],\n",
              "       [792,  28,   4,   1,   1,   0]])"
            ]
          },
          "metadata": {},
          "execution_count": 32
        }
      ]
    },
    {
      "cell_type": "code",
      "source": [
        "X_train2, X_test2, y_train2, y_test2 = train_test_split(x_2, y, test_size = 0.2, random_state = 0)"
      ],
      "metadata": {
        "id": "EGGbPpzSO8Jj"
      },
      "execution_count": 33,
      "outputs": []
    },
    {
      "cell_type": "code",
      "source": [
        "from sklearn.feature_selection import SelectKBest\n",
        "from sklearn.feature_selection import f_classif"
      ],
      "metadata": {
        "id": "a2kduE60Pv3u"
      },
      "execution_count": 34,
      "outputs": []
    },
    {
      "cell_type": "code",
      "source": [
        "def select_features(X_train, y_train, X_test):\n",
        "\t# configure to select all features\n",
        "\tfs = SelectKBest(score_func=f_classif, k='all')\n",
        "\t# learn relationship from training data\n",
        "\tfs.fit(X_train, y_train)\n",
        "\t# transform train input data\n",
        "\tX_train_fs = fs.transform(X_train)\n",
        "\t# transform test input data\n",
        "\tX_test_fs = fs.transform(X_test)\n",
        "\treturn fs"
      ],
      "metadata": {
        "id": "X-k8l1w6PQm2"
      },
      "execution_count": 35,
      "outputs": []
    },
    {
      "cell_type": "code",
      "source": [
        "fs = select_features(X_train2, y_train2, X_test2)\n",
        "# what are scores for the features\n",
        "for i in range(len(fs.scores_)):\n",
        "\tprint('Feature %d: %f' % (i, fs.scores_[i]))"
      ],
      "metadata": {
        "colab": {
          "base_uri": "https://localhost:8080/"
        },
        "id": "_9WDPoFuPYog",
        "outputId": "fcb0c877-633c-4b47-e20c-7becb4979e95"
      },
      "execution_count": 36,
      "outputs": [
        {
          "output_type": "stream",
          "name": "stdout",
          "text": [
            "Feature 0: 6.573741\n",
            "Feature 1: 702.454414\n",
            "Feature 2: 5.471022\n",
            "Feature 3: 23.052811\n",
            "Feature 4: 1.212126\n",
            "Feature 5: 186.048700\n"
          ]
        }
      ]
    },
    {
      "cell_type": "code",
      "source": [
        "x_2[:,[1,3,5]]"
      ],
      "metadata": {
        "colab": {
          "base_uri": "https://localhost:8080/"
        },
        "id": "ijJwaHYnQm5U",
        "outputId": "aab22626-beac-493a-cc9d-ca9f371de254"
      },
      "execution_count": 37,
      "outputs": [
        {
          "output_type": "execute_result",
          "data": {
            "text/plain": [
              "array([[42,  1,  1],\n",
              "       [41,  1,  1],\n",
              "       [42,  3,  0],\n",
              "       ...,\n",
              "       [36,  1,  1],\n",
              "       [42,  2,  0],\n",
              "       [28,  1,  0]])"
            ]
          },
          "metadata": {},
          "execution_count": 37
        }
      ]
    },
    {
      "cell_type": "code",
      "source": [
        "num_data.head()"
      ],
      "metadata": {
        "colab": {
          "base_uri": "https://localhost:8080/",
          "height": 206
        },
        "id": "n45MXrOvRVgK",
        "outputId": "738ffeb3-cdd8-456b-9148-bc4c8cc46db9"
      },
      "execution_count": 38,
      "outputs": [
        {
          "output_type": "execute_result",
          "data": {
            "text/plain": [
              "   RowNumber  CustomerId  CreditScore  Age  Tenure  NumOfProducts  HasCrCard  \\\n",
              "0          1    15634602          619   42       2              1          1   \n",
              "1          2    15647311          608   41       1              1          0   \n",
              "2          3    15619304          502   42       8              3          1   \n",
              "3          4    15701354          699   39       1              2          0   \n",
              "4          5    15737888          850   43       2              1          1   \n",
              "\n",
              "   IsActiveMember  Exited  \n",
              "0               1       1  \n",
              "1               1       0  \n",
              "2               0       1  \n",
              "3               0       0  \n",
              "4               1       0  "
            ],
            "text/html": [
              "\n",
              "  <div id=\"df-9ec6c806-57ae-4d63-9640-e342d99796d3\">\n",
              "    <div class=\"colab-df-container\">\n",
              "      <div>\n",
              "<style scoped>\n",
              "    .dataframe tbody tr th:only-of-type {\n",
              "        vertical-align: middle;\n",
              "    }\n",
              "\n",
              "    .dataframe tbody tr th {\n",
              "        vertical-align: top;\n",
              "    }\n",
              "\n",
              "    .dataframe thead th {\n",
              "        text-align: right;\n",
              "    }\n",
              "</style>\n",
              "<table border=\"1\" class=\"dataframe\">\n",
              "  <thead>\n",
              "    <tr style=\"text-align: right;\">\n",
              "      <th></th>\n",
              "      <th>RowNumber</th>\n",
              "      <th>CustomerId</th>\n",
              "      <th>CreditScore</th>\n",
              "      <th>Age</th>\n",
              "      <th>Tenure</th>\n",
              "      <th>NumOfProducts</th>\n",
              "      <th>HasCrCard</th>\n",
              "      <th>IsActiveMember</th>\n",
              "      <th>Exited</th>\n",
              "    </tr>\n",
              "  </thead>\n",
              "  <tbody>\n",
              "    <tr>\n",
              "      <th>0</th>\n",
              "      <td>1</td>\n",
              "      <td>15634602</td>\n",
              "      <td>619</td>\n",
              "      <td>42</td>\n",
              "      <td>2</td>\n",
              "      <td>1</td>\n",
              "      <td>1</td>\n",
              "      <td>1</td>\n",
              "      <td>1</td>\n",
              "    </tr>\n",
              "    <tr>\n",
              "      <th>1</th>\n",
              "      <td>2</td>\n",
              "      <td>15647311</td>\n",
              "      <td>608</td>\n",
              "      <td>41</td>\n",
              "      <td>1</td>\n",
              "      <td>1</td>\n",
              "      <td>0</td>\n",
              "      <td>1</td>\n",
              "      <td>0</td>\n",
              "    </tr>\n",
              "    <tr>\n",
              "      <th>2</th>\n",
              "      <td>3</td>\n",
              "      <td>15619304</td>\n",
              "      <td>502</td>\n",
              "      <td>42</td>\n",
              "      <td>8</td>\n",
              "      <td>3</td>\n",
              "      <td>1</td>\n",
              "      <td>0</td>\n",
              "      <td>1</td>\n",
              "    </tr>\n",
              "    <tr>\n",
              "      <th>3</th>\n",
              "      <td>4</td>\n",
              "      <td>15701354</td>\n",
              "      <td>699</td>\n",
              "      <td>39</td>\n",
              "      <td>1</td>\n",
              "      <td>2</td>\n",
              "      <td>0</td>\n",
              "      <td>0</td>\n",
              "      <td>0</td>\n",
              "    </tr>\n",
              "    <tr>\n",
              "      <th>4</th>\n",
              "      <td>5</td>\n",
              "      <td>15737888</td>\n",
              "      <td>850</td>\n",
              "      <td>43</td>\n",
              "      <td>2</td>\n",
              "      <td>1</td>\n",
              "      <td>1</td>\n",
              "      <td>1</td>\n",
              "      <td>0</td>\n",
              "    </tr>\n",
              "  </tbody>\n",
              "</table>\n",
              "</div>\n",
              "      <button class=\"colab-df-convert\" onclick=\"convertToInteractive('df-9ec6c806-57ae-4d63-9640-e342d99796d3')\"\n",
              "              title=\"Convert this dataframe to an interactive table.\"\n",
              "              style=\"display:none;\">\n",
              "        \n",
              "  <svg xmlns=\"http://www.w3.org/2000/svg\" height=\"24px\"viewBox=\"0 0 24 24\"\n",
              "       width=\"24px\">\n",
              "    <path d=\"M0 0h24v24H0V0z\" fill=\"none\"/>\n",
              "    <path d=\"M18.56 5.44l.94 2.06.94-2.06 2.06-.94-2.06-.94-.94-2.06-.94 2.06-2.06.94zm-11 1L8.5 8.5l.94-2.06 2.06-.94-2.06-.94L8.5 2.5l-.94 2.06-2.06.94zm10 10l.94 2.06.94-2.06 2.06-.94-2.06-.94-.94-2.06-.94 2.06-2.06.94z\"/><path d=\"M17.41 7.96l-1.37-1.37c-.4-.4-.92-.59-1.43-.59-.52 0-1.04.2-1.43.59L10.3 9.45l-7.72 7.72c-.78.78-.78 2.05 0 2.83L4 21.41c.39.39.9.59 1.41.59.51 0 1.02-.2 1.41-.59l7.78-7.78 2.81-2.81c.8-.78.8-2.07 0-2.86zM5.41 20L4 18.59l7.72-7.72 1.47 1.35L5.41 20z\"/>\n",
              "  </svg>\n",
              "      </button>\n",
              "      \n",
              "  <style>\n",
              "    .colab-df-container {\n",
              "      display:flex;\n",
              "      flex-wrap:wrap;\n",
              "      gap: 12px;\n",
              "    }\n",
              "\n",
              "    .colab-df-convert {\n",
              "      background-color: #E8F0FE;\n",
              "      border: none;\n",
              "      border-radius: 50%;\n",
              "      cursor: pointer;\n",
              "      display: none;\n",
              "      fill: #1967D2;\n",
              "      height: 32px;\n",
              "      padding: 0 0 0 0;\n",
              "      width: 32px;\n",
              "    }\n",
              "\n",
              "    .colab-df-convert:hover {\n",
              "      background-color: #E2EBFA;\n",
              "      box-shadow: 0px 1px 2px rgba(60, 64, 67, 0.3), 0px 1px 3px 1px rgba(60, 64, 67, 0.15);\n",
              "      fill: #174EA6;\n",
              "    }\n",
              "\n",
              "    [theme=dark] .colab-df-convert {\n",
              "      background-color: #3B4455;\n",
              "      fill: #D2E3FC;\n",
              "    }\n",
              "\n",
              "    [theme=dark] .colab-df-convert:hover {\n",
              "      background-color: #434B5C;\n",
              "      box-shadow: 0px 1px 3px 1px rgba(0, 0, 0, 0.15);\n",
              "      filter: drop-shadow(0px 1px 2px rgba(0, 0, 0, 0.3));\n",
              "      fill: #FFFFFF;\n",
              "    }\n",
              "  </style>\n",
              "\n",
              "      <script>\n",
              "        const buttonEl =\n",
              "          document.querySelector('#df-9ec6c806-57ae-4d63-9640-e342d99796d3 button.colab-df-convert');\n",
              "        buttonEl.style.display =\n",
              "          google.colab.kernel.accessAllowed ? 'block' : 'none';\n",
              "\n",
              "        async function convertToInteractive(key) {\n",
              "          const element = document.querySelector('#df-9ec6c806-57ae-4d63-9640-e342d99796d3');\n",
              "          const dataTable =\n",
              "            await google.colab.kernel.invokeFunction('convertToInteractive',\n",
              "                                                     [key], {});\n",
              "          if (!dataTable) return;\n",
              "\n",
              "          const docLinkHtml = 'Like what you see? Visit the ' +\n",
              "            '<a target=\"_blank\" href=https://colab.research.google.com/notebooks/data_table.ipynb>data table notebook</a>'\n",
              "            + ' to learn more about interactive tables.';\n",
              "          element.innerHTML = '';\n",
              "          dataTable['output_type'] = 'display_data';\n",
              "          await google.colab.output.renderOutput(dataTable, element);\n",
              "          const docLink = document.createElement('div');\n",
              "          docLink.innerHTML = docLinkHtml;\n",
              "          element.appendChild(docLink);\n",
              "        }\n",
              "      </script>\n",
              "    </div>\n",
              "  </div>\n",
              "  "
            ]
          },
          "metadata": {},
          "execution_count": 38
        }
      ]
    },
    {
      "cell_type": "code",
      "source": [
        "data.head()"
      ],
      "metadata": {
        "colab": {
          "base_uri": "https://localhost:8080/",
          "height": 270
        },
        "id": "-TWanNv4SfTU",
        "outputId": "95ca3604-96a3-4d16-ca5e-1d8a8631410e"
      },
      "execution_count": 39,
      "outputs": [
        {
          "output_type": "execute_result",
          "data": {
            "text/plain": [
              "   RowNumber  CustomerId   Surname  CreditScore Geography  Gender  Age  \\\n",
              "0          1    15634602  Hargrave          619    France  Female   42   \n",
              "1          2    15647311      Hill          608     Spain  Female   41   \n",
              "2          3    15619304      Onio          502    France  Female   42   \n",
              "3          4    15701354      Boni          699    France  Female   39   \n",
              "4          5    15737888  Mitchell          850     Spain  Female   43   \n",
              "\n",
              "   Tenure    Balance  NumOfProducts  HasCrCard  IsActiveMember  \\\n",
              "0       2       0.00              1          1               1   \n",
              "1       1   83807.86              1          0               1   \n",
              "2       8  159660.80              3          1               0   \n",
              "3       1       0.00              2          0               0   \n",
              "4       2  125510.82              1          1               1   \n",
              "\n",
              "   EstimatedSalary  Exited  \n",
              "0        101348.88       1  \n",
              "1        112542.58       0  \n",
              "2        113931.57       1  \n",
              "3         93826.63       0  \n",
              "4         79084.10       0  "
            ],
            "text/html": [
              "\n",
              "  <div id=\"df-de7a92a8-eaf0-4c0b-ab48-ce8ba1da26a8\">\n",
              "    <div class=\"colab-df-container\">\n",
              "      <div>\n",
              "<style scoped>\n",
              "    .dataframe tbody tr th:only-of-type {\n",
              "        vertical-align: middle;\n",
              "    }\n",
              "\n",
              "    .dataframe tbody tr th {\n",
              "        vertical-align: top;\n",
              "    }\n",
              "\n",
              "    .dataframe thead th {\n",
              "        text-align: right;\n",
              "    }\n",
              "</style>\n",
              "<table border=\"1\" class=\"dataframe\">\n",
              "  <thead>\n",
              "    <tr style=\"text-align: right;\">\n",
              "      <th></th>\n",
              "      <th>RowNumber</th>\n",
              "      <th>CustomerId</th>\n",
              "      <th>Surname</th>\n",
              "      <th>CreditScore</th>\n",
              "      <th>Geography</th>\n",
              "      <th>Gender</th>\n",
              "      <th>Age</th>\n",
              "      <th>Tenure</th>\n",
              "      <th>Balance</th>\n",
              "      <th>NumOfProducts</th>\n",
              "      <th>HasCrCard</th>\n",
              "      <th>IsActiveMember</th>\n",
              "      <th>EstimatedSalary</th>\n",
              "      <th>Exited</th>\n",
              "    </tr>\n",
              "  </thead>\n",
              "  <tbody>\n",
              "    <tr>\n",
              "      <th>0</th>\n",
              "      <td>1</td>\n",
              "      <td>15634602</td>\n",
              "      <td>Hargrave</td>\n",
              "      <td>619</td>\n",
              "      <td>France</td>\n",
              "      <td>Female</td>\n",
              "      <td>42</td>\n",
              "      <td>2</td>\n",
              "      <td>0.00</td>\n",
              "      <td>1</td>\n",
              "      <td>1</td>\n",
              "      <td>1</td>\n",
              "      <td>101348.88</td>\n",
              "      <td>1</td>\n",
              "    </tr>\n",
              "    <tr>\n",
              "      <th>1</th>\n",
              "      <td>2</td>\n",
              "      <td>15647311</td>\n",
              "      <td>Hill</td>\n",
              "      <td>608</td>\n",
              "      <td>Spain</td>\n",
              "      <td>Female</td>\n",
              "      <td>41</td>\n",
              "      <td>1</td>\n",
              "      <td>83807.86</td>\n",
              "      <td>1</td>\n",
              "      <td>0</td>\n",
              "      <td>1</td>\n",
              "      <td>112542.58</td>\n",
              "      <td>0</td>\n",
              "    </tr>\n",
              "    <tr>\n",
              "      <th>2</th>\n",
              "      <td>3</td>\n",
              "      <td>15619304</td>\n",
              "      <td>Onio</td>\n",
              "      <td>502</td>\n",
              "      <td>France</td>\n",
              "      <td>Female</td>\n",
              "      <td>42</td>\n",
              "      <td>8</td>\n",
              "      <td>159660.80</td>\n",
              "      <td>3</td>\n",
              "      <td>1</td>\n",
              "      <td>0</td>\n",
              "      <td>113931.57</td>\n",
              "      <td>1</td>\n",
              "    </tr>\n",
              "    <tr>\n",
              "      <th>3</th>\n",
              "      <td>4</td>\n",
              "      <td>15701354</td>\n",
              "      <td>Boni</td>\n",
              "      <td>699</td>\n",
              "      <td>France</td>\n",
              "      <td>Female</td>\n",
              "      <td>39</td>\n",
              "      <td>1</td>\n",
              "      <td>0.00</td>\n",
              "      <td>2</td>\n",
              "      <td>0</td>\n",
              "      <td>0</td>\n",
              "      <td>93826.63</td>\n",
              "      <td>0</td>\n",
              "    </tr>\n",
              "    <tr>\n",
              "      <th>4</th>\n",
              "      <td>5</td>\n",
              "      <td>15737888</td>\n",
              "      <td>Mitchell</td>\n",
              "      <td>850</td>\n",
              "      <td>Spain</td>\n",
              "      <td>Female</td>\n",
              "      <td>43</td>\n",
              "      <td>2</td>\n",
              "      <td>125510.82</td>\n",
              "      <td>1</td>\n",
              "      <td>1</td>\n",
              "      <td>1</td>\n",
              "      <td>79084.10</td>\n",
              "      <td>0</td>\n",
              "    </tr>\n",
              "  </tbody>\n",
              "</table>\n",
              "</div>\n",
              "      <button class=\"colab-df-convert\" onclick=\"convertToInteractive('df-de7a92a8-eaf0-4c0b-ab48-ce8ba1da26a8')\"\n",
              "              title=\"Convert this dataframe to an interactive table.\"\n",
              "              style=\"display:none;\">\n",
              "        \n",
              "  <svg xmlns=\"http://www.w3.org/2000/svg\" height=\"24px\"viewBox=\"0 0 24 24\"\n",
              "       width=\"24px\">\n",
              "    <path d=\"M0 0h24v24H0V0z\" fill=\"none\"/>\n",
              "    <path d=\"M18.56 5.44l.94 2.06.94-2.06 2.06-.94-2.06-.94-.94-2.06-.94 2.06-2.06.94zm-11 1L8.5 8.5l.94-2.06 2.06-.94-2.06-.94L8.5 2.5l-.94 2.06-2.06.94zm10 10l.94 2.06.94-2.06 2.06-.94-2.06-.94-.94-2.06-.94 2.06-2.06.94z\"/><path d=\"M17.41 7.96l-1.37-1.37c-.4-.4-.92-.59-1.43-.59-.52 0-1.04.2-1.43.59L10.3 9.45l-7.72 7.72c-.78.78-.78 2.05 0 2.83L4 21.41c.39.39.9.59 1.41.59.51 0 1.02-.2 1.41-.59l7.78-7.78 2.81-2.81c.8-.78.8-2.07 0-2.86zM5.41 20L4 18.59l7.72-7.72 1.47 1.35L5.41 20z\"/>\n",
              "  </svg>\n",
              "      </button>\n",
              "      \n",
              "  <style>\n",
              "    .colab-df-container {\n",
              "      display:flex;\n",
              "      flex-wrap:wrap;\n",
              "      gap: 12px;\n",
              "    }\n",
              "\n",
              "    .colab-df-convert {\n",
              "      background-color: #E8F0FE;\n",
              "      border: none;\n",
              "      border-radius: 50%;\n",
              "      cursor: pointer;\n",
              "      display: none;\n",
              "      fill: #1967D2;\n",
              "      height: 32px;\n",
              "      padding: 0 0 0 0;\n",
              "      width: 32px;\n",
              "    }\n",
              "\n",
              "    .colab-df-convert:hover {\n",
              "      background-color: #E2EBFA;\n",
              "      box-shadow: 0px 1px 2px rgba(60, 64, 67, 0.3), 0px 1px 3px 1px rgba(60, 64, 67, 0.15);\n",
              "      fill: #174EA6;\n",
              "    }\n",
              "\n",
              "    [theme=dark] .colab-df-convert {\n",
              "      background-color: #3B4455;\n",
              "      fill: #D2E3FC;\n",
              "    }\n",
              "\n",
              "    [theme=dark] .colab-df-convert:hover {\n",
              "      background-color: #434B5C;\n",
              "      box-shadow: 0px 1px 3px 1px rgba(0, 0, 0, 0.15);\n",
              "      filter: drop-shadow(0px 1px 2px rgba(0, 0, 0, 0.3));\n",
              "      fill: #FFFFFF;\n",
              "    }\n",
              "  </style>\n",
              "\n",
              "      <script>\n",
              "        const buttonEl =\n",
              "          document.querySelector('#df-de7a92a8-eaf0-4c0b-ab48-ce8ba1da26a8 button.colab-df-convert');\n",
              "        buttonEl.style.display =\n",
              "          google.colab.kernel.accessAllowed ? 'block' : 'none';\n",
              "\n",
              "        async function convertToInteractive(key) {\n",
              "          const element = document.querySelector('#df-de7a92a8-eaf0-4c0b-ab48-ce8ba1da26a8');\n",
              "          const dataTable =\n",
              "            await google.colab.kernel.invokeFunction('convertToInteractive',\n",
              "                                                     [key], {});\n",
              "          if (!dataTable) return;\n",
              "\n",
              "          const docLinkHtml = 'Like what you see? Visit the ' +\n",
              "            '<a target=\"_blank\" href=https://colab.research.google.com/notebooks/data_table.ipynb>data table notebook</a>'\n",
              "            + ' to learn more about interactive tables.';\n",
              "          element.innerHTML = '';\n",
              "          dataTable['output_type'] = 'display_data';\n",
              "          await google.colab.output.renderOutput(dataTable, element);\n",
              "          const docLink = document.createElement('div');\n",
              "          docLink.innerHTML = docLinkHtml;\n",
              "          element.appendChild(docLink);\n",
              "        }\n",
              "      </script>\n",
              "    </div>\n",
              "  </div>\n",
              "  "
            ]
          },
          "metadata": {},
          "execution_count": 39
        }
      ]
    },
    {
      "cell_type": "markdown",
      "source": [
        "456891112"
      ],
      "metadata": {
        "id": "eGwZS2BXTWVv"
      }
    },
    {
      "cell_type": "code",
      "source": [
        "x_2 = data.iloc[:,[4,5,6,8,9,11,12]].values"
      ],
      "metadata": {
        "id": "lci1dwywS8i_"
      },
      "execution_count": 40,
      "outputs": []
    },
    {
      "cell_type": "code",
      "source": [
        "x_2[:,1]"
      ],
      "metadata": {
        "colab": {
          "base_uri": "https://localhost:8080/"
        },
        "id": "OMgNWgV2Tn8E",
        "outputId": "459c9dfe-5b3d-4e70-e2af-36c8771dfeda"
      },
      "execution_count": 41,
      "outputs": [
        {
          "output_type": "execute_result",
          "data": {
            "text/plain": [
              "array(['Female', 'Female', 'Female', ..., 'Female', 'Male', 'Female'],\n",
              "      dtype=object)"
            ]
          },
          "metadata": {},
          "execution_count": 41
        }
      ]
    },
    {
      "cell_type": "code",
      "source": [
        "# Label encoding for gender\n",
        "from sklearn.preprocessing import LabelEncoder\n",
        "column_L = LabelEncoder()\n",
        "x_2[:,1] = column_L.fit_transform(x_2[:,1]) "
      ],
      "metadata": {
        "id": "qlnf3PEnTplJ"
      },
      "execution_count": 42,
      "outputs": []
    },
    {
      "cell_type": "code",
      "source": [
        "x_2"
      ],
      "metadata": {
        "colab": {
          "base_uri": "https://localhost:8080/"
        },
        "id": "sRw_TUolT2Ye",
        "outputId": "a72e1df4-3c06-4183-de15-81f5f583747d"
      },
      "execution_count": 43,
      "outputs": [
        {
          "output_type": "execute_result",
          "data": {
            "text/plain": [
              "array([['France', 0, 42, ..., 1, 1, 101348.88],\n",
              "       ['Spain', 0, 41, ..., 1, 1, 112542.58],\n",
              "       ['France', 0, 42, ..., 3, 0, 113931.57],\n",
              "       ...,\n",
              "       ['France', 0, 36, ..., 1, 1, 42085.58],\n",
              "       ['Germany', 1, 42, ..., 2, 0, 92888.52],\n",
              "       ['France', 0, 28, ..., 1, 0, 38190.78]], dtype=object)"
            ]
          },
          "metadata": {},
          "execution_count": 43
        }
      ]
    },
    {
      "cell_type": "code",
      "source": [
        "from os import XATTR_SIZE_MAX\n",
        "from sklearn.compose import ColumnTransformer\n",
        "from sklearn.preprocessing import OneHotEncoder\n",
        "oHe = OneHotEncoder()\n",
        "ct = ColumnTransformer(transformers=[('encode',oHe,[0])],\n",
        "                       remainder='passthrough')\n",
        "x_2 = np.array(ct.fit_transform(x_2))"
      ],
      "metadata": {
        "id": "pbYf2jwWT3JJ"
      },
      "execution_count": 44,
      "outputs": []
    },
    {
      "cell_type": "code",
      "source": [
        "x_2.shape"
      ],
      "metadata": {
        "colab": {
          "base_uri": "https://localhost:8080/"
        },
        "id": "V2lTdjw6UWGG",
        "outputId": "be62dc18-cb54-42db-ab47-8cf4997723fe"
      },
      "execution_count": 45,
      "outputs": [
        {
          "output_type": "execute_result",
          "data": {
            "text/plain": [
              "(10000, 9)"
            ]
          },
          "metadata": {},
          "execution_count": 45
        }
      ]
    },
    {
      "cell_type": "code",
      "source": [
        "X_train, X_test, y_train, y_test = train_test_split(x_2, y, test_size = 0.2, random_state = 0)\n"
      ],
      "metadata": {
        "id": "-I7g00TMUXDs"
      },
      "execution_count": 46,
      "outputs": []
    },
    {
      "cell_type": "code",
      "source": [
        "from sklearn.preprocessing import StandardScaler\n",
        "sc = StandardScaler()\n",
        "X_train = sc.fit_transform(X_train)\n",
        "X_test = sc.transform(X_test)"
      ],
      "metadata": {
        "id": "rUZ9ufDNUf1A"
      },
      "execution_count": 47,
      "outputs": []
    },
    {
      "cell_type": "code",
      "source": [
        "X_train.shape"
      ],
      "metadata": {
        "colab": {
          "base_uri": "https://localhost:8080/"
        },
        "id": "49i38CU2UjpB",
        "outputId": "65767d1a-5dc7-40c4-931d-e90eef6eb274"
      },
      "execution_count": 48,
      "outputs": [
        {
          "output_type": "execute_result",
          "data": {
            "text/plain": [
              "(8000, 9)"
            ]
          },
          "metadata": {},
          "execution_count": 48
        }
      ]
    },
    {
      "cell_type": "code",
      "source": [
        "# Initialize ANN network \n",
        "network2 = Sequential()"
      ],
      "metadata": {
        "id": "31W3vsAKUyiR"
      },
      "execution_count": 49,
      "outputs": []
    },
    {
      "cell_type": "code",
      "source": [
        "# Add input layer \n",
        "network2.add(Dense(units=9, activation=\"relu\"))"
      ],
      "metadata": {
        "id": "-Kp3awmiUyiX"
      },
      "execution_count": 50,
      "outputs": []
    },
    {
      "cell_type": "code",
      "source": [
        "# Add hidden first layer\n",
        "network2.add(Dense(units=5, activation='relu'))\n",
        "# Add second hidden layer \n",
        "network2.add(Dense(units=3, activation='relu'))"
      ],
      "metadata": {
        "id": "gK3_8JwiUyiY"
      },
      "execution_count": 51,
      "outputs": []
    },
    {
      "cell_type": "code",
      "source": [
        "# Add output Layer\n",
        "network2.add( Dense( units=1, activation=activations.sigmoid))"
      ],
      "metadata": {
        "id": "7J0-r7glUyiY"
      },
      "execution_count": 52,
      "outputs": []
    },
    {
      "cell_type": "code",
      "source": [
        "# Compile model\n",
        "network2.compile(optimizer= 'rmsprop', loss = 'binary_crossentropy', metrics=['accuracy'])"
      ],
      "metadata": {
        "id": "wRmpdvRDUyiY"
      },
      "execution_count": 53,
      "outputs": []
    },
    {
      "cell_type": "code",
      "source": [
        "# Model fitting \n",
        "network_history2 = network2.fit(X_train, y_train, batch_size=100, epochs=80)"
      ],
      "metadata": {
        "colab": {
          "base_uri": "https://localhost:8080/"
        },
        "outputId": "31def2a6-a7c5-4580-b3ca-c92745782d04",
        "id": "MQ2fa2CUUyiY"
      },
      "execution_count": 54,
      "outputs": [
        {
          "output_type": "stream",
          "name": "stdout",
          "text": [
            "Epoch 1/80\n",
            "80/80 [==============================] - 1s 3ms/step - loss: 0.7229 - accuracy: 0.5099\n",
            "Epoch 2/80\n",
            "80/80 [==============================] - 0s 3ms/step - loss: 0.6460 - accuracy: 0.7824\n",
            "Epoch 3/80\n",
            "80/80 [==============================] - 0s 3ms/step - loss: 0.5866 - accuracy: 0.7965\n",
            "Epoch 4/80\n",
            "80/80 [==============================] - 0s 3ms/step - loss: 0.5231 - accuracy: 0.7960\n",
            "Epoch 5/80\n",
            "80/80 [==============================] - 0s 3ms/step - loss: 0.4858 - accuracy: 0.7960\n",
            "Epoch 6/80\n",
            "80/80 [==============================] - 0s 3ms/step - loss: 0.4669 - accuracy: 0.7960\n",
            "Epoch 7/80\n",
            "80/80 [==============================] - 0s 3ms/step - loss: 0.4527 - accuracy: 0.7960\n",
            "Epoch 8/80\n",
            "80/80 [==============================] - 0s 3ms/step - loss: 0.4411 - accuracy: 0.7960\n",
            "Epoch 9/80\n",
            "80/80 [==============================] - 0s 3ms/step - loss: 0.4321 - accuracy: 0.7969\n",
            "Epoch 10/80\n",
            "80/80 [==============================] - 0s 3ms/step - loss: 0.4239 - accuracy: 0.7996\n",
            "Epoch 11/80\n",
            "80/80 [==============================] - 0s 3ms/step - loss: 0.4149 - accuracy: 0.8109\n",
            "Epoch 12/80\n",
            "80/80 [==============================] - 0s 3ms/step - loss: 0.4067 - accuracy: 0.8224\n",
            "Epoch 13/80\n",
            "80/80 [==============================] - 0s 3ms/step - loss: 0.4000 - accuracy: 0.8267\n",
            "Epoch 14/80\n",
            "80/80 [==============================] - 0s 3ms/step - loss: 0.3937 - accuracy: 0.8322\n",
            "Epoch 15/80\n",
            "80/80 [==============================] - 0s 3ms/step - loss: 0.3877 - accuracy: 0.8349\n",
            "Epoch 16/80\n",
            "80/80 [==============================] - 0s 3ms/step - loss: 0.3819 - accuracy: 0.8394\n",
            "Epoch 17/80\n",
            "80/80 [==============================] - 0s 3ms/step - loss: 0.3765 - accuracy: 0.8424\n",
            "Epoch 18/80\n",
            "80/80 [==============================] - 0s 3ms/step - loss: 0.3718 - accuracy: 0.8462\n",
            "Epoch 19/80\n",
            "80/80 [==============================] - 0s 3ms/step - loss: 0.3676 - accuracy: 0.8469\n",
            "Epoch 20/80\n",
            "80/80 [==============================] - 0s 3ms/step - loss: 0.3639 - accuracy: 0.8484\n",
            "Epoch 21/80\n",
            "80/80 [==============================] - 0s 3ms/step - loss: 0.3608 - accuracy: 0.8515\n",
            "Epoch 22/80\n",
            "80/80 [==============================] - 0s 3ms/step - loss: 0.3583 - accuracy: 0.8514\n",
            "Epoch 23/80\n",
            "80/80 [==============================] - 0s 3ms/step - loss: 0.3561 - accuracy: 0.8537\n",
            "Epoch 24/80\n",
            "80/80 [==============================] - 0s 3ms/step - loss: 0.3542 - accuracy: 0.8551\n",
            "Epoch 25/80\n",
            "80/80 [==============================] - 0s 3ms/step - loss: 0.3530 - accuracy: 0.8551\n",
            "Epoch 26/80\n",
            "80/80 [==============================] - 0s 3ms/step - loss: 0.3522 - accuracy: 0.8560\n",
            "Epoch 27/80\n",
            "80/80 [==============================] - 0s 3ms/step - loss: 0.3511 - accuracy: 0.8547\n",
            "Epoch 28/80\n",
            "80/80 [==============================] - 0s 3ms/step - loss: 0.3501 - accuracy: 0.8561\n",
            "Epoch 29/80\n",
            "80/80 [==============================] - 0s 3ms/step - loss: 0.3498 - accuracy: 0.8560\n",
            "Epoch 30/80\n",
            "80/80 [==============================] - 0s 3ms/step - loss: 0.3490 - accuracy: 0.8584\n",
            "Epoch 31/80\n",
            "80/80 [==============================] - 0s 3ms/step - loss: 0.3482 - accuracy: 0.8579\n",
            "Epoch 32/80\n",
            "80/80 [==============================] - 0s 3ms/step - loss: 0.3476 - accuracy: 0.8583\n",
            "Epoch 33/80\n",
            "80/80 [==============================] - 0s 3ms/step - loss: 0.3470 - accuracy: 0.8583\n",
            "Epoch 34/80\n",
            "80/80 [==============================] - 0s 3ms/step - loss: 0.3465 - accuracy: 0.8579\n",
            "Epoch 35/80\n",
            "80/80 [==============================] - 0s 3ms/step - loss: 0.3465 - accuracy: 0.8596\n",
            "Epoch 36/80\n",
            "80/80 [==============================] - 0s 3ms/step - loss: 0.3459 - accuracy: 0.8571\n",
            "Epoch 37/80\n",
            "80/80 [==============================] - 0s 3ms/step - loss: 0.3458 - accuracy: 0.8583\n",
            "Epoch 38/80\n",
            "80/80 [==============================] - 0s 3ms/step - loss: 0.3452 - accuracy: 0.8591\n",
            "Epoch 39/80\n",
            "80/80 [==============================] - 0s 3ms/step - loss: 0.3448 - accuracy: 0.8595\n",
            "Epoch 40/80\n",
            "80/80 [==============================] - 0s 3ms/step - loss: 0.3446 - accuracy: 0.8601\n",
            "Epoch 41/80\n",
            "80/80 [==============================] - 0s 3ms/step - loss: 0.3444 - accuracy: 0.8590\n",
            "Epoch 42/80\n",
            "80/80 [==============================] - 0s 3ms/step - loss: 0.3438 - accuracy: 0.8599\n",
            "Epoch 43/80\n",
            "80/80 [==============================] - 0s 3ms/step - loss: 0.3438 - accuracy: 0.8589\n",
            "Epoch 44/80\n",
            "80/80 [==============================] - 0s 3ms/step - loss: 0.3437 - accuracy: 0.8605\n",
            "Epoch 45/80\n",
            "80/80 [==============================] - 0s 3ms/step - loss: 0.3429 - accuracy: 0.8593\n",
            "Epoch 46/80\n",
            "80/80 [==============================] - 0s 3ms/step - loss: 0.3428 - accuracy: 0.8602\n",
            "Epoch 47/80\n",
            "80/80 [==============================] - 0s 3ms/step - loss: 0.3427 - accuracy: 0.8595\n",
            "Epoch 48/80\n",
            "80/80 [==============================] - 0s 3ms/step - loss: 0.3423 - accuracy: 0.8602\n",
            "Epoch 49/80\n",
            "80/80 [==============================] - 0s 3ms/step - loss: 0.3422 - accuracy: 0.8609\n",
            "Epoch 50/80\n",
            "80/80 [==============================] - 0s 3ms/step - loss: 0.3418 - accuracy: 0.8590\n",
            "Epoch 51/80\n",
            "80/80 [==============================] - 0s 3ms/step - loss: 0.3415 - accuracy: 0.8597\n",
            "Epoch 52/80\n",
            "80/80 [==============================] - 0s 3ms/step - loss: 0.3415 - accuracy: 0.8596\n",
            "Epoch 53/80\n",
            "80/80 [==============================] - 0s 3ms/step - loss: 0.3414 - accuracy: 0.8601\n",
            "Epoch 54/80\n",
            "80/80 [==============================] - 0s 3ms/step - loss: 0.3410 - accuracy: 0.8596\n",
            "Epoch 55/80\n",
            "80/80 [==============================] - 0s 3ms/step - loss: 0.3409 - accuracy: 0.8601\n",
            "Epoch 56/80\n",
            "80/80 [==============================] - 0s 3ms/step - loss: 0.3409 - accuracy: 0.8604\n",
            "Epoch 57/80\n",
            "80/80 [==============================] - 0s 3ms/step - loss: 0.3401 - accuracy: 0.8596\n",
            "Epoch 58/80\n",
            "80/80 [==============================] - 0s 3ms/step - loss: 0.3404 - accuracy: 0.8599\n",
            "Epoch 59/80\n",
            "80/80 [==============================] - 0s 3ms/step - loss: 0.3404 - accuracy: 0.8590\n",
            "Epoch 60/80\n",
            "80/80 [==============================] - 0s 3ms/step - loss: 0.3400 - accuracy: 0.8615\n",
            "Epoch 61/80\n",
            "80/80 [==============================] - 0s 3ms/step - loss: 0.3399 - accuracy: 0.8602\n",
            "Epoch 62/80\n",
            "80/80 [==============================] - 0s 3ms/step - loss: 0.3396 - accuracy: 0.8600\n",
            "Epoch 63/80\n",
            "80/80 [==============================] - 0s 3ms/step - loss: 0.3397 - accuracy: 0.8587\n",
            "Epoch 64/80\n",
            "80/80 [==============================] - 0s 3ms/step - loss: 0.3395 - accuracy: 0.8608\n",
            "Epoch 65/80\n",
            "80/80 [==============================] - 0s 3ms/step - loss: 0.3397 - accuracy: 0.8608\n",
            "Epoch 66/80\n",
            "80/80 [==============================] - 0s 3ms/step - loss: 0.3392 - accuracy: 0.8600\n",
            "Epoch 67/80\n",
            "80/80 [==============================] - 0s 3ms/step - loss: 0.3392 - accuracy: 0.8600\n",
            "Epoch 68/80\n",
            "80/80 [==============================] - 0s 3ms/step - loss: 0.3389 - accuracy: 0.8606\n",
            "Epoch 69/80\n",
            "80/80 [==============================] - 0s 3ms/step - loss: 0.3389 - accuracy: 0.8612\n",
            "Epoch 70/80\n",
            "80/80 [==============================] - 0s 3ms/step - loss: 0.3389 - accuracy: 0.8600\n",
            "Epoch 71/80\n",
            "80/80 [==============================] - 0s 3ms/step - loss: 0.3386 - accuracy: 0.8610\n",
            "Epoch 72/80\n",
            "80/80 [==============================] - 0s 3ms/step - loss: 0.3389 - accuracy: 0.8597\n",
            "Epoch 73/80\n",
            "80/80 [==============================] - 0s 3ms/step - loss: 0.3385 - accuracy: 0.8608\n",
            "Epoch 74/80\n",
            "80/80 [==============================] - 0s 3ms/step - loss: 0.3383 - accuracy: 0.8610\n",
            "Epoch 75/80\n",
            "80/80 [==============================] - 0s 3ms/step - loss: 0.3385 - accuracy: 0.8601\n",
            "Epoch 76/80\n",
            "80/80 [==============================] - 0s 3ms/step - loss: 0.3381 - accuracy: 0.8604\n",
            "Epoch 77/80\n",
            "80/80 [==============================] - 0s 3ms/step - loss: 0.3380 - accuracy: 0.8605\n",
            "Epoch 78/80\n",
            "80/80 [==============================] - 0s 3ms/step - loss: 0.3381 - accuracy: 0.8601\n",
            "Epoch 79/80\n",
            "80/80 [==============================] - 0s 3ms/step - loss: 0.3378 - accuracy: 0.8622\n",
            "Epoch 80/80\n",
            "80/80 [==============================] - 0s 3ms/step - loss: 0.3376 - accuracy: 0.8619\n"
          ]
        }
      ]
    },
    {
      "cell_type": "code",
      "source": [
        ""
      ],
      "metadata": {
        "id": "0ApBXnkiU-WA"
      },
      "execution_count": 54,
      "outputs": []
    },
    {
      "cell_type": "code",
      "source": [
        "y_pred = network2.predict(X_test)\n"
      ],
      "metadata": {
        "id": "QI4PJFAeV91-"
      },
      "execution_count": 55,
      "outputs": []
    },
    {
      "cell_type": "code",
      "source": [
        "y_pred"
      ],
      "metadata": {
        "colab": {
          "base_uri": "https://localhost:8080/"
        },
        "outputId": "ca47f40f-053e-41dc-d58a-0cda932166de",
        "id": "dHwTikc9V92G"
      },
      "execution_count": 56,
      "outputs": [
        {
          "output_type": "execute_result",
          "data": {
            "text/plain": [
              "array([[0.21775925],\n",
              "       [0.19391121],\n",
              "       [0.20709568],\n",
              "       ...,\n",
              "       [0.16612604],\n",
              "       [0.17633143],\n",
              "       [0.23589337]], dtype=float32)"
            ]
          },
          "metadata": {},
          "execution_count": 56
        }
      ]
    },
    {
      "cell_type": "code",
      "source": [
        "y_pred = (y_pred >= 0.5)"
      ],
      "metadata": {
        "id": "ApXYKLHaV92G"
      },
      "execution_count": 57,
      "outputs": []
    },
    {
      "cell_type": "code",
      "source": [
        "y_pred"
      ],
      "metadata": {
        "colab": {
          "base_uri": "https://localhost:8080/"
        },
        "outputId": "ea26a0fb-5abe-418a-8247-535f5859112f",
        "id": "7V3pAHyyV92G"
      },
      "execution_count": 58,
      "outputs": [
        {
          "output_type": "execute_result",
          "data": {
            "text/plain": [
              "array([[False],\n",
              "       [False],\n",
              "       [False],\n",
              "       ...,\n",
              "       [False],\n",
              "       [False],\n",
              "       [False]])"
            ]
          },
          "metadata": {},
          "execution_count": 58
        }
      ]
    },
    {
      "cell_type": "code",
      "source": [
        "from sklearn.metrics import confusion_matrix\n",
        "cm = confusion_matrix(y_test, y_pred)\n",
        "cm"
      ],
      "metadata": {
        "colab": {
          "base_uri": "https://localhost:8080/"
        },
        "outputId": "7531da64-e942-4b94-99c3-5361940f95b5",
        "id": "t9k9o0ySV92G"
      },
      "execution_count": 59,
      "outputs": [
        {
          "output_type": "execute_result",
          "data": {
            "text/plain": [
              "array([[1506,   89],\n",
              "       [ 192,  213]])"
            ]
          },
          "metadata": {},
          "execution_count": 59
        }
      ]
    },
    {
      "cell_type": "code",
      "source": [
        "from sklearn.metrics import accuracy_score\n",
        "score=accuracy_score(y_pred,y_test)"
      ],
      "metadata": {
        "id": "exfSntLaV92G"
      },
      "execution_count": 60,
      "outputs": []
    },
    {
      "cell_type": "code",
      "source": [
        "score"
      ],
      "metadata": {
        "colab": {
          "base_uri": "https://localhost:8080/"
        },
        "outputId": "783f7768-6daa-495b-e59c-df7892dff11e",
        "id": "MAU0JBL1V92H"
      },
      "execution_count": 61,
      "outputs": [
        {
          "output_type": "execute_result",
          "data": {
            "text/plain": [
              "0.8595"
            ]
          },
          "metadata": {},
          "execution_count": 61
        }
      ]
    },
    {
      "cell_type": "code",
      "source": [
        "plt.plot(network_history2.history['loss'])\n",
        "plt.plot(network_history2.history['accuracy'])"
      ],
      "metadata": {
        "colab": {
          "base_uri": "https://localhost:8080/",
          "height": 282
        },
        "id": "svzaGkqzWD5Q",
        "outputId": "6815747e-1de9-4e11-95b1-af74f909be0f"
      },
      "execution_count": 62,
      "outputs": [
        {
          "output_type": "execute_result",
          "data": {
            "text/plain": [
              "[<matplotlib.lines.Line2D at 0x7f6a0264c250>]"
            ]
          },
          "metadata": {},
          "execution_count": 62
        },
        {
          "output_type": "display_data",
          "data": {
            "text/plain": [
              "<Figure size 432x288 with 1 Axes>"
            ],
            "image/png": "[encoded data removed]"
          },
          "metadata": {
            "needs_background": "light"
          }
        }
      ]
    },
    {
      "cell_type": "code",
      "source": [
        ""
      ],
      "metadata": {
        "id": "OsRjfg3xW1jy"
      },
      "execution_count": 62,
      "outputs": []
    }
  ]
}